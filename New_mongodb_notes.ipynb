{
 "cells": [
  {
   "cell_type": "code",
   "execution_count": null,
   "metadata": {},
   "outputs": [],
   "source": []
  },
  {
   "cell_type": "code",
   "execution_count": null,
   "metadata": {},
   "outputs": [],
   "source": []
  },
  {
   "cell_type": "markdown",
   "metadata": {},
   "source": [
    "## 1. Introduction to MongoDB\n",
    " What is MongoDB?\n",
    " \n",
    " - MongoDB is a NoSQL database that stores data in a document-oriented format, using\n",
    " JSON-like structures called BSON (Binary JSON).\n",
    " \n",
    " - It's designed to handle large volumes of unstructured, semi-structured, or structured\n",
    " data.\n",
    " MongoDB is flexible, scalable, and perfect for modern applications like e-commerce\n",
    " platforms, social media, and real-time analytics.\n",
    "\n",
    " #### Key Features of MongoDB\n",
    " 1. Document-Oriented: Stores data in key-value pairs within documents (JSON-like\n",
    " structure).\n",
    " 2. Schema-less: Unlike SQL databases, MongoDB doesn’t require a fixed schema.\n",
    " 3. High Scalability: Horizontal scaling using sharding.\n",
    " 4. Indexing: Supports various types of indexes to optimize query performance.\n",
    " 5. Aggregation Framework: For advanced data analysis and transformation.\n",
    " 6. Replication: Provides high availability via replica sets.\n",
    " 7. Rich Query Language: Supports CRUD operations, filtering, sorting, and joins using\n",
    " $lookup ."
   ]
  },
  {
   "cell_type": "markdown",
   "metadata": {},
   "source": [
    "## What is BSON Format?\n",
    " BSON (Binary JSON) is the data storage and network transfer format used by MongoDB.\n",
    " While it's similar to JSON (JavaScript Object Notation), it has a few key differences:\n",
    "\n",
    " Key Characteristics of BSON:\n",
    " - Binary Representation: BSON is optimized for binary data and is more compact and\n",
    " efficient than plain JSON, especially for data transfer.\n",
    " - Supports Extra Data Types: While JSON supports basic types like \n",
    "array , BSON supports additional types such as:\n",
    " - Date: A native date type.\n",
    " - Binary Data: For files or blobs.\n",
    " - ObjectId: A unique ID for MongoDB documents.\n",
    " string , \n",
    "number , and\n",
    " - Efficient Size: BSON includes metadata (like the length of fields) for fast parsing and\n",
    " searching.\n",
    "\n",
    "\n",
    " - When MongoDB stores this data, it’s converted into binary:\n",
    "\n",
    "#### 2. MongoDB stores this in BSON format internally:\n",
    "\n",
    "- You don’t directly see BSON, but this is what MongoDB uses behind the scenes to\n",
    " store the document."
   ]
  },
  {
   "cell_type": "code",
   "execution_count": null,
   "metadata": {},
   "outputs": [],
   "source": [
    "#json foramt\n",
    "{\n",
    " \"name\": \"Dhanunjaya\",\n",
    " \"age\": 25,\n",
    "\"date\": \"2024-11-29T12:00:00Z\"\n",
    " }\n",
    "\n",
    "#bson format\n",
    "  \\x16\\x00\\x00\\x00\\x02name\\x00\\x0a\\x00\\x00\\x00Dhanunjaya\\x00\\x10age\\x00\\x19\\x00\\x00\\x00\\"
   ]
  },
  {
   "cell_type": "markdown",
   "metadata": {},
   "source": [
    "## 2. Key Features of MongoDB Explained\n",
    "\n",
    " Here’s an easy-to-understand breakdown of the key features:\n",
    "\n",
    " 1. Document-Oriented\n",
    "\n",
    " - MongoDB stores data in documents instead of rows and columns.\n",
    " - Each document is a JSON-like object containing key-value pairs.\n",
    " - Advantage: Flexible structure—you can store complex nested data easily\n",
    "\n",
    "2. Schema-less\n",
    " - No predefined structure is required for data.\n",
    " - Each document in a collection can have a different structure.\n",
    " - Advantage: Easier to adapt to changes in data models"
   ]
  },
  {
   "cell_type": "markdown",
   "metadata": {},
   "source": [
    "# using mongoshell\n",
    "\n",
    "- mongosh #Open your terminal or MongoDB Compass\n",
    "- download the MongoDB Community Server\n",
    "- download the mongo shell and put it in the monogo folder and give bin folder path to the environment variable"
   ]
  },
  {
   "cell_type": "code",
   "execution_count": null,
   "metadata": {},
   "outputs": [],
   "source": [
    "#Creating a Database\n",
    "use testdb\n",
    "\n",
    "#creating collections\n",
    "db.createCollection(\"users\")\n",
    "\n",
    "#inserting documents\n",
    " db.users.insertOne({\n",
    " \"name\": \"Dhanunjaya\",\n",
    " \"role\": \"QA Tester\",\n",
    " \"experience\": 0\n",
    " })\n",
    "\n",
    "#viewing all documents\n",
    "db.users.find()\n"
   ]
  },
  {
   "cell_type": "markdown",
   "metadata": {},
   "source": [
    "# using python"
   ]
  },
  {
   "cell_type": "code",
   "execution_count": 2,
   "metadata": {},
   "outputs": [
    {
     "name": "stdout",
     "output_type": "stream",
     "text": [
      "Collecting pymongo\n",
      "  Using cached pymongo-4.10.1-cp311-cp311-win_amd64.whl.metadata (22 kB)\n",
      "Collecting dnspython<3.0.0,>=1.16.0 (from pymongo)\n",
      "  Using cached dnspython-2.7.0-py3-none-any.whl.metadata (5.8 kB)\n",
      "Using cached pymongo-4.10.1-cp311-cp311-win_amd64.whl (876 kB)\n",
      "Using cached dnspython-2.7.0-py3-none-any.whl (313 kB)\n",
      "Installing collected packages: dnspython, pymongo\n",
      "Successfully installed dnspython-2.7.0 pymongo-4.10.1\n",
      "Note: you may need to restart the kernel to use updated packages.\n"
     ]
    },
    {
     "name": "stderr",
     "output_type": "stream",
     "text": [
      "\n",
      "[notice] A new release of pip is available: 24.2 -> 24.3.1\n",
      "[notice] To update, run: python.exe -m pip install --upgrade pip\n"
     ]
    }
   ],
   "source": [
    "pip install pymongo"
   ]
  },
  {
   "cell_type": "code",
   "execution_count": 1,
   "metadata": {},
   "outputs": [],
   "source": [
    "# connection to the mongodb\n",
    "from pymongo import MongoClient\n",
    "# Connect to the MongoDB server (default: localhost:27017)\n",
    "client = MongoClient(\"mongodb://localhost:27017/\")"
   ]
  },
  {
   "cell_type": "code",
   "execution_count": 2,
   "metadata": {},
   "outputs": [],
   "source": [
    "#create a new db and new collection\n",
    "db = client['dj_test'] #db name , which contains the collections\n",
    "\n",
    "collection = db['tp_one'] #collection name, which contains the documents"
   ]
  },
  {
   "cell_type": "code",
   "execution_count": null,
   "metadata": {},
   "outputs": [
    {
     "name": "stdout",
     "output_type": "stream",
     "text": [
      "Inserted Document ID: 67497e6603b835eca6c32adc\n"
     ]
    }
   ],
   "source": [
    "# Insert a document\n",
    "user_data = {\n",
    "\"name\": \"Dhanunjaya\",\n",
    "\"role\": \"QA Tester\",\n",
    "\"experience\": 0\n",
    "}\n",
    "\n",
    "result = collection.insert_one(user_data)   #insert_one document \n",
    "print(f\"Inserted Document ID: {result.inserted_id}\")"
   ]
  },
  {
   "cell_type": "code",
   "execution_count": null,
   "metadata": {},
   "outputs": [
    {
     "name": "stdout",
     "output_type": "stream",
     "text": [
      "{'_id': ObjectId('67497e6603b835eca6c32adc'), 'name': 'Dhanunjaya', 'role': 'QA Tester', 'experience': 0}\n"
     ]
    }
   ],
   "source": [
    "# Query the collection\n",
    "for user in collection.find(): #find to retrieve the documents \n",
    "    print(user)"
   ]
  },
  {
   "cell_type": "code",
   "execution_count": 11,
   "metadata": {},
   "outputs": [],
   "source": [
    "#CRUD Operations , create, read, update, delete"
   ]
  },
  {
   "cell_type": "code",
   "execution_count": null,
   "metadata": {},
   "outputs": [
    {
     "data": {
      "text/plain": [
       "InsertManyResult([ObjectId('6749850b03b835eca6c32ade'), ObjectId('6749850b03b835eca6c32adf')], acknowledged=True)"
      ]
     },
     "execution_count": 10,
     "metadata": {},
     "output_type": "execute_result"
    }
   ],
   "source": [
    "#create - insert one document\n",
    "\n",
    "collection.insert_one(\n",
    "    {\"name\": \"Dhanunjaya\",\n",
    " \"role\": \"QA Tester\",\n",
    " \"experience\": 0\n",
    " })\n",
    " \n",
    " \n",
    " #create - insert many documents\n",
    "\n",
    "collection.insert_many(\n",
    "    [\n",
    "        { \"name\": \"Alice\", \"role\": \"Developer\", \"experience\": 2 },\n",
    " { \"name\": \"Bob\", \"role\": \"Tester\", \"experience\": 1 }\n",
    "    ]\n",
    ")"
   ]
  },
  {
   "cell_type": "code",
   "execution_count": null,
   "metadata": {},
   "outputs": [
    {
     "name": "stdout",
     "output_type": "stream",
     "text": [
      "{'_id': ObjectId('67497e6603b835eca6c32adc'), 'name': 'Dhanunjaya', 'role': 'QA Tester', 'experience': 0}\n",
      "{'_id': ObjectId('674984d703b835eca6c32add'), 'name': 'Dhanunjaya', 'role': 'QA Tester', 'experience': 0}\n",
      "{'_id': ObjectId('6749850b03b835eca6c32ade'), 'name': 'Alice', 'role': 'Developer', 'experience': 2}\n",
      "{'_id': ObjectId('6749850b03b835eca6c32adf'), 'name': 'Bob', 'role': 'Tester', 'experience': 1}\n"
     ]
    }
   ],
   "source": [
    "# read operations\n",
    "\n",
    "for i in collection.find(): #collection with find()\n",
    "    print(i)"
   ]
  },
  {
   "cell_type": "code",
   "execution_count": 18,
   "metadata": {},
   "outputs": [
    {
     "name": "stdout",
     "output_type": "stream",
     "text": [
      "{'_id': ObjectId('6749850b03b835eca6c32ade'), 'name': 'Alice', 'role': 'Developer', 'experience': 2}\n"
     ]
    }
   ],
   "source": [
    "# read operations with specific query\n",
    "\n",
    "for i in collection.find({'name' : 'Alice', 'role':'Developer' }): #collection with find()\n",
    "    print(i)"
   ]
  },
  {
   "cell_type": "code",
   "execution_count": null,
   "metadata": {},
   "outputs": [
    {
     "ename": "OperationFailure",
     "evalue": "Cannot do exclusion on field role in inclusion projection, full error: {'ok': 0.0, 'errmsg': 'Cannot do exclusion on field role in inclusion projection', 'code': 31254, 'codeName': 'Location31254'}",
     "output_type": "error",
     "traceback": [
      "\u001b[1;31m---------------------------------------------------------------------------\u001b[0m",
      "\u001b[1;31mOperationFailure\u001b[0m                          Traceback (most recent call last)",
      "Cell \u001b[1;32mIn[19], line 3\u001b[0m\n\u001b[0;32m      1\u001b[0m \u001b[38;5;66;03m# to get specific fields only\u001b[39;00m\n\u001b[1;32m----> 3\u001b[0m \u001b[38;5;28;43;01mfor\u001b[39;49;00m\u001b[43m \u001b[49m\u001b[43mi\u001b[49m\u001b[43m \u001b[49m\u001b[38;5;129;43;01min\u001b[39;49;00m\u001b[43m \u001b[49m\u001b[43mcollection\u001b[49m\u001b[38;5;241;43m.\u001b[39;49m\u001b[43mfind\u001b[49m\u001b[43m(\u001b[49m\u001b[43m{\u001b[49m\u001b[43m}\u001b[49m\u001b[43m,\u001b[49m\u001b[43m \u001b[49m\u001b[43m{\u001b[49m\u001b[38;5;124;43m'\u001b[39;49m\u001b[38;5;124;43mname\u001b[39;49m\u001b[38;5;124;43m'\u001b[39;49m\u001b[43m:\u001b[49m\u001b[38;5;241;43m1\u001b[39;49m\u001b[43m,\u001b[49m\u001b[43m \u001b[49m\u001b[38;5;124;43m'\u001b[39;49m\u001b[38;5;124;43mrole\u001b[39;49m\u001b[38;5;124;43m'\u001b[39;49m\u001b[43m:\u001b[49m\u001b[38;5;241;43m0\u001b[39;49m\u001b[43m}\u001b[49m\u001b[43m)\u001b[49m\u001b[43m:\u001b[49m\n\u001b[0;32m      4\u001b[0m \u001b[43m    \u001b[49m\u001b[38;5;28;43mprint\u001b[39;49m\u001b[43m(\u001b[49m\u001b[43mi\u001b[49m\u001b[43m)\u001b[49m\n",
      "File \u001b[1;32mc:\\Users\\dhana\\AppData\\Local\\Programs\\Python\\Python311\\Lib\\site-packages\\pymongo\\synchronous\\cursor.py:1281\u001b[0m, in \u001b[0;36mCursor.__next__\u001b[1;34m(self)\u001b[0m\n\u001b[0;32m   1280\u001b[0m \u001b[38;5;28;01mdef\u001b[39;00m \u001b[38;5;21m__next__\u001b[39m(\u001b[38;5;28mself\u001b[39m) \u001b[38;5;241m-\u001b[39m\u001b[38;5;241m>\u001b[39m _DocumentType:\n\u001b[1;32m-> 1281\u001b[0m     \u001b[38;5;28;01mreturn\u001b[39;00m \u001b[38;5;28;43mself\u001b[39;49m\u001b[38;5;241;43m.\u001b[39;49m\u001b[43mnext\u001b[49m\u001b[43m(\u001b[49m\u001b[43m)\u001b[49m\n",
      "File \u001b[1;32mc:\\Users\\dhana\\AppData\\Local\\Programs\\Python\\Python311\\Lib\\site-packages\\pymongo\\synchronous\\cursor.py:1257\u001b[0m, in \u001b[0;36mCursor.next\u001b[1;34m(self)\u001b[0m\n\u001b[0;32m   1255\u001b[0m \u001b[38;5;28;01mif\u001b[39;00m \u001b[38;5;28mself\u001b[39m\u001b[38;5;241m.\u001b[39m_empty:\n\u001b[0;32m   1256\u001b[0m     \u001b[38;5;28;01mraise\u001b[39;00m \u001b[38;5;167;01mStopIteration\u001b[39;00m\n\u001b[1;32m-> 1257\u001b[0m \u001b[38;5;28;01mif\u001b[39;00m \u001b[38;5;28mlen\u001b[39m(\u001b[38;5;28mself\u001b[39m\u001b[38;5;241m.\u001b[39m_data) \u001b[38;5;129;01mor\u001b[39;00m \u001b[38;5;28;43mself\u001b[39;49m\u001b[38;5;241;43m.\u001b[39;49m\u001b[43m_refresh\u001b[49m\u001b[43m(\u001b[49m\u001b[43m)\u001b[49m:\n\u001b[0;32m   1258\u001b[0m     \u001b[38;5;28;01mreturn\u001b[39;00m \u001b[38;5;28mself\u001b[39m\u001b[38;5;241m.\u001b[39m_data\u001b[38;5;241m.\u001b[39mpopleft()\n\u001b[0;32m   1259\u001b[0m \u001b[38;5;28;01melse\u001b[39;00m:\n",
      "File \u001b[1;32mc:\\Users\\dhana\\AppData\\Local\\Programs\\Python\\Python311\\Lib\\site-packages\\pymongo\\synchronous\\cursor.py:1205\u001b[0m, in \u001b[0;36mCursor._refresh\u001b[1;34m(self)\u001b[0m\n\u001b[0;32m   1183\u001b[0m         \u001b[38;5;28;01mraise\u001b[39;00m InvalidOperation(\n\u001b[0;32m   1184\u001b[0m             \u001b[38;5;124m\"\u001b[39m\u001b[38;5;124mPassing a \u001b[39m\u001b[38;5;124m'\u001b[39m\u001b[38;5;124mhint\u001b[39m\u001b[38;5;124m'\u001b[39m\u001b[38;5;124m is required when using the min/max query\u001b[39m\u001b[38;5;124m\"\u001b[39m\n\u001b[0;32m   1185\u001b[0m             \u001b[38;5;124m\"\u001b[39m\u001b[38;5;124m option to ensure the query utilizes the correct index\u001b[39m\u001b[38;5;124m\"\u001b[39m\n\u001b[0;32m   1186\u001b[0m         )\n\u001b[0;32m   1187\u001b[0m     q \u001b[38;5;241m=\u001b[39m \u001b[38;5;28mself\u001b[39m\u001b[38;5;241m.\u001b[39m_query_class(\n\u001b[0;32m   1188\u001b[0m         \u001b[38;5;28mself\u001b[39m\u001b[38;5;241m.\u001b[39m_query_flags,\n\u001b[0;32m   1189\u001b[0m         \u001b[38;5;28mself\u001b[39m\u001b[38;5;241m.\u001b[39m_collection\u001b[38;5;241m.\u001b[39mdatabase\u001b[38;5;241m.\u001b[39mname,\n\u001b[1;32m   (...)\u001b[0m\n\u001b[0;32m   1203\u001b[0m         \u001b[38;5;28mself\u001b[39m\u001b[38;5;241m.\u001b[39m_exhaust,\n\u001b[0;32m   1204\u001b[0m     )\n\u001b[1;32m-> 1205\u001b[0m     \u001b[38;5;28;43mself\u001b[39;49m\u001b[38;5;241;43m.\u001b[39;49m\u001b[43m_send_message\u001b[49m\u001b[43m(\u001b[49m\u001b[43mq\u001b[49m\u001b[43m)\u001b[49m\n\u001b[0;32m   1206\u001b[0m \u001b[38;5;28;01melif\u001b[39;00m \u001b[38;5;28mself\u001b[39m\u001b[38;5;241m.\u001b[39m_id:  \u001b[38;5;66;03m# Get More\u001b[39;00m\n\u001b[0;32m   1207\u001b[0m     \u001b[38;5;28;01mif\u001b[39;00m \u001b[38;5;28mself\u001b[39m\u001b[38;5;241m.\u001b[39m_limit:\n",
      "File \u001b[1;32mc:\\Users\\dhana\\AppData\\Local\\Programs\\Python\\Python311\\Lib\\site-packages\\pymongo\\synchronous\\cursor.py:1100\u001b[0m, in \u001b[0;36mCursor._send_message\u001b[1;34m(self, operation)\u001b[0m\n\u001b[0;32m   1097\u001b[0m     \u001b[38;5;28;01mraise\u001b[39;00m InvalidOperation(\u001b[38;5;124m\"\u001b[39m\u001b[38;5;124mexhaust cursors do not support auto encryption\u001b[39m\u001b[38;5;124m\"\u001b[39m)\n\u001b[0;32m   1099\u001b[0m \u001b[38;5;28;01mtry\u001b[39;00m:\n\u001b[1;32m-> 1100\u001b[0m     response \u001b[38;5;241m=\u001b[39m \u001b[43mclient\u001b[49m\u001b[38;5;241;43m.\u001b[39;49m\u001b[43m_run_operation\u001b[49m\u001b[43m(\u001b[49m\n\u001b[0;32m   1101\u001b[0m \u001b[43m        \u001b[49m\u001b[43moperation\u001b[49m\u001b[43m,\u001b[49m\u001b[43m \u001b[49m\u001b[38;5;28;43mself\u001b[39;49m\u001b[38;5;241;43m.\u001b[39;49m\u001b[43m_unpack_response\u001b[49m\u001b[43m,\u001b[49m\u001b[43m \u001b[49m\u001b[43maddress\u001b[49m\u001b[38;5;241;43m=\u001b[39;49m\u001b[38;5;28;43mself\u001b[39;49m\u001b[38;5;241;43m.\u001b[39;49m\u001b[43m_address\u001b[49m\n\u001b[0;32m   1102\u001b[0m \u001b[43m    \u001b[49m\u001b[43m)\u001b[49m\n\u001b[0;32m   1103\u001b[0m \u001b[38;5;28;01mexcept\u001b[39;00m OperationFailure \u001b[38;5;28;01mas\u001b[39;00m exc:\n\u001b[0;32m   1104\u001b[0m     \u001b[38;5;28;01mif\u001b[39;00m exc\u001b[38;5;241m.\u001b[39mcode \u001b[38;5;129;01min\u001b[39;00m _CURSOR_CLOSED_ERRORS \u001b[38;5;129;01mor\u001b[39;00m \u001b[38;5;28mself\u001b[39m\u001b[38;5;241m.\u001b[39m_exhaust:\n\u001b[0;32m   1105\u001b[0m         \u001b[38;5;66;03m# Don't send killCursors because the cursor is already closed.\u001b[39;00m\n",
      "File \u001b[1;32mc:\\Users\\dhana\\AppData\\Local\\Programs\\Python\\Python311\\Lib\\site-packages\\pymongo\\_csot.py:119\u001b[0m, in \u001b[0;36mapply.<locals>.csot_wrapper\u001b[1;34m(self, *args, **kwargs)\u001b[0m\n\u001b[0;32m    117\u001b[0m         \u001b[38;5;28;01mwith\u001b[39;00m _TimeoutContext(timeout):\n\u001b[0;32m    118\u001b[0m             \u001b[38;5;28;01mreturn\u001b[39;00m func(\u001b[38;5;28mself\u001b[39m, \u001b[38;5;241m*\u001b[39margs, \u001b[38;5;241m*\u001b[39m\u001b[38;5;241m*\u001b[39mkwargs)\n\u001b[1;32m--> 119\u001b[0m \u001b[38;5;28;01mreturn\u001b[39;00m \u001b[43mfunc\u001b[49m\u001b[43m(\u001b[49m\u001b[38;5;28;43mself\u001b[39;49m\u001b[43m,\u001b[49m\u001b[43m \u001b[49m\u001b[38;5;241;43m*\u001b[39;49m\u001b[43margs\u001b[49m\u001b[43m,\u001b[49m\u001b[43m \u001b[49m\u001b[38;5;241;43m*\u001b[39;49m\u001b[38;5;241;43m*\u001b[39;49m\u001b[43mkwargs\u001b[49m\u001b[43m)\u001b[49m\n",
      "File \u001b[1;32mc:\\Users\\dhana\\AppData\\Local\\Programs\\Python\\Python311\\Lib\\site-packages\\pymongo\\synchronous\\mongo_client.py:1754\u001b[0m, in \u001b[0;36mMongoClient._run_operation\u001b[1;34m(self, operation, unpack_res, address)\u001b[0m\n\u001b[0;32m   1744\u001b[0m     operation\u001b[38;5;241m.\u001b[39mreset()  \u001b[38;5;66;03m# Reset op in case of retry.\u001b[39;00m\n\u001b[0;32m   1745\u001b[0m     \u001b[38;5;28;01mreturn\u001b[39;00m server\u001b[38;5;241m.\u001b[39mrun_operation(\n\u001b[0;32m   1746\u001b[0m         conn,\n\u001b[0;32m   1747\u001b[0m         operation,\n\u001b[1;32m   (...)\u001b[0m\n\u001b[0;32m   1751\u001b[0m         \u001b[38;5;28mself\u001b[39m,\n\u001b[0;32m   1752\u001b[0m     )\n\u001b[1;32m-> 1754\u001b[0m \u001b[38;5;28;01mreturn\u001b[39;00m \u001b[38;5;28;43mself\u001b[39;49m\u001b[38;5;241;43m.\u001b[39;49m\u001b[43m_retryable_read\u001b[49m\u001b[43m(\u001b[49m\n\u001b[0;32m   1755\u001b[0m \u001b[43m    \u001b[49m\u001b[43m_cmd\u001b[49m\u001b[43m,\u001b[49m\n\u001b[0;32m   1756\u001b[0m \u001b[43m    \u001b[49m\u001b[43moperation\u001b[49m\u001b[38;5;241;43m.\u001b[39;49m\u001b[43mread_preference\u001b[49m\u001b[43m,\u001b[49m\n\u001b[0;32m   1757\u001b[0m \u001b[43m    \u001b[49m\u001b[43moperation\u001b[49m\u001b[38;5;241;43m.\u001b[39;49m\u001b[43msession\u001b[49m\u001b[43m,\u001b[49m\u001b[43m  \u001b[49m\u001b[38;5;66;43;03m# type: ignore[arg-type]\u001b[39;49;00m\n\u001b[0;32m   1758\u001b[0m \u001b[43m    \u001b[49m\u001b[43maddress\u001b[49m\u001b[38;5;241;43m=\u001b[39;49m\u001b[43maddress\u001b[49m\u001b[43m,\u001b[49m\n\u001b[0;32m   1759\u001b[0m \u001b[43m    \u001b[49m\u001b[43mretryable\u001b[49m\u001b[38;5;241;43m=\u001b[39;49m\u001b[38;5;28;43misinstance\u001b[39;49m\u001b[43m(\u001b[49m\u001b[43moperation\u001b[49m\u001b[43m,\u001b[49m\u001b[43m \u001b[49m\u001b[43m_Query\u001b[49m\u001b[43m)\u001b[49m\u001b[43m,\u001b[49m\n\u001b[0;32m   1760\u001b[0m \u001b[43m    \u001b[49m\u001b[43moperation\u001b[49m\u001b[38;5;241;43m=\u001b[39;49m\u001b[43moperation\u001b[49m\u001b[38;5;241;43m.\u001b[39;49m\u001b[43mname\u001b[49m\u001b[43m,\u001b[49m\n\u001b[0;32m   1761\u001b[0m \u001b[43m\u001b[49m\u001b[43m)\u001b[49m\n",
      "File \u001b[1;32mc:\\Users\\dhana\\AppData\\Local\\Programs\\Python\\Python311\\Lib\\site-packages\\pymongo\\synchronous\\mongo_client.py:1863\u001b[0m, in \u001b[0;36mMongoClient._retryable_read\u001b[1;34m(self, func, read_pref, session, operation, address, retryable, operation_id)\u001b[0m\n\u001b[0;32m   1858\u001b[0m \u001b[38;5;66;03m# Ensure that the client supports retrying on reads and there is no session in\u001b[39;00m\n\u001b[0;32m   1859\u001b[0m \u001b[38;5;66;03m# transaction, otherwise, we will not support retry behavior for this call.\u001b[39;00m\n\u001b[0;32m   1860\u001b[0m retryable \u001b[38;5;241m=\u001b[39m \u001b[38;5;28mbool\u001b[39m(\n\u001b[0;32m   1861\u001b[0m     retryable \u001b[38;5;129;01mand\u001b[39;00m \u001b[38;5;28mself\u001b[39m\u001b[38;5;241m.\u001b[39moptions\u001b[38;5;241m.\u001b[39mretry_reads \u001b[38;5;129;01mand\u001b[39;00m \u001b[38;5;129;01mnot\u001b[39;00m (session \u001b[38;5;129;01mand\u001b[39;00m session\u001b[38;5;241m.\u001b[39min_transaction)\n\u001b[0;32m   1862\u001b[0m )\n\u001b[1;32m-> 1863\u001b[0m \u001b[38;5;28;01mreturn\u001b[39;00m \u001b[38;5;28;43mself\u001b[39;49m\u001b[38;5;241;43m.\u001b[39;49m\u001b[43m_retry_internal\u001b[49m\u001b[43m(\u001b[49m\n\u001b[0;32m   1864\u001b[0m \u001b[43m    \u001b[49m\u001b[43mfunc\u001b[49m\u001b[43m,\u001b[49m\n\u001b[0;32m   1865\u001b[0m \u001b[43m    \u001b[49m\u001b[43msession\u001b[49m\u001b[43m,\u001b[49m\n\u001b[0;32m   1866\u001b[0m \u001b[43m    \u001b[49m\u001b[38;5;28;43;01mNone\u001b[39;49;00m\u001b[43m,\u001b[49m\n\u001b[0;32m   1867\u001b[0m \u001b[43m    \u001b[49m\u001b[43moperation\u001b[49m\u001b[43m,\u001b[49m\n\u001b[0;32m   1868\u001b[0m \u001b[43m    \u001b[49m\u001b[43mis_read\u001b[49m\u001b[38;5;241;43m=\u001b[39;49m\u001b[38;5;28;43;01mTrue\u001b[39;49;00m\u001b[43m,\u001b[49m\n\u001b[0;32m   1869\u001b[0m \u001b[43m    \u001b[49m\u001b[43maddress\u001b[49m\u001b[38;5;241;43m=\u001b[39;49m\u001b[43maddress\u001b[49m\u001b[43m,\u001b[49m\n\u001b[0;32m   1870\u001b[0m \u001b[43m    \u001b[49m\u001b[43mread_pref\u001b[49m\u001b[38;5;241;43m=\u001b[39;49m\u001b[43mread_pref\u001b[49m\u001b[43m,\u001b[49m\n\u001b[0;32m   1871\u001b[0m \u001b[43m    \u001b[49m\u001b[43mretryable\u001b[49m\u001b[38;5;241;43m=\u001b[39;49m\u001b[43mretryable\u001b[49m\u001b[43m,\u001b[49m\n\u001b[0;32m   1872\u001b[0m \u001b[43m    \u001b[49m\u001b[43moperation_id\u001b[49m\u001b[38;5;241;43m=\u001b[39;49m\u001b[43moperation_id\u001b[49m\u001b[43m,\u001b[49m\n\u001b[0;32m   1873\u001b[0m \u001b[43m\u001b[49m\u001b[43m)\u001b[49m\n",
      "File \u001b[1;32mc:\\Users\\dhana\\AppData\\Local\\Programs\\Python\\Python311\\Lib\\site-packages\\pymongo\\_csot.py:119\u001b[0m, in \u001b[0;36mapply.<locals>.csot_wrapper\u001b[1;34m(self, *args, **kwargs)\u001b[0m\n\u001b[0;32m    117\u001b[0m         \u001b[38;5;28;01mwith\u001b[39;00m _TimeoutContext(timeout):\n\u001b[0;32m    118\u001b[0m             \u001b[38;5;28;01mreturn\u001b[39;00m func(\u001b[38;5;28mself\u001b[39m, \u001b[38;5;241m*\u001b[39margs, \u001b[38;5;241m*\u001b[39m\u001b[38;5;241m*\u001b[39mkwargs)\n\u001b[1;32m--> 119\u001b[0m \u001b[38;5;28;01mreturn\u001b[39;00m \u001b[43mfunc\u001b[49m\u001b[43m(\u001b[49m\u001b[38;5;28;43mself\u001b[39;49m\u001b[43m,\u001b[49m\u001b[43m \u001b[49m\u001b[38;5;241;43m*\u001b[39;49m\u001b[43margs\u001b[49m\u001b[43m,\u001b[49m\u001b[43m \u001b[49m\u001b[38;5;241;43m*\u001b[39;49m\u001b[38;5;241;43m*\u001b[39;49m\u001b[43mkwargs\u001b[49m\u001b[43m)\u001b[49m\n",
      "File \u001b[1;32mc:\\Users\\dhana\\AppData\\Local\\Programs\\Python\\Python311\\Lib\\site-packages\\pymongo\\synchronous\\mongo_client.py:1830\u001b[0m, in \u001b[0;36mMongoClient._retry_internal\u001b[1;34m(self, func, session, bulk, operation, is_read, address, read_pref, retryable, operation_id)\u001b[0m\n\u001b[0;32m   1793\u001b[0m \u001b[38;5;129m@_csot\u001b[39m\u001b[38;5;241m.\u001b[39mapply\n\u001b[0;32m   1794\u001b[0m \u001b[38;5;28;01mdef\u001b[39;00m \u001b[38;5;21m_retry_internal\u001b[39m(\n\u001b[0;32m   1795\u001b[0m     \u001b[38;5;28mself\u001b[39m,\n\u001b[1;32m   (...)\u001b[0m\n\u001b[0;32m   1804\u001b[0m     operation_id: Optional[\u001b[38;5;28mint\u001b[39m] \u001b[38;5;241m=\u001b[39m \u001b[38;5;28;01mNone\u001b[39;00m,\n\u001b[0;32m   1805\u001b[0m ) \u001b[38;5;241m-\u001b[39m\u001b[38;5;241m>\u001b[39m T:\n\u001b[0;32m   1806\u001b[0m \u001b[38;5;250m    \u001b[39m\u001b[38;5;124;03m\"\"\"Internal retryable helper for all client transactions.\u001b[39;00m\n\u001b[0;32m   1807\u001b[0m \n\u001b[0;32m   1808\u001b[0m \u001b[38;5;124;03m    :param func: Callback function we want to retry\u001b[39;00m\n\u001b[1;32m   (...)\u001b[0m\n\u001b[0;32m   1817\u001b[0m \u001b[38;5;124;03m    :return: Output of the calling func()\u001b[39;00m\n\u001b[0;32m   1818\u001b[0m \u001b[38;5;124;03m    \"\"\"\u001b[39;00m\n\u001b[0;32m   1819\u001b[0m     \u001b[38;5;28;01mreturn\u001b[39;00m \u001b[43m_ClientConnectionRetryable\u001b[49m\u001b[43m(\u001b[49m\n\u001b[0;32m   1820\u001b[0m \u001b[43m        \u001b[49m\u001b[43mmongo_client\u001b[49m\u001b[38;5;241;43m=\u001b[39;49m\u001b[38;5;28;43mself\u001b[39;49m\u001b[43m,\u001b[49m\n\u001b[0;32m   1821\u001b[0m \u001b[43m        \u001b[49m\u001b[43mfunc\u001b[49m\u001b[38;5;241;43m=\u001b[39;49m\u001b[43mfunc\u001b[49m\u001b[43m,\u001b[49m\n\u001b[0;32m   1822\u001b[0m \u001b[43m        \u001b[49m\u001b[43mbulk\u001b[49m\u001b[38;5;241;43m=\u001b[39;49m\u001b[43mbulk\u001b[49m\u001b[43m,\u001b[49m\n\u001b[0;32m   1823\u001b[0m \u001b[43m        \u001b[49m\u001b[43moperation\u001b[49m\u001b[38;5;241;43m=\u001b[39;49m\u001b[43moperation\u001b[49m\u001b[43m,\u001b[49m\n\u001b[0;32m   1824\u001b[0m \u001b[43m        \u001b[49m\u001b[43mis_read\u001b[49m\u001b[38;5;241;43m=\u001b[39;49m\u001b[43mis_read\u001b[49m\u001b[43m,\u001b[49m\n\u001b[0;32m   1825\u001b[0m \u001b[43m        \u001b[49m\u001b[43msession\u001b[49m\u001b[38;5;241;43m=\u001b[39;49m\u001b[43msession\u001b[49m\u001b[43m,\u001b[49m\n\u001b[0;32m   1826\u001b[0m \u001b[43m        \u001b[49m\u001b[43mread_pref\u001b[49m\u001b[38;5;241;43m=\u001b[39;49m\u001b[43mread_pref\u001b[49m\u001b[43m,\u001b[49m\n\u001b[0;32m   1827\u001b[0m \u001b[43m        \u001b[49m\u001b[43maddress\u001b[49m\u001b[38;5;241;43m=\u001b[39;49m\u001b[43maddress\u001b[49m\u001b[43m,\u001b[49m\n\u001b[0;32m   1828\u001b[0m \u001b[43m        \u001b[49m\u001b[43mretryable\u001b[49m\u001b[38;5;241;43m=\u001b[39;49m\u001b[43mretryable\u001b[49m\u001b[43m,\u001b[49m\n\u001b[0;32m   1829\u001b[0m \u001b[43m        \u001b[49m\u001b[43moperation_id\u001b[49m\u001b[38;5;241;43m=\u001b[39;49m\u001b[43moperation_id\u001b[49m\u001b[43m,\u001b[49m\n\u001b[1;32m-> 1830\u001b[0m \u001b[43m    \u001b[49m\u001b[43m)\u001b[49m\u001b[38;5;241;43m.\u001b[39;49m\u001b[43mrun\u001b[49m\u001b[43m(\u001b[49m\u001b[43m)\u001b[49m\n",
      "File \u001b[1;32mc:\\Users\\dhana\\AppData\\Local\\Programs\\Python\\Python311\\Lib\\site-packages\\pymongo\\synchronous\\mongo_client.py:2554\u001b[0m, in \u001b[0;36m_ClientConnectionRetryable.run\u001b[1;34m(self)\u001b[0m\n\u001b[0;32m   2552\u001b[0m \u001b[38;5;28mself\u001b[39m\u001b[38;5;241m.\u001b[39m_check_last_error(check_csot\u001b[38;5;241m=\u001b[39m\u001b[38;5;28;01mTrue\u001b[39;00m)\n\u001b[0;32m   2553\u001b[0m \u001b[38;5;28;01mtry\u001b[39;00m:\n\u001b[1;32m-> 2554\u001b[0m     \u001b[38;5;28;01mreturn\u001b[39;00m \u001b[38;5;28;43mself\u001b[39;49m\u001b[38;5;241;43m.\u001b[39;49m\u001b[43m_read\u001b[49m\u001b[43m(\u001b[49m\u001b[43m)\u001b[49m \u001b[38;5;28;01mif\u001b[39;00m \u001b[38;5;28mself\u001b[39m\u001b[38;5;241m.\u001b[39m_is_read \u001b[38;5;28;01melse\u001b[39;00m \u001b[38;5;28mself\u001b[39m\u001b[38;5;241m.\u001b[39m_write()\n\u001b[0;32m   2555\u001b[0m \u001b[38;5;28;01mexcept\u001b[39;00m ServerSelectionTimeoutError:\n\u001b[0;32m   2556\u001b[0m     \u001b[38;5;66;03m# The application may think the write was never attempted\u001b[39;00m\n\u001b[0;32m   2557\u001b[0m     \u001b[38;5;66;03m# if we raise ServerSelectionTimeoutError on the retry\u001b[39;00m\n\u001b[0;32m   2558\u001b[0m     \u001b[38;5;66;03m# attempt. Raise the original exception instead.\u001b[39;00m\n\u001b[0;32m   2559\u001b[0m     \u001b[38;5;28mself\u001b[39m\u001b[38;5;241m.\u001b[39m_check_last_error()\n",
      "File \u001b[1;32mc:\\Users\\dhana\\AppData\\Local\\Programs\\Python\\Python311\\Lib\\site-packages\\pymongo\\synchronous\\mongo_client.py:2697\u001b[0m, in \u001b[0;36m_ClientConnectionRetryable._read\u001b[1;34m(self)\u001b[0m\n\u001b[0;32m   2695\u001b[0m \u001b[38;5;28;01mif\u001b[39;00m \u001b[38;5;28mself\u001b[39m\u001b[38;5;241m.\u001b[39m_retrying \u001b[38;5;129;01mand\u001b[39;00m \u001b[38;5;129;01mnot\u001b[39;00m \u001b[38;5;28mself\u001b[39m\u001b[38;5;241m.\u001b[39m_retryable:\n\u001b[0;32m   2696\u001b[0m     \u001b[38;5;28mself\u001b[39m\u001b[38;5;241m.\u001b[39m_check_last_error()\n\u001b[1;32m-> 2697\u001b[0m \u001b[38;5;28;01mreturn\u001b[39;00m \u001b[38;5;28;43mself\u001b[39;49m\u001b[38;5;241;43m.\u001b[39;49m\u001b[43m_func\u001b[49m\u001b[43m(\u001b[49m\u001b[38;5;28;43mself\u001b[39;49m\u001b[38;5;241;43m.\u001b[39;49m\u001b[43m_session\u001b[49m\u001b[43m,\u001b[49m\u001b[43m \u001b[49m\u001b[38;5;28;43mself\u001b[39;49m\u001b[38;5;241;43m.\u001b[39;49m\u001b[43m_server\u001b[49m\u001b[43m,\u001b[49m\u001b[43m \u001b[49m\u001b[43mconn\u001b[49m\u001b[43m,\u001b[49m\u001b[43m \u001b[49m\u001b[43mread_pref\u001b[49m\u001b[43m)\u001b[49m\n",
      "File \u001b[1;32mc:\\Users\\dhana\\AppData\\Local\\Programs\\Python\\Python311\\Lib\\site-packages\\pymongo\\synchronous\\mongo_client.py:1745\u001b[0m, in \u001b[0;36mMongoClient._run_operation.<locals>._cmd\u001b[1;34m(_session, server, conn, read_preference)\u001b[0m\n\u001b[0;32m   1738\u001b[0m \u001b[38;5;28;01mdef\u001b[39;00m \u001b[38;5;21m_cmd\u001b[39m(\n\u001b[0;32m   1739\u001b[0m     _session: Optional[ClientSession],\n\u001b[0;32m   1740\u001b[0m     server: Server,\n\u001b[0;32m   1741\u001b[0m     conn: Connection,\n\u001b[0;32m   1742\u001b[0m     read_preference: _ServerMode,\n\u001b[0;32m   1743\u001b[0m ) \u001b[38;5;241m-\u001b[39m\u001b[38;5;241m>\u001b[39m Response:\n\u001b[0;32m   1744\u001b[0m     operation\u001b[38;5;241m.\u001b[39mreset()  \u001b[38;5;66;03m# Reset op in case of retry.\u001b[39;00m\n\u001b[1;32m-> 1745\u001b[0m     \u001b[38;5;28;01mreturn\u001b[39;00m \u001b[43mserver\u001b[49m\u001b[38;5;241;43m.\u001b[39;49m\u001b[43mrun_operation\u001b[49m\u001b[43m(\u001b[49m\n\u001b[0;32m   1746\u001b[0m \u001b[43m        \u001b[49m\u001b[43mconn\u001b[49m\u001b[43m,\u001b[49m\n\u001b[0;32m   1747\u001b[0m \u001b[43m        \u001b[49m\u001b[43moperation\u001b[49m\u001b[43m,\u001b[49m\n\u001b[0;32m   1748\u001b[0m \u001b[43m        \u001b[49m\u001b[43mread_preference\u001b[49m\u001b[43m,\u001b[49m\n\u001b[0;32m   1749\u001b[0m \u001b[43m        \u001b[49m\u001b[38;5;28;43mself\u001b[39;49m\u001b[38;5;241;43m.\u001b[39;49m\u001b[43m_event_listeners\u001b[49m\u001b[43m,\u001b[49m\n\u001b[0;32m   1750\u001b[0m \u001b[43m        \u001b[49m\u001b[43munpack_res\u001b[49m\u001b[43m,\u001b[49m\n\u001b[0;32m   1751\u001b[0m \u001b[43m        \u001b[49m\u001b[38;5;28;43mself\u001b[39;49m\u001b[43m,\u001b[49m\n\u001b[0;32m   1752\u001b[0m \u001b[43m    \u001b[49m\u001b[43m)\u001b[49m\n",
      "File \u001b[1;32mc:\\Users\\dhana\\AppData\\Local\\Programs\\Python\\Python311\\Lib\\site-packages\\pymongo\\synchronous\\helpers.py:45\u001b[0m, in \u001b[0;36m_handle_reauth.<locals>.inner\u001b[1;34m(*args, **kwargs)\u001b[0m\n\u001b[0;32m     42\u001b[0m \u001b[38;5;28;01mfrom\u001b[39;00m \u001b[38;5;21;01mpymongo\u001b[39;00m\u001b[38;5;21;01m.\u001b[39;00m\u001b[38;5;21;01msynchronous\u001b[39;00m\u001b[38;5;21;01m.\u001b[39;00m\u001b[38;5;21;01mpool\u001b[39;00m \u001b[38;5;28;01mimport\u001b[39;00m Connection\n\u001b[0;32m     44\u001b[0m \u001b[38;5;28;01mtry\u001b[39;00m:\n\u001b[1;32m---> 45\u001b[0m     \u001b[38;5;28;01mreturn\u001b[39;00m \u001b[43mfunc\u001b[49m\u001b[43m(\u001b[49m\u001b[38;5;241;43m*\u001b[39;49m\u001b[43margs\u001b[49m\u001b[43m,\u001b[49m\u001b[43m \u001b[49m\u001b[38;5;241;43m*\u001b[39;49m\u001b[38;5;241;43m*\u001b[39;49m\u001b[43mkwargs\u001b[49m\u001b[43m)\u001b[49m\n\u001b[0;32m     46\u001b[0m \u001b[38;5;28;01mexcept\u001b[39;00m OperationFailure \u001b[38;5;28;01mas\u001b[39;00m exc:\n\u001b[0;32m     47\u001b[0m     \u001b[38;5;28;01mif\u001b[39;00m no_reauth:\n",
      "File \u001b[1;32mc:\\Users\\dhana\\AppData\\Local\\Programs\\Python\\Python311\\Lib\\site-packages\\pymongo\\synchronous\\server.py:227\u001b[0m, in \u001b[0;36mServer.run_operation\u001b[1;34m(self, conn, operation, read_preference, listeners, unpack_res, client)\u001b[0m\n\u001b[0;32m    225\u001b[0m         first \u001b[38;5;241m=\u001b[39m docs[\u001b[38;5;241m0\u001b[39m]\n\u001b[0;32m    226\u001b[0m         operation\u001b[38;5;241m.\u001b[39mclient\u001b[38;5;241m.\u001b[39m_process_response(first, operation\u001b[38;5;241m.\u001b[39msession)  \u001b[38;5;66;03m# type: ignore[misc, arg-type]\u001b[39;00m\n\u001b[1;32m--> 227\u001b[0m         \u001b[43m_check_command_response\u001b[49m\u001b[43m(\u001b[49m\u001b[43mfirst\u001b[49m\u001b[43m,\u001b[49m\u001b[43m \u001b[49m\u001b[43mconn\u001b[49m\u001b[38;5;241;43m.\u001b[39;49m\u001b[43mmax_wire_version\u001b[49m\u001b[43m)\u001b[49m\n\u001b[0;32m    228\u001b[0m \u001b[38;5;28;01mexcept\u001b[39;00m \u001b[38;5;167;01mException\u001b[39;00m \u001b[38;5;28;01mas\u001b[39;00m exc:\n\u001b[0;32m    229\u001b[0m     duration \u001b[38;5;241m=\u001b[39m datetime\u001b[38;5;241m.\u001b[39mnow() \u001b[38;5;241m-\u001b[39m start\n",
      "File \u001b[1;32mc:\\Users\\dhana\\AppData\\Local\\Programs\\Python\\Python311\\Lib\\site-packages\\pymongo\\helpers_shared.py:247\u001b[0m, in \u001b[0;36m_check_command_response\u001b[1;34m(response, max_wire_version, allowable_errors, parse_write_concern_error)\u001b[0m\n\u001b[0;32m    244\u001b[0m \u001b[38;5;28;01melif\u001b[39;00m code \u001b[38;5;241m==\u001b[39m \u001b[38;5;241m43\u001b[39m:\n\u001b[0;32m    245\u001b[0m     \u001b[38;5;28;01mraise\u001b[39;00m CursorNotFound(errmsg, code, response, max_wire_version)\n\u001b[1;32m--> 247\u001b[0m \u001b[38;5;28;01mraise\u001b[39;00m OperationFailure(errmsg, code, response, max_wire_version)\n",
      "\u001b[1;31mOperationFailure\u001b[0m: Cannot do exclusion on field role in inclusion projection, full error: {'ok': 0.0, 'errmsg': 'Cannot do exclusion on field role in inclusion projection', 'code': 31254, 'codeName': 'Location31254'}"
     ]
    }
   ],
   "source": [
    "# to get specific fields only\n",
    "\n",
    "# will not work, because You're attempting to include the name field ('name': 1) and exclude the role field ('role': 0). However, MongoDB does not allow the combination of inclusion and exclusion in the same query, except for the _id field.\n",
    "for i in collection.find({}, {'name':1, 'role':0}):  \n",
    "    print(i)"
   ]
  },
  {
   "cell_type": "code",
   "execution_count": 20,
   "metadata": {},
   "outputs": [
    {
     "name": "stdout",
     "output_type": "stream",
     "text": [
      "{'_id': ObjectId('67497e6603b835eca6c32adc'), 'name': 'Dhanunjaya'}\n",
      "{'_id': ObjectId('674984d703b835eca6c32add'), 'name': 'Dhanunjaya'}\n",
      "{'_id': ObjectId('6749850b03b835eca6c32ade'), 'name': 'Alice'}\n",
      "{'_id': ObjectId('6749850b03b835eca6c32adf'), 'name': 'Bob'}\n"
     ]
    }
   ],
   "source": [
    "# Include only 'name' and exclude everything else\n",
    "for i in collection.find({}, {'name': 1}):\n",
    "    print(i)\n"
   ]
  },
  {
   "cell_type": "code",
   "execution_count": null,
   "metadata": {},
   "outputs": [],
   "source": [
    "# Exclude 'role' and '_id' by default (default is included if not specified)\n",
    "for i in collection.find({}, {'experience': 0}):\n",
    "    print(i)\n"
   ]
  },
  {
   "cell_type": "code",
   "execution_count": null,
   "metadata": {},
   "outputs": [
    {
     "name": "stdout",
     "output_type": "stream",
     "text": [
      "{'name': 'Dhanunjaya'}\n",
      "{'name': 'Dhanunjaya'}\n",
      "{'name': 'Alice'}\n",
      "{'name': 'Bob'}\n"
     ]
    }
   ],
   "source": [
    "# Include only 'name' and exclude everything else\n",
    "for i in collection.find({}, {'name': 1, '_id':0}): # for id it will work\n",
    "    print(i)\n"
   ]
  },
  {
   "cell_type": "code",
   "execution_count": 22,
   "metadata": {},
   "outputs": [
    {
     "name": "stdout",
     "output_type": "stream",
     "text": [
      "{'_id': ObjectId('67497e6603b835eca6c32adc'), 'name': 'Dhanunjaya', 'role': 'QA Tester'}\n",
      "{'_id': ObjectId('674984d703b835eca6c32add'), 'name': 'Dhanunjaya', 'role': 'QA Tester'}\n",
      "{'_id': ObjectId('6749850b03b835eca6c32ade'), 'name': 'Alice', 'role': 'Developer'}\n",
      "{'_id': ObjectId('6749850b03b835eca6c32adf'), 'name': 'Bob', 'role': 'Tester'}\n"
     ]
    }
   ],
   "source": [
    "# Exclude 'role' and '_id' by default (default is included if not specified)\n",
    "for i in collection.find({}, {'experience': 0}):\n",
    "    print(i)\n"
   ]
  },
  {
   "cell_type": "code",
   "execution_count": 46,
   "metadata": {},
   "outputs": [
    {
     "name": "stdout",
     "output_type": "stream",
     "text": [
      "{'_id': ObjectId('6749850b03b835eca6c32ade'), 'name': 'Alice', 'role': 'Developer', 'experience': 2}\n"
     ]
    }
   ],
   "source": [
    "# Exclude 'role' and '_id' by default (default is included if not specified)\n",
    "for i in collection.find({}):\n",
    "    print(i)\n"
   ]
  },
  {
   "cell_type": "code",
   "execution_count": 35,
   "metadata": {},
   "outputs": [
    {
     "data": {
      "text/plain": [
       "UpdateResult({'n': 1, 'nModified': 0, 'ok': 1.0, 'updatedExisting': True}, acknowledged=True)"
      ]
     },
     "execution_count": 35,
     "metadata": {},
     "output_type": "execute_result"
    }
   ],
   "source": [
    "# updating the documents\n",
    "\n",
    "#update one document\n",
    "collection.update_one(\n",
    "    { \"name\": \"Dhanunjaya\" },\n",
    " { \"$set\": { \"experience\": 1, 'role':\"QA Tester\" } }\n",
    ")"
   ]
  },
  {
   "cell_type": "code",
   "execution_count": 39,
   "metadata": {},
   "outputs": [
    {
     "data": {
      "text/plain": [
       "UpdateResult({'n': 2, 'nModified': 2, 'ok': 1.0, 'updatedExisting': True}, acknowledged=True)"
      ]
     },
     "execution_count": 39,
     "metadata": {},
     "output_type": "execute_result"
    }
   ],
   "source": [
    "# update many\n",
    "collection.update_many(\n",
    "    {\"role\":\"QA Tester\"},\n",
    "    {\"$set\" : {'experience':'2'}}\n",
    ")"
   ]
  },
  {
   "cell_type": "code",
   "execution_count": 41,
   "metadata": {},
   "outputs": [
    {
     "data": {
      "text/plain": [
       "DeleteResult({'n': 1, 'ok': 1.0}, acknowledged=True)"
      ]
     },
     "execution_count": 41,
     "metadata": {},
     "output_type": "execute_result"
    }
   ],
   "source": [
    "# delete the documents\n",
    "\n",
    "collection.delete_one({'name':'Bob'})"
   ]
  },
  {
   "cell_type": "code",
   "execution_count": 45,
   "metadata": {},
   "outputs": [
    {
     "data": {
      "text/plain": [
       "DeleteResult({'n': 2, 'ok': 1.0}, acknowledged=True)"
      ]
     },
     "execution_count": 45,
     "metadata": {},
     "output_type": "execute_result"
    }
   ],
   "source": [
    "# delete many documents\n",
    "collection.delete_many({'name':'Dhanunjaya'})"
   ]
  },
  {
   "cell_type": "code",
   "execution_count": null,
   "metadata": {},
   "outputs": [],
   "source": []
  },
  {
   "cell_type": "code",
   "execution_count": 21,
   "metadata": {},
   "outputs": [
    {
     "data": {
      "text/plain": [
       "InsertOneResult(ObjectId('674dc299131081ea648bb998'), acknowledged=True)"
      ]
     },
     "execution_count": 21,
     "metadata": {},
     "output_type": "execute_result"
    }
   ],
   "source": [
    "collection.insert_one({'name':'dhanunjaya','date':True,'age':12})"
   ]
  },
  {
   "cell_type": "code",
   "execution_count": 22,
   "metadata": {},
   "outputs": [
    {
     "data": {
      "text/plain": [
       "{'_id': ObjectId('6749850b03b835eca6c32ade'),\n",
       " 'name': 'Alice',\n",
       " 'role': 'Developer',\n",
       " 'experience': 2}"
      ]
     },
     "execution_count": 22,
     "metadata": {},
     "output_type": "execute_result"
    }
   ],
   "source": [
    "collection.find_one({})"
   ]
  },
  {
   "cell_type": "code",
   "execution_count": 23,
   "metadata": {},
   "outputs": [
    {
     "name": "stdout",
     "output_type": "stream",
     "text": [
      "{'_id': ObjectId('6749850b03b835eca6c32ade'), 'name': 'Alice', 'role': 'Developer', 'experience': 2}\n",
      "{'_id': ObjectId('674dc299131081ea648bb998'), 'name': 'dhanunjaya', 'date': True, 'age': 12}\n"
     ]
    }
   ],
   "source": [
    "for i in collection.find({}):\n",
    "    print(i)"
   ]
  },
  {
   "cell_type": "code",
   "execution_count": 18,
   "metadata": {},
   "outputs": [
    {
     "name": "stdout",
     "output_type": "stream",
     "text": [
      "{'name': 'Alice'}\n",
      "{'name': 'dhanunjaya'}\n"
     ]
    }
   ],
   "source": [
    "for i in collection.find({},{'name':1,'_id':0}):\n",
    "    print(i)"
   ]
  },
  {
   "cell_type": "code",
   "execution_count": 19,
   "metadata": {},
   "outputs": [
    {
     "data": {
      "text/plain": [
       "UpdateResult({'n': 1, 'nModified': 1, 'ok': 1.0, 'updatedExisting': True}, acknowledged=True)"
      ]
     },
     "execution_count": 19,
     "metadata": {},
     "output_type": "execute_result"
    }
   ],
   "source": [
    "collection.update_one({'name':'dhanunjaya'},{'$set':{'date':False}})"
   ]
  },
  {
   "cell_type": "code",
   "execution_count": 20,
   "metadata": {},
   "outputs": [
    {
     "data": {
      "text/plain": [
       "DeleteResult({'n': 1, 'ok': 1.0}, acknowledged=True)"
      ]
     },
     "execution_count": 20,
     "metadata": {},
     "output_type": "execute_result"
    }
   ],
   "source": [
    "collection.delete_one({'name':'dhanunjaya'})"
   ]
  },
  {
   "cell_type": "code",
   "execution_count": 24,
   "metadata": {},
   "outputs": [
    {
     "data": {
      "text/plain": [
       "Collection(Database(MongoClient(host=['localhost:27017'], document_class=dict, tz_aware=False, connect=True), 'dj_test'), 'tp_one')"
      ]
     },
     "execution_count": 24,
     "metadata": {},
     "output_type": "execute_result"
    }
   ],
   "source": [
    "collection"
   ]
  },
  {
   "cell_type": "code",
   "execution_count": null,
   "metadata": {},
   "outputs": [],
   "source": [
    ". CREATE (Insert Data)\n",
    " Task 1:\n",
    " You need to validate if new user data is correctly inserted into the database. Test the\n",
    " following scenarios:\n",
    " Insert a user with all required fields (\n",
    " name , \n",
    "role , \n",
    "experience ).\n",
    " Insert a user with missing fields and ensure that it still inserts correctly, but defaults are\n",
    " applied for missing fields.\n",
    "\n",
    "Insert a user with extra, non-required fields (e.g., \n",
    "email ), and check if MongoDB\n",
    " handles it without breaking"
   ]
  },
  {
   "cell_type": "code",
   "execution_count": 3,
   "metadata": {},
   "outputs": [
    {
     "data": {
      "text/plain": [
       "InsertOneResult(ObjectId('67556aa98ea3ab4410643f0d'), acknowledged=True)"
      ]
     },
     "execution_count": 3,
     "metadata": {},
     "output_type": "execute_result"
    }
   ],
   "source": [
    "#task one\n",
    "\n",
    "data = {'name':'dj','role':'qa','experience':4}\n",
    "\n",
    "collection.insert_one(data)"
   ]
  },
  {
   "cell_type": "code",
   "execution_count": 4,
   "metadata": {},
   "outputs": [
    {
     "data": {
      "text/plain": [
       "InsertOneResult(ObjectId('67556ad48ea3ab4410643f0e'), acknowledged=True)"
      ]
     },
     "execution_count": 4,
     "metadata": {},
     "output_type": "execute_result"
    }
   ],
   "source": [
    "data = {'name':'dj','role':'qa','experience':None}\n",
    "\n",
    "collection.insert_one(data)"
   ]
  },
  {
   "cell_type": "code",
   "execution_count": 6,
   "metadata": {},
   "outputs": [
    {
     "data": {
      "text/plain": [
       "InsertOneResult(ObjectId('67556b2d8ea3ab4410643f0f'), acknowledged=True)"
      ]
     },
     "execution_count": 6,
     "metadata": {},
     "output_type": "execute_result"
    }
   ],
   "source": [
    "data = {'name':'dj','role':'qa','email':'dhanunjaaya@gmail.com'}\n",
    "\n",
    "collection.insert_one(data)"
   ]
  },
  {
   "cell_type": "code",
   "execution_count": 14,
   "metadata": {},
   "outputs": [
    {
     "data": {
      "text/plain": [
       "InsertManyResult([ObjectId('67556c168ea3ab4410643f16'), ObjectId('67556c168ea3ab4410643f17'), ObjectId('67556c168ea3ab4410643f18')], acknowledged=True)"
      ]
     },
     "execution_count": 14,
     "metadata": {},
     "output_type": "execute_result"
    }
   ],
   "source": [
    "users = [\n",
    "    {\"name\": \"John Doe\", \"role\": \"Developer\", \"experience\": 3},\n",
    "    {\"name\": \"Jane Smith\", \"role\": \"QA Tester\", \"experience\": 2},\n",
    "    {\"name\": \"Alice Johnson\", \"role\": \"DevOps Engineer\", \"experience\": 4},\n",
    "]\n",
    "\n",
    "\n",
    "collection.insert_many(users)"
   ]
  },
  {
   "cell_type": "code",
   "execution_count": 15,
   "metadata": {},
   "outputs": [
    {
     "name": "stdout",
     "output_type": "stream",
     "text": [
      "{'_id': ObjectId('6749850b03b835eca6c32ade'), 'name': 'Alice', 'role': 'Developer', 'experience': 2}\n",
      "{'_id': ObjectId('674dc299131081ea648bb998'), 'name': 'dhanunjaya', 'date': True, 'age': 12}\n",
      "{'_id': ObjectId('67556aa98ea3ab4410643f0d'), 'name': 'dj', 'role': 'qa', 'experience': 4}\n",
      "{'_id': ObjectId('67556ad48ea3ab4410643f0e'), 'name': 'dj', 'role': 'qa', 'experience': None}\n",
      "{'_id': ObjectId('67556b2d8ea3ab4410643f0f'), 'name': 'dj', 'role': 'qa', 'email': 'dhanunjaaya@gmail.com'}\n",
      "{'_id': ObjectId('67556b8e8ea3ab4410643f10'), 'name': 'John Doe', 'role': 'Developer', 'experience': 3}\n",
      "{'_id': ObjectId('67556b8e8ea3ab4410643f11'), 'name': 'Jane Smith', 'role': 'QA Tester', 'experience': 2}\n",
      "{'_id': ObjectId('67556b8e8ea3ab4410643f12'), 'name': 'Alice Johnson', 'role': 'DevOps Engineer', 'experience': 4}\n",
      "{'_id': ObjectId('67556c128ea3ab4410643f13'), 'name': 'John Doe', 'role': 'Developer', 'experience': 3}\n",
      "{'_id': ObjectId('67556c128ea3ab4410643f14'), 'name': 'Jane Smith', 'role': 'QA Tester', 'experience': 2}\n",
      "{'_id': ObjectId('67556c128ea3ab4410643f15'), 'name': 'Alice Johnson', 'role': 'DevOps Engineer', 'experience': 4}\n",
      "{'_id': ObjectId('67556c168ea3ab4410643f16'), 'name': 'John Doe', 'role': 'Developer', 'experience': 3}\n",
      "{'_id': ObjectId('67556c168ea3ab4410643f17'), 'name': 'Jane Smith', 'role': 'QA Tester', 'experience': 2}\n",
      "{'_id': ObjectId('67556c168ea3ab4410643f18'), 'name': 'Alice Johnson', 'role': 'DevOps Engineer', 'experience': 4}\n"
     ]
    }
   ],
   "source": [
    "for i in collection.find():\n",
    "    print(i)"
   ]
  },
  {
   "cell_type": "code",
   "execution_count": null,
   "metadata": {},
   "outputs": [],
   "source": [
    "2. READ (Query Data)\n",
    " Task 3:\n",
    " Test if the system retrieves the correct users based on specific queries.\n",
    " Query all users with a specific role, e.g., all QA Testers.\n",
    " Query users who have experience greater than a certain value, e.g., greater than 1 year.\n",
    " Check if the projection works—retrieve users' names but exclude their _id "
   ]
  },
  {
   "cell_type": "code",
   "execution_count": 21,
   "metadata": {},
   "outputs": [
    {
     "name": "stdout",
     "output_type": "stream",
     "text": [
      "{'_id': ObjectId('67556aa98ea3ab4410643f0d'), 'name': 'dj', 'role': 'qa', 'experience': 4}\n",
      "{'_id': ObjectId('67556ad48ea3ab4410643f0e'), 'name': 'dj', 'role': 'qa', 'experience': None}\n",
      "{'_id': ObjectId('67556b2d8ea3ab4410643f0f'), 'name': 'dj', 'role': 'qa', 'email': 'dhanunjaaya@gmail.com'}\n"
     ]
    }
   ],
   "source": [
    "for i in collection.find({'name':'dj','role':'qa'}):\n",
    "    print(i)"
   ]
  },
  {
   "cell_type": "code",
   "execution_count": 22,
   "metadata": {},
   "outputs": [
    {
     "name": "stdout",
     "output_type": "stream",
     "text": [
      "{'_id': ObjectId('67556aa98ea3ab4410643f0d'), 'name': 'dj', 'role': 'qa', 'experience': 4}\n",
      "{'_id': ObjectId('67556ad48ea3ab4410643f0e'), 'name': 'dj', 'role': 'qa', 'experience': None}\n",
      "{'_id': ObjectId('67556b2d8ea3ab4410643f0f'), 'name': 'dj', 'role': 'qa', 'email': 'dhanunjaaya@gmail.com'}\n"
     ]
    }
   ],
   "source": [
    "for i in collection.find({'role':'qa'}):\n",
    "    print(i)"
   ]
  },
  {
   "cell_type": "code",
   "execution_count": 30,
   "metadata": {},
   "outputs": [
    {
     "name": "stdout",
     "output_type": "stream",
     "text": [
      "{'_id': ObjectId('6749850b03b835eca6c32ade'), 'name': 'Alice', 'role': 'Developer', 'experience': 2}\n",
      "{'_id': ObjectId('67556aa98ea3ab4410643f0d'), 'name': 'dj', 'role': 'qa', 'experience': 4}\n",
      "{'_id': ObjectId('67556b8e8ea3ab4410643f10'), 'name': 'John Doe', 'role': 'Developer', 'experience': 3}\n",
      "{'_id': ObjectId('67556b8e8ea3ab4410643f11'), 'name': 'Jane Smith', 'role': 'QA Tester', 'experience': 2}\n",
      "{'_id': ObjectId('67556b8e8ea3ab4410643f12'), 'name': 'Alice Johnson', 'role': 'DevOps Engineer', 'experience': 4}\n",
      "{'_id': ObjectId('67556c128ea3ab4410643f13'), 'name': 'John Doe', 'role': 'Developer', 'experience': 3}\n",
      "{'_id': ObjectId('67556c128ea3ab4410643f14'), 'name': 'Jane Smith', 'role': 'QA Tester', 'experience': 2}\n",
      "{'_id': ObjectId('67556c128ea3ab4410643f15'), 'name': 'Alice Johnson', 'role': 'DevOps Engineer', 'experience': 4}\n",
      "{'_id': ObjectId('67556c168ea3ab4410643f16'), 'name': 'John Doe', 'role': 'Developer', 'experience': 3}\n",
      "{'_id': ObjectId('67556c168ea3ab4410643f17'), 'name': 'Jane Smith', 'role': 'QA Tester', 'experience': 2}\n",
      "{'_id': ObjectId('67556c168ea3ab4410643f18'), 'name': 'Alice Johnson', 'role': 'DevOps Engineer', 'experience': 4}\n"
     ]
    }
   ],
   "source": [
    "for i in collection.find({'experience':{'$gte':1}}):\n",
    "    print(i)"
   ]
  },
  {
   "cell_type": "code",
   "execution_count": 31,
   "metadata": {},
   "outputs": [
    {
     "name": "stdout",
     "output_type": "stream",
     "text": [
      "{'name': 'Alice'}\n",
      "{'name': 'dhanunjaya'}\n",
      "{'name': 'dj'}\n",
      "{'name': 'dj'}\n",
      "{'name': 'dj'}\n",
      "{'name': 'John Doe'}\n",
      "{'name': 'Jane Smith'}\n",
      "{'name': 'Alice Johnson'}\n",
      "{'name': 'John Doe'}\n",
      "{'name': 'Jane Smith'}\n",
      "{'name': 'Alice Johnson'}\n",
      "{'name': 'John Doe'}\n",
      "{'name': 'Jane Smith'}\n",
      "{'name': 'Alice Johnson'}\n"
     ]
    }
   ],
   "source": [
    "# Fetch all users, projecting only the 'name' field and excluding '_id'\n",
    "for user in collection.find({}, {\"name\": 1, \"_id\": 0}):\n",
    "    print(user)\n"
   ]
  },
  {
   "cell_type": "code",
   "execution_count": null,
   "metadata": {},
   "outputs": [],
   "source": [
    "Task 4:\n",
    " Test the edge cases for querying:\n",
    " Query using an invalid field (e.g., a field that doesn't exist).\n",
    " Test querying with partial matches (e.g., use regular expressions to find users with\n",
    " role containing the word \"Tester\")."
   ]
  },
  {
   "cell_type": "code",
   "execution_count": 32,
   "metadata": {},
   "outputs": [],
   "source": [
    "for i in collection.find({'id':1}):\n",
    "    print(i)"
   ]
  },
  {
   "cell_type": "code",
   "execution_count": 33,
   "metadata": {},
   "outputs": [
    {
     "name": "stdout",
     "output_type": "stream",
     "text": [
      "{'_id': ObjectId('67556b8e8ea3ab4410643f11'), 'name': 'Jane Smith', 'role': 'QA Tester', 'experience': 2}\n",
      "{'_id': ObjectId('67556c128ea3ab4410643f14'), 'name': 'Jane Smith', 'role': 'QA Tester', 'experience': 2}\n",
      "{'_id': ObjectId('67556c168ea3ab4410643f17'), 'name': 'Jane Smith', 'role': 'QA Tester', 'experience': 2}\n",
      "Number of matches: 3\n"
     ]
    }
   ],
   "source": [
    "# Query for users with a role containing the word \"Tester\"\n",
    "regex_query = collection.find({\"role\": {\"$regex\": \"Tester\", \"$options\": \"i\"}})  # 'i' for case-insensitive\n",
    "\n",
    "# Print matching users\n",
    "for user in regex_query:\n",
    "    print(user)\n",
    "\n",
    "# Optional validation (if you want to count matches)\n",
    "matched_count = collection.count_documents({\"role\": {\"$regex\": \"Tester\", \"$options\": \"i\"}})\n",
    "print(f\"Number of matches: {matched_count}\")\n"
   ]
  },
  {
   "cell_type": "markdown",
   "metadata": {},
   "source": [
    "# regex"
   ]
  },
  {
   "cell_type": "code",
   "execution_count": null,
   "metadata": {},
   "outputs": [],
   "source": [
    "Summary of Patterns:\n",
    "^...: Starts with.\n",
    "...$: Ends with.\n",
    ".*...*: Contains.\n",
    "\\b...\\b: Word boundary.\n",
    "[...]: Specific character sets.\n",
    "\\d: Digits.\n",
    "|: OR condition.\n",
    ".{n,m}: Length constraints."
   ]
  },
  {
   "cell_type": "code",
   "execution_count": null,
   "metadata": {},
   "outputs": [
    {
     "name": "stdout",
     "output_type": "stream",
     "text": [
      "{'_id': ObjectId('67556aa98ea3ab4410643f0d'), 'name': 'dj', 'role': 'qa', 'experience': 4}\n",
      "{'_id': ObjectId('67556ad48ea3ab4410643f0e'), 'name': 'dj', 'role': 'qa', 'experience': None}\n",
      "{'_id': ObjectId('67556b2d8ea3ab4410643f0f'), 'name': 'dj', 'role': 'qa', 'email': 'dhanunjaaya@gmail.com'}\n",
      "{'_id': ObjectId('67556b8e8ea3ab4410643f11'), 'name': 'Jane Smith', 'role': 'QA Tester', 'experience': 2}\n",
      "{'_id': ObjectId('67556c128ea3ab4410643f14'), 'name': 'Jane Smith', 'role': 'QA Tester', 'experience': 2}\n",
      "{'_id': ObjectId('67556c168ea3ab4410643f17'), 'name': 'Jane Smith', 'role': 'QA Tester', 'experience': 2}\n"
     ]
    }
   ],
   "source": [
    "# Match roles starting with \"QA\" $options: \"i\": Makes the match case-insensitive.\n",
    "regex_query = collection.find({\"role\": {\"$regex\": \"^QA\", \"$options\": \"i\"}})\n",
    "\n",
    "for user in regex_query:\n",
    "    print(user)\n"
   ]
  },
  {
   "cell_type": "code",
   "execution_count": 36,
   "metadata": {},
   "outputs": [
    {
     "name": "stdout",
     "output_type": "stream",
     "text": [
      "{'_id': ObjectId('67556b8e8ea3ab4410643f12'), 'name': 'Alice Johnson', 'role': 'DevOps Engineer', 'experience': 4}\n",
      "{'_id': ObjectId('67556c128ea3ab4410643f15'), 'name': 'Alice Johnson', 'role': 'DevOps Engineer', 'experience': 4}\n",
      "{'_id': ObjectId('67556c168ea3ab4410643f18'), 'name': 'Alice Johnson', 'role': 'DevOps Engineer', 'experience': 4}\n"
     ]
    }
   ],
   "source": [
    "# Match roles ending with \"Engineer\"\n",
    "regex_query = collection.find({\"role\": {\"$regex\": \"Engineer$\", \"$options\": \"i\"}})\n",
    "\n",
    "for user in regex_query:\n",
    "    print(user)\n"
   ]
  },
  {
   "cell_type": "code",
   "execution_count": 37,
   "metadata": {},
   "outputs": [
    {
     "name": "stdout",
     "output_type": "stream",
     "text": [
      "{'_id': ObjectId('6749850b03b835eca6c32ade'), 'name': 'Alice', 'role': 'Developer', 'experience': 2}\n",
      "{'_id': ObjectId('67556b8e8ea3ab4410643f10'), 'name': 'John Doe', 'role': 'Developer', 'experience': 3}\n",
      "{'_id': ObjectId('67556b8e8ea3ab4410643f12'), 'name': 'Alice Johnson', 'role': 'DevOps Engineer', 'experience': 4}\n",
      "{'_id': ObjectId('67556c128ea3ab4410643f13'), 'name': 'John Doe', 'role': 'Developer', 'experience': 3}\n",
      "{'_id': ObjectId('67556c128ea3ab4410643f15'), 'name': 'Alice Johnson', 'role': 'DevOps Engineer', 'experience': 4}\n",
      "{'_id': ObjectId('67556c168ea3ab4410643f16'), 'name': 'John Doe', 'role': 'Developer', 'experience': 3}\n",
      "{'_id': ObjectId('67556c168ea3ab4410643f18'), 'name': 'Alice Johnson', 'role': 'DevOps Engineer', 'experience': 4}\n"
     ]
    }
   ],
   "source": [
    "# Match roles containing \"Dev\"\n",
    "regex_query = collection.find({\"role\": {\"$regex\": \"Dev\", \"$options\": \"i\"}})\n",
    "\n",
    "for user in regex_query:\n",
    "    print(user)\n"
   ]
  },
  {
   "cell_type": "code",
   "execution_count": 39,
   "metadata": {},
   "outputs": [
    {
     "name": "stdout",
     "output_type": "stream",
     "text": [
      "{'_id': ObjectId('67556b8e8ea3ab4410643f11'), 'name': 'Jane Smith', 'role': 'QA Tester', 'experience': 2}\n",
      "{'_id': ObjectId('67556c128ea3ab4410643f14'), 'name': 'Jane Smith', 'role': 'QA Tester', 'experience': 2}\n",
      "{'_id': ObjectId('67556c168ea3ab4410643f17'), 'name': 'Jane Smith', 'role': 'QA Tester', 'experience': 2}\n"
     ]
    }
   ],
   "source": [
    "# Match roles containing the exact word \"QA\"\n",
    "regex_query = collection.find({\"role\": {\"$regex\": r\"\\bQA\\b\"}})\n",
    "\n",
    "for user in regex_query:\n",
    "    print(user)\n"
   ]
  },
  {
   "cell_type": "code",
   "execution_count": 40,
   "metadata": {},
   "outputs": [
    {
     "name": "stdout",
     "output_type": "stream",
     "text": [
      "{'_id': ObjectId('67556b8e8ea3ab4410643f11'), 'name': 'Jane Smith', 'role': 'QA Tester', 'experience': 2}\n",
      "{'_id': ObjectId('67556b8e8ea3ab4410643f12'), 'name': 'Alice Johnson', 'role': 'DevOps Engineer', 'experience': 4}\n",
      "{'_id': ObjectId('67556c128ea3ab4410643f14'), 'name': 'Jane Smith', 'role': 'QA Tester', 'experience': 2}\n",
      "{'_id': ObjectId('67556c128ea3ab4410643f15'), 'name': 'Alice Johnson', 'role': 'DevOps Engineer', 'experience': 4}\n",
      "{'_id': ObjectId('67556c168ea3ab4410643f17'), 'name': 'Jane Smith', 'role': 'QA Tester', 'experience': 2}\n",
      "{'_id': ObjectId('67556c168ea3ab4410643f18'), 'name': 'Alice Johnson', 'role': 'DevOps Engineer', 'experience': 4}\n"
     ]
    }
   ],
   "source": [
    "# Match roles containing \"Tester\" or \"Engineer\"\n",
    "regex_query = collection.find({\"role\": {\"$regex\": \"Tester|Engineer\", \"$options\": \"i\"}})\n",
    "\n",
    "for user in regex_query:\n",
    "    print(user)\n"
   ]
  },
  {
   "cell_type": "code",
   "execution_count": null,
   "metadata": {},
   "outputs": [
    {
     "name": "stdout",
     "output_type": "stream",
     "text": [
      "{'_id': ObjectId('6749850b03b835eca6c32ade'), 'name': 'Alice', 'role': 'Developer', 'experience': 2}\n",
      "{'_id': ObjectId('67556b8e8ea3ab4410643f10'), 'name': 'John Doe', 'role': 'Developer', 'experience': 3}\n",
      "{'_id': ObjectId('67556b8e8ea3ab4410643f12'), 'name': 'Alice Johnson', 'role': 'DevOps Engineer', 'experience': 4}\n",
      "{'_id': ObjectId('67556c128ea3ab4410643f13'), 'name': 'John Doe', 'role': 'Developer', 'experience': 3}\n",
      "{'_id': ObjectId('67556c128ea3ab4410643f15'), 'name': 'Alice Johnson', 'role': 'DevOps Engineer', 'experience': 4}\n",
      "{'_id': ObjectId('67556c168ea3ab4410643f16'), 'name': 'John Doe', 'role': 'Developer', 'experience': 3}\n",
      "{'_id': ObjectId('67556c168ea3ab4410643f18'), 'name': 'Alice Johnson', 'role': 'DevOps Engineer', 'experience': 4}\n"
     ]
    }
   ],
   "source": [
    "# Match roles starting with \"D\" or \"T\" and ending with \"r\"\n",
    "regex_query = collection.find({\"role\": {\"$regex\": \"^[DT].*r$\", \"$options\": \"i\"}})\n",
    "\n",
    "for user in regex_query:\n",
    "    print(user)\n",
    "\n",
    "\n",
    "\"\"\"\n",
    "Explanation\n",
    "^[DT]: Matches roles starting with \"D\" or \"T\".\n",
    ".*: Matches any number of characters between the start and the end.\n",
    "r$: Matches roles ending with \"r\" (e.g., \"Developer\", \"Tester\").\n",
    "\"\"\"\n"
   ]
  },
  {
   "cell_type": "code",
   "execution_count": 48,
   "metadata": {},
   "outputs": [
    {
     "name": "stdout",
     "output_type": "stream",
     "text": [
      "{'_id': ObjectId('67556b8e8ea3ab4410643f11'), 'name': 'Jane Smith', 'role': 'QA Tester', 'experience': 2}\n",
      "{'_id': ObjectId('67556c128ea3ab4410643f14'), 'name': 'Jane Smith', 'role': 'QA Tester', 'experience': 2}\n",
      "{'_id': ObjectId('67556c168ea3ab4410643f17'), 'name': 'Jane Smith', 'role': 'QA Tester', 'experience': 2}\n"
     ]
    }
   ],
   "source": [
    "# Case-sensitive match for \"Tester\"\n",
    "regex_query = collection.find({\"role\": {\"$regex\": \"Tester\"}})\n",
    "\n",
    "for user in regex_query:\n",
    "    print(user)\n"
   ]
  },
  {
   "cell_type": "code",
   "execution_count": 49,
   "metadata": {},
   "outputs": [
    {
     "name": "stdout",
     "output_type": "stream",
     "text": [
      "{'_id': ObjectId('6749850b03b835eca6c32ade'), 'name': 'Alice', 'role': 'Developer', 'experience': 2}\n",
      "{'_id': ObjectId('67556b8e8ea3ab4410643f10'), 'name': 'John Doe', 'role': 'Developer', 'experience': 3}\n",
      "{'_id': ObjectId('67556b8e8ea3ab4410643f12'), 'name': 'Alice Johnson', 'role': 'DevOps Engineer', 'experience': 4}\n",
      "{'_id': ObjectId('67556c128ea3ab4410643f13'), 'name': 'John Doe', 'role': 'Developer', 'experience': 3}\n",
      "{'_id': ObjectId('67556c128ea3ab4410643f15'), 'name': 'Alice Johnson', 'role': 'DevOps Engineer', 'experience': 4}\n",
      "{'_id': ObjectId('67556c168ea3ab4410643f16'), 'name': 'John Doe', 'role': 'Developer', 'experience': 3}\n",
      "{'_id': ObjectId('67556c168ea3ab4410643f18'), 'name': 'Alice Johnson', 'role': 'DevOps Engineer', 'experience': 4}\n"
     ]
    },
    {
     "data": {
      "text/plain": [
       "'^:\\n\\nIndicates the start of the string.\\n(?!.*QA):\\n\\nNegative lookahead assertion.\\nEnsures that the string does not contain \"QA\" anywhere after the current position.\\n.*:\\n\\nMatches any number of characters (zero or more).\\n$:\\n\\nIndicates the end of the string.'"
      ]
     },
     "execution_count": 49,
     "metadata": {},
     "output_type": "execute_result"
    }
   ],
   "source": [
    "# Match roles not containing \"QA\"\n",
    "regex_query = collection.find({\"role\": {\"$regex\": \"^(?!.*QA).*$\", \"$options\": \"i\"}})\n",
    "\n",
    "for user in regex_query:\n",
    "    print(user)\n",
    "\n",
    "\"\"\"^:\n",
    "\n",
    "Indicates the start of the string.\n",
    "(?!.*QA):\n",
    "\n",
    "Negative lookahead assertion.\n",
    "Ensures that the string does not contain \"QA\" anywhere after the current position.\n",
    ".*:\n",
    "\n",
    "Matches any number of characters (zero or more).\n",
    "$:\n",
    "\n",
    "Indicates the end of the string.\"\"\""
   ]
  },
  {
   "cell_type": "code",
   "execution_count": null,
   "metadata": {},
   "outputs": [],
   "source": [
    "# Match roles containing any numbers\n",
    "regex_query = collection.find({\"role\": {\"$regex\": r\"\\d\", \"$options\": \"i\"}})\n",
    "\n",
    "for user in regex_query:\n",
    "    print(user)\n",
    "\n",
    "\n",
    "\"\"\"Explanation\n",
    "\\d: Matches any numeric character (0-9).\n",
    "Useful for identifying entries with numeric annotations (e.g., \"Engineer1\").\n",
    "\"\"\"\n"
   ]
  },
  {
   "cell_type": "code",
   "execution_count": null,
   "metadata": {},
   "outputs": [],
   "source": [
    "# Match roles with exactly 6 characters\n",
    "regex_query = collection.find({\"role\": {\"$regex\": r\"^.{6}$\", \"$options\": \"i\"}})\n",
    "\n",
    "for user in regex_query:\n",
    "    print(user)\n",
    "\n",
    "\n",
    "\"\"\"Explanation\n",
    "^.{6}$: Matches strings with exactly six characters.\n",
    "Replace 6 with n,m for ranges, e.g., ^.{4,8}$ matches strings between 4 to 8 characters long.\"\"\""
   ]
  },
  {
   "cell_type": "code",
   "execution_count": 47,
   "metadata": {},
   "outputs": [
    {
     "name": "stdout",
     "output_type": "stream",
     "text": [
      "{'_id': ObjectId('6749850b03b835eca6c32ade'), 'name': 'Alice', 'role': 'Developer', 'experience': 2}\n",
      "{'_id': ObjectId('67556aa98ea3ab4410643f0d'), 'name': 'dj', 'role': 'qa', 'experience': 4}\n",
      "{'_id': ObjectId('67556ad48ea3ab4410643f0e'), 'name': 'dj', 'role': 'qa', 'experience': None}\n",
      "{'_id': ObjectId('67556b2d8ea3ab4410643f0f'), 'name': 'dj', 'role': 'qa', 'email': 'dhanunjaaya@gmail.com'}\n",
      "{'_id': ObjectId('67556b8e8ea3ab4410643f10'), 'name': 'John Doe', 'role': 'Developer', 'experience': 3}\n",
      "{'_id': ObjectId('67556b8e8ea3ab4410643f11'), 'name': 'Jane Smith', 'role': 'QA Tester', 'experience': 2}\n",
      "{'_id': ObjectId('67556c128ea3ab4410643f13'), 'name': 'John Doe', 'role': 'Developer', 'experience': 3}\n",
      "{'_id': ObjectId('67556c128ea3ab4410643f14'), 'name': 'Jane Smith', 'role': 'QA Tester', 'experience': 2}\n",
      "{'_id': ObjectId('67556c168ea3ab4410643f16'), 'name': 'John Doe', 'role': 'Developer', 'experience': 3}\n",
      "{'_id': ObjectId('67556c168ea3ab4410643f17'), 'name': 'Jane Smith', 'role': 'QA Tester', 'experience': 2}\n"
     ]
    }
   ],
   "source": [
    "# Match roles with exactly 6 characters\n",
    "regex_query = collection.find({\"role\": {\"$regex\": r\"^.{1,10}$\", \"$options\": \"i\"}})\n",
    "\n",
    "for user in regex_query:\n",
    "    print(user)"
   ]
  },
  {
   "cell_type": "code",
   "execution_count": 50,
   "metadata": {},
   "outputs": [
    {
     "name": "stdout",
     "output_type": "stream",
     "text": [
      "{'_id': ObjectId('6749850b03b835eca6c32ade'), 'name': 'Alice', 'role': 'Developer', 'experience': 2}\n",
      "{'_id': ObjectId('67556aa98ea3ab4410643f0d'), 'name': 'dj', 'role': 'qa', 'experience': 4}\n",
      "{'_id': ObjectId('67556ad48ea3ab4410643f0e'), 'name': 'dj', 'role': 'qa', 'experience': None}\n",
      "{'_id': ObjectId('67556b2d8ea3ab4410643f0f'), 'name': 'dj', 'role': 'qa', 'email': 'dhanunjaaya@gmail.com'}\n",
      "{'_id': ObjectId('67556b8e8ea3ab4410643f10'), 'name': 'John Doe', 'role': 'Developer', 'experience': 3}\n",
      "{'_id': ObjectId('67556b8e8ea3ab4410643f11'), 'name': 'Jane Smith', 'role': 'QA Tester', 'experience': 2}\n",
      "{'_id': ObjectId('67556b8e8ea3ab4410643f12'), 'name': 'Alice Johnson', 'role': 'DevOps Engineer', 'experience': 4}\n",
      "{'_id': ObjectId('67556c128ea3ab4410643f13'), 'name': 'John Doe', 'role': 'Developer', 'experience': 3}\n",
      "{'_id': ObjectId('67556c128ea3ab4410643f14'), 'name': 'Jane Smith', 'role': 'QA Tester', 'experience': 2}\n",
      "{'_id': ObjectId('67556c128ea3ab4410643f15'), 'name': 'Alice Johnson', 'role': 'DevOps Engineer', 'experience': 4}\n",
      "{'_id': ObjectId('67556c168ea3ab4410643f16'), 'name': 'John Doe', 'role': 'Developer', 'experience': 3}\n",
      "{'_id': ObjectId('67556c168ea3ab4410643f17'), 'name': 'Jane Smith', 'role': 'QA Tester', 'experience': 2}\n",
      "{'_id': ObjectId('67556c168ea3ab4410643f18'), 'name': 'Alice Johnson', 'role': 'DevOps Engineer', 'experience': 4}\n"
     ]
    }
   ],
   "source": [
    "query = collection.find({\"role\": {\"$exists\": True}})\n",
    "\n",
    "for user in query:\n",
    "    print(user)\n"
   ]
  },
  {
   "cell_type": "code",
   "execution_count": 51,
   "metadata": {},
   "outputs": [
    {
     "name": "stdout",
     "output_type": "stream",
     "text": [
      "{'_id': ObjectId('674dc299131081ea648bb998'), 'name': 'dhanunjaya', 'date': True, 'age': 12}\n"
     ]
    }
   ],
   "source": [
    "query = collection.find({\"role\": {\"$exists\": False}})\n",
    "\n",
    "for user in query:\n",
    "    print(user)\n"
   ]
  },
  {
   "cell_type": "code",
   "execution_count": null,
   "metadata": {},
   "outputs": [],
   "source": []
  },
  {
   "cell_type": "code",
   "execution_count": null,
   "metadata": {},
   "outputs": [],
   "source": [
    "3. UPDATE (Modify Data)\n",
    " Task 5:\n",
    " 25/89\n",
    "Update the experience of a specific user (e.g., \"Dhanunjaya\") and verify if the data is\n",
    " updated correctly.\n",
    " Test updating multiple users at once, e.g., all users with the role \"Tester\" to update their\n",
    " experience to a higher value.\n",
    " Task 6:\n",
    " Test if the system handles missing fields when updating. For instance, try updating a\n",
    " document without including some fields, and verify that the unchanged fields remain\n",
    " intact.\n",
    " Test partial updates (using $set ) and check if only the specified fields are modified,\n",
    " while others remain unchanged."
   ]
  },
  {
   "cell_type": "code",
   "execution_count": 53,
   "metadata": {},
   "outputs": [
    {
     "data": {
      "text/plain": [
       "UpdateResult({'n': 1, 'nModified': 1, 'ok': 1.0, 'updatedExisting': True}, acknowledged=True)"
      ]
     },
     "execution_count": 53,
     "metadata": {},
     "output_type": "execute_result"
    }
   ],
   "source": [
    "collection.update_one({'name':'dhanunjaya'},{'$set':{'experience':3}})"
   ]
  },
  {
   "cell_type": "code",
   "execution_count": 69,
   "metadata": {},
   "outputs": [
    {
     "name": "stdout",
     "output_type": "stream",
     "text": [
      "{'_id': ObjectId('67556b8e8ea3ab4410643f11'), 'name': 'Jane', 'role': 'QA Tester', 'experience': 10, 'email': 'jane.smith@example.com'}\n",
      "{'_id': ObjectId('67556c128ea3ab4410643f14'), 'name': 'Jane', 'role': 'QA Tester', 'experience': 10}\n",
      "{'_id': ObjectId('67556c168ea3ab4410643f17'), 'name': 'Jane', 'role': 'QA Tester', 'experience': 10}\n"
     ]
    }
   ],
   "source": [
    "for i in collection.find({'role':'QA Tester'}):\n",
    "    print(i)"
   ]
  },
  {
   "cell_type": "code",
   "execution_count": 66,
   "metadata": {},
   "outputs": [
    {
     "data": {
      "text/plain": [
       "UpdateResult({'n': 3, 'nModified': 3, 'ok': 1.0, 'updatedExisting': True}, acknowledged=True)"
      ]
     },
     "execution_count": 66,
     "metadata": {},
     "output_type": "execute_result"
    }
   ],
   "source": [
    "collection.update_many({'role':'QA Tester'},{'$set':{'experience':10,'name':'Jane'}})"
   ]
  },
  {
   "cell_type": "code",
   "execution_count": 68,
   "metadata": {},
   "outputs": [
    {
     "data": {
      "text/plain": [
       "UpdateResult({'n': 1, 'nModified': 0, 'ok': 1.0, 'updatedExisting': True}, acknowledged=True)"
      ]
     },
     "execution_count": 68,
     "metadata": {},
     "output_type": "execute_result"
    }
   ],
   "source": [
    "from pymongo import MongoClient\n",
    "from bson import ObjectId\n",
    "\n",
    "collection.update_one({'_id': ObjectId('67556b8e8ea3ab4410643f11')},{'$set': {'email': 'jane.smith@example.com'}})"
   ]
  },
  {
   "cell_type": "code",
   "execution_count": null,
   "metadata": {},
   "outputs": [],
   "source": [
    ". DELETE (Remove Data)\n",
    " Task 7:\n",
    " Delete a specific user by their name and verify that the document is deleted from the\n",
    " database.\n",
    " Test deleting multiple users based on a condition, such as deleting all users with the role\n",
    " \"Tester\".\n",
    " After deleting, query the database to ensure that the users are no longer present.\n",
    " Task 8:\n",
    " Test edge cases:\n",
    " Try deleting a user that doesn’t exist and check how MongoDB responds (no errors, just\n",
    " no deletion).\n",
    " Attempt deleting documents from an empty collection and verify no errors occur"
   ]
  },
  {
   "cell_type": "code",
   "execution_count": 72,
   "metadata": {},
   "outputs": [
    {
     "data": {
      "text/plain": [
       "DeleteResult({'n': 1, 'ok': 1.0}, acknowledged=True)"
      ]
     },
     "execution_count": 72,
     "metadata": {},
     "output_type": "execute_result"
    }
   ],
   "source": [
    "collection.delete_one({'_id': ObjectId('6749850b03b835eca6c32ade')})"
   ]
  },
  {
   "cell_type": "code",
   "execution_count": 75,
   "metadata": {},
   "outputs": [
    {
     "name": "stdout",
     "output_type": "stream",
     "text": [
      "{'_id': ObjectId('674dc299131081ea648bb998'), 'name': 'dhanunjaya', 'date': True, 'age': 12, 'experience': 3}\n",
      "{'_id': ObjectId('67556b8e8ea3ab4410643f10'), 'name': 'John Doe', 'role': 'Developer', 'experience': 3}\n",
      "{'_id': ObjectId('67556b8e8ea3ab4410643f11'), 'name': 'Jane', 'role': 'QA Tester', 'experience': 10, 'email': 'jane.smith@example.com'}\n",
      "{'_id': ObjectId('67556b8e8ea3ab4410643f12'), 'name': 'Alice Johnson', 'role': 'DevOps Engineer', 'experience': 4}\n",
      "{'_id': ObjectId('67556c128ea3ab4410643f13'), 'name': 'John Doe', 'role': 'Developer', 'experience': 3}\n",
      "{'_id': ObjectId('67556c128ea3ab4410643f14'), 'name': 'Jane', 'role': 'QA Tester', 'experience': 10}\n",
      "{'_id': ObjectId('67556c128ea3ab4410643f15'), 'name': 'Alice Johnson', 'role': 'DevOps Engineer', 'experience': 4}\n",
      "{'_id': ObjectId('67556c168ea3ab4410643f16'), 'name': 'John Doe', 'role': 'Developer', 'experience': 3}\n",
      "{'_id': ObjectId('67556c168ea3ab4410643f17'), 'name': 'Jane', 'role': 'QA Tester', 'experience': 10}\n",
      "{'_id': ObjectId('67556c168ea3ab4410643f18'), 'name': 'Alice Johnson', 'role': 'DevOps Engineer', 'experience': 4}\n"
     ]
    }
   ],
   "source": [
    "for i in collection.find():\n",
    "    print(i)"
   ]
  },
  {
   "cell_type": "code",
   "execution_count": 79,
   "metadata": {},
   "outputs": [
    {
     "data": {
      "text/plain": [
       "DeleteResult({'n': 0, 'ok': 1.0}, acknowledged=True)"
      ]
     },
     "execution_count": 79,
     "metadata": {},
     "output_type": "execute_result"
    }
   ],
   "source": [
    "collection.delete_many({'role':'qa'})"
   ]
  },
  {
   "cell_type": "code",
   "execution_count": null,
   "metadata": {},
   "outputs": [],
   "source": [
    "Task 9:\n",
    " You’re testing a new MongoDB-backed feature in an e-commerce platform, where users can\n",
    " add products to their shopping cart. Test the following:\n",
    " Insert product documents with different fields (price, quantity, and category).\n",
    " Update the product quantities when users add or remove products from the cart.\n",
    " Delete a product from the cart and verify if the remaining products are not affected."
   ]
  },
  {
   "cell_type": "code",
   "execution_count": 81,
   "metadata": {},
   "outputs": [],
   "source": [
    "collection_shop = db['shop_cart']"
   ]
  },
  {
   "cell_type": "code",
   "execution_count": null,
   "metadata": {},
   "outputs": [
    {
     "data": {
      "text/plain": [
       "InsertOneResult(ObjectId('675574588ea3ab4410643f19'), acknowledged=True)"
      ]
     },
     "execution_count": 82,
     "metadata": {},
     "output_type": "execute_result"
    }
   ],
   "source": [
    "collection_shop.insert_one({'item':'pant','price':23.45,'country':'india'})"
   ]
  },
  {
   "cell_type": "code",
   "execution_count": 83,
   "metadata": {},
   "outputs": [
    {
     "name": "stdout",
     "output_type": "stream",
     "text": [
      "{'_id': ObjectId('675574588ea3ab4410643f19'), 'item': 'pant', 'price': 23.45, 'country': 'india'}\n",
      "{'_id': ObjectId('6755748c8ea3ab4410643f1a'), 'name': 'Laptop', 'price': 1200, 'quantity': 1, 'category': 'Electronics'}\n",
      "{'_id': ObjectId('6755748c8ea3ab4410643f1b'), 'name': 'Shoes', 'price': 50, 'quantity': 2, 'category': 'Fashion'}\n",
      "{'_id': ObjectId('6755748c8ea3ab4410643f1c'), 'name': 'Smartphone', 'price': 800, 'quantity': 1, 'category': 'Electronics'}\n"
     ]
    }
   ],
   "source": [
    "# Insert product documents\n",
    "products = [\n",
    "    {'name': 'Laptop', 'price': 1200, 'quantity': 1, 'category': 'Electronics'},\n",
    "    {'name': 'Shoes', 'price': 50, 'quantity': 2, 'category': 'Fashion'},\n",
    "    {'name': 'Smartphone', 'price': 800, 'quantity': 1, 'category': 'Electronics'}\n",
    "]\n",
    "\n",
    "# Insert products into the collection\n",
    "collection_shop.insert_many(products)\n",
    "\n",
    "# Verify the insertion\n",
    "for product in collection_shop.find():\n",
    "    print(product)"
   ]
  },
  {
   "cell_type": "code",
   "execution_count": 85,
   "metadata": {},
   "outputs": [
    {
     "name": "stdout",
     "output_type": "stream",
     "text": [
      "{'_id': ObjectId('6755748c8ea3ab4410643f1a'), 'name': 'Laptop', 'price': 1200, 'quantity': 3, 'category': 'Electronics'}\n"
     ]
    }
   ],
   "source": [
    "# Update the quantity of 'Laptop' by adding 1\n",
    "collection_shop.update_one(\n",
    "    {'name': 'Laptop'},  # Find the product by name\n",
    "    {'$inc': {'quantity': 1}}  # Increment the quantity by 1\n",
    ")\n",
    "\n",
    "# Verify the update\n",
    "updated_product = collection_shop.find_one({'name': 'Laptop'})\n",
    "print(updated_product)\n"
   ]
  },
  {
   "cell_type": "code",
   "execution_count": 86,
   "metadata": {},
   "outputs": [
    {
     "name": "stdout",
     "output_type": "stream",
     "text": [
      "None\n",
      "{'_id': ObjectId('675574588ea3ab4410643f19'), 'item': 'pant', 'price': 23.45, 'country': 'india'}\n",
      "{'_id': ObjectId('6755748c8ea3ab4410643f1a'), 'name': 'Laptop', 'price': 1200, 'quantity': 3, 'category': 'Electronics'}\n",
      "{'_id': ObjectId('6755748c8ea3ab4410643f1b'), 'name': 'Shoes', 'price': 50, 'quantity': 2, 'category': 'Fashion'}\n"
     ]
    }
   ],
   "source": [
    "# Delete the 'Smartphone' product from the cart\n",
    "collection_shop.delete_one({'name': 'Smartphone'})\n",
    "\n",
    "# Verify the deletion\n",
    "deleted_product = collection_shop.find_one({'name': 'Smartphone'})\n",
    "print(deleted_product)  # This should return None or show no results\n",
    "\n",
    "# Verify that the remaining products are still there\n",
    "remaining_products = collection_shop.find()\n",
    "for product in remaining_products:\n",
    "    print(product)\n"
   ]
  },
  {
   "cell_type": "code",
   "execution_count": null,
   "metadata": {},
   "outputs": [],
   "source": []
  },
  {
   "cell_type": "markdown",
   "metadata": {},
   "source": [
    "# 3. Indexing in MongoDB"
   ]
  },
  {
   "cell_type": "markdown",
   "metadata": {},
   "source": [
    "- Indexing is a crucial concept in MongoDB (and any database) that helps improve the\n",
    " performance of queries by allowing for faster data retrieval. Without indexing, MongoDB has\n",
    " to scan every document in a collection to find the matching data, which can be slow when\n",
    " dealing with large datasets.\n",
    "\n",
    "### What is Indexing?\n",
    " An index is a special data structure that stores a sorted order of the values of a specific field\n",
    " or fields. By using indexes, MongoDB can quickly locate and retrieve data, without having to\n",
    " scan the entire collection"
   ]
  },
  {
   "cell_type": "code",
   "execution_count": null,
   "metadata": {},
   "outputs": [],
   "source": [
    " Types of Indexes in MongoDB\n",
    " 1. Single Field Index\n",
    " This is the most common type, where an index is created on a single field in a collection.\n",
    " 2. Compound Index\n",
    " A compound index is created on multiple fields. It's useful when you frequently query by\n",
    " a combination of fields.\n",
    " 3. Multikey Index\n",
    " Used when a field contains an array. MongoDB creates an index for each element in the\n",
    " array.\n",
    " 4. Text Index\n",
    " Allows for efficient searching of text in string fields, often used for full-text search.\n",
    " 5. Hashed Index\n",
    " A hashed index is based on a hash of the field's value. It's often used for sharding in\n",
    " distributed MongoDB clusters.\n",
    " 6. Geospatial Index\n",
    " Used for queries that involve geographic data, such as finding nearby locations."
   ]
  },
  {
   "cell_type": "code",
   "execution_count": 90,
   "metadata": {},
   "outputs": [
    {
     "data": {
      "text/plain": [
       "'name_1'"
      ]
     },
     "execution_count": 90,
     "metadata": {},
     "output_type": "execute_result"
    }
   ],
   "source": [
    "# Single Field Index\n",
    "\n",
    "collection.create_index([('name',1)])"
   ]
  },
  {
   "cell_type": "code",
   "execution_count": 91,
   "metadata": {},
   "outputs": [
    {
     "data": {
      "text/plain": [
       "'role_1_experience_-1'"
      ]
     },
     "execution_count": 91,
     "metadata": {},
     "output_type": "execute_result"
    }
   ],
   "source": [
    " # Create a compound index on \"role\" and \"experience\" , -1 for in descending order\n",
    "\n",
    "collection.create_index([(\"role\", 1), (\"experience\", -1)])"
   ]
  },
  {
   "cell_type": "markdown",
   "metadata": {},
   "source": [
    "##### Why Indexing is Important\n",
    "- Performance: Queries are much faster with indexes, especially when dealing with large\n",
    " datasets.\n",
    "\n",
    "- Efficiency: It prevents MongoDB from performing a full collection scan for each query.\n",
    " Cost: While indexes improve read performance, they add a cost to write operations\n",
    " (insert/update) because the index must be updated as well"
   ]
  },
  {
   "cell_type": "code",
   "execution_count": null,
   "metadata": {},
   "outputs": [],
   "source": [
    "# Query to find all products in a specific category\n",
    "products_in_electronics = collection.find({'category': 'Electronics'})\n",
    "\n",
    "# MongoDB will automatically use the 'category' index to optimize this query.\n",
    "for product in products_in_electronics:\n",
    "    print(product)\n",
    "\n"
   ]
  },
  {
   "cell_type": "code",
   "execution_count": null,
   "metadata": {},
   "outputs": [],
   "source": [
    "# Force MongoDB to use the 'category' index\n",
    "products_in_electronics = collection.find({'category': 'Electronics'}).hint([('category', 1)])\n",
    "\n",
    "# MongoDB will use the specified index ('category' index) explicitly.\n",
    "for product in products_in_electronics:\n",
    "    print(product)\n"
   ]
  },
  {
   "cell_type": "code",
   "execution_count": 93,
   "metadata": {},
   "outputs": [
    {
     "name": "stdout",
     "output_type": "stream",
     "text": [
      "{'explainVersion': '1', 'queryPlanner': {'namespace': 'dj_test.shop_cart', 'parsedQuery': {'category': {'$eq': 'Electronics'}}, 'indexFilterSet': False, 'queryHash': '421A7F3B', 'planCacheKey': '0AB69667', 'optimizationTimeMillis': 0, 'maxIndexedOrSolutionsReached': False, 'maxIndexedAndSolutionsReached': False, 'maxScansToExplodeReached': False, 'prunedSimilarIndexes': False, 'winningPlan': {'isCached': False, 'stage': 'COLLSCAN', 'filter': {'category': {'$eq': 'Electronics'}}, 'direction': 'forward'}, 'rejectedPlans': []}, 'executionStats': {'executionSuccess': True, 'nReturned': 1, 'executionTimeMillis': 2, 'totalKeysExamined': 0, 'totalDocsExamined': 3, 'executionStages': {'isCached': False, 'stage': 'COLLSCAN', 'filter': {'category': {'$eq': 'Electronics'}}, 'nReturned': 1, 'executionTimeMillisEstimate': 0, 'works': 4, 'advanced': 1, 'needTime': 2, 'needYield': 0, 'saveState': 0, 'restoreState': 0, 'isEOF': 1, 'direction': 'forward', 'docsExamined': 3}, 'allPlansExecution': []}, 'command': {'find': 'shop_cart', 'filter': {'category': 'Electronics'}, '$db': 'dj_test'}, 'serverInfo': {'host': 'MSI', 'port': 27017, 'version': '8.0.3', 'gitVersion': '89d97f2744a2b9851ddfb51bdf22f687562d9b06'}, 'serverParameters': {'internalQueryFacetBufferSizeBytes': 104857600, 'internalQueryFacetMaxOutputDocSizeBytes': 104857600, 'internalLookupStageIntermediateDocumentMaxSizeBytes': 104857600, 'internalDocumentSourceGroupMaxMemoryBytes': 104857600, 'internalQueryMaxBlockingSortMemoryUsageBytes': 104857600, 'internalQueryProhibitBlockingMergeOnMongoS': 0, 'internalQueryMaxAddToSetBytes': 104857600, 'internalDocumentSourceSetWindowFieldsMaxMemoryBytes': 104857600, 'internalQueryFrameworkControl': 'trySbeRestricted', 'internalQueryPlannerIgnoreIndexWithCollationForRegex': 1}, 'ok': 1.0}\n"
     ]
    }
   ],
   "source": [
    "# Use explain to see which index is being used\n",
    "explain_output = collection.find({'category': 'Electronics'}).explain()\n",
    "\n",
    "# Print the explanation to see which index MongoDB is using\n",
    "print(explain_output)\n"
   ]
  },
  {
   "cell_type": "code",
   "execution_count": 92,
   "metadata": {},
   "outputs": [
    {
     "name": "stdout",
     "output_type": "stream",
     "text": [
      "SON([('v', 2), ('key', SON([('_id', 1)])), ('name', '_id_')])\n",
      "SON([('v', 2), ('key', SON([('name', 1)])), ('name', 'name_1')])\n",
      "SON([('v', 2), ('key', SON([('role', 1), ('experience', -1)])), ('name', 'role_1_experience_-1')])\n"
     ]
    }
   ],
   "source": [
    "# List all indexes in the 'cart' collection\n",
    "indexes = collection.list_indexes()\n",
    "\n",
    "# Print all indexes\n",
    "for index in indexes:\n",
    "    print(index)\n"
   ]
  },
  {
   "cell_type": "code",
   "execution_count": null,
   "metadata": {},
   "outputs": [],
   "source": [
    "1. Basic Index Creation\n",
    " Task 1:\n",
    " Create a simple index on the \n",
    "name field in the \n",
    "users collection.\n",
    " Run a query to find a user by name and check if MongoDB uses the index.\n",
    " 2. Compound Index\n",
    " Task 2:\n",
    " Create a compound index on \n",
    "role and \n",
    "experience in the \n",
    "users collection.\n",
    " Run a query to find users with a specific role and experience. Verify that MongoDB uses\n",
    " the compound index"
   ]
  },
  {
   "cell_type": "code",
   "execution_count": 94,
   "metadata": {},
   "outputs": [
    {
     "name": "stdout",
     "output_type": "stream",
     "text": [
      "{'_id': ObjectId('675574588ea3ab4410643f19'), 'item': 'pant', 'price': 23.45, 'country': 'india'}\n",
      "{'_id': ObjectId('6755748c8ea3ab4410643f1a'), 'name': 'Laptop', 'price': 1200, 'quantity': 3, 'category': 'Electronics'}\n",
      "{'_id': ObjectId('6755748c8ea3ab4410643f1b'), 'name': 'Shoes', 'price': 50, 'quantity': 2, 'category': 'Fashion'}\n"
     ]
    }
   ],
   "source": [
    "for i in collection.find():\n",
    "    print(i)"
   ]
  },
  {
   "cell_type": "code",
   "execution_count": 95,
   "metadata": {},
   "outputs": [
    {
     "data": {
      "text/plain": [
       "'users_1'"
      ]
     },
     "execution_count": 95,
     "metadata": {},
     "output_type": "execute_result"
    }
   ],
   "source": [
    "collection.create_index([('users',1)])"
   ]
  },
  {
   "cell_type": "code",
   "execution_count": 101,
   "metadata": {},
   "outputs": [
    {
     "data": {
      "text/plain": [
       "{'explainVersion': '1',\n",
       " 'queryPlanner': {'namespace': 'dj_test.shop_cart',\n",
       "  'parsedQuery': {'country': {'$eq': 'india'}},\n",
       "  'indexFilterSet': False,\n",
       "  'queryHash': '1E6E91D5',\n",
       "  'planCacheKey': '5B4AF4B1',\n",
       "  'optimizationTimeMillis': 0,\n",
       "  'maxIndexedOrSolutionsReached': False,\n",
       "  'maxIndexedAndSolutionsReached': False,\n",
       "  'maxScansToExplodeReached': False,\n",
       "  'prunedSimilarIndexes': False,\n",
       "  'winningPlan': {'isCached': False,\n",
       "   'stage': 'COLLSCAN',\n",
       "   'filter': {'country': {'$eq': 'india'}},\n",
       "   'direction': 'forward'},\n",
       "  'rejectedPlans': []},\n",
       " 'executionStats': {'executionSuccess': True,\n",
       "  'nReturned': 1,\n",
       "  'executionTimeMillis': 0,\n",
       "  'totalKeysExamined': 0,\n",
       "  'totalDocsExamined': 3,\n",
       "  'executionStages': {'isCached': False,\n",
       "   'stage': 'COLLSCAN',\n",
       "   'filter': {'country': {'$eq': 'india'}},\n",
       "   'nReturned': 1,\n",
       "   'executionTimeMillisEstimate': 0,\n",
       "   'works': 4,\n",
       "   'advanced': 1,\n",
       "   'needTime': 2,\n",
       "   'needYield': 0,\n",
       "   'saveState': 0,\n",
       "   'restoreState': 0,\n",
       "   'isEOF': 1,\n",
       "   'direction': 'forward',\n",
       "   'docsExamined': 3},\n",
       "  'allPlansExecution': []},\n",
       " 'command': {'find': 'shop_cart',\n",
       "  'filter': {'country': 'india'},\n",
       "  '$db': 'dj_test'},\n",
       " 'serverInfo': {'host': 'MSI',\n",
       "  'port': 27017,\n",
       "  'version': '8.0.3',\n",
       "  'gitVersion': '89d97f2744a2b9851ddfb51bdf22f687562d9b06'},\n",
       " 'serverParameters': {'internalQueryFacetBufferSizeBytes': 104857600,\n",
       "  'internalQueryFacetMaxOutputDocSizeBytes': 104857600,\n",
       "  'internalLookupStageIntermediateDocumentMaxSizeBytes': 104857600,\n",
       "  'internalDocumentSourceGroupMaxMemoryBytes': 104857600,\n",
       "  'internalQueryMaxBlockingSortMemoryUsageBytes': 104857600,\n",
       "  'internalQueryProhibitBlockingMergeOnMongoS': 0,\n",
       "  'internalQueryMaxAddToSetBytes': 104857600,\n",
       "  'internalDocumentSourceSetWindowFieldsMaxMemoryBytes': 104857600,\n",
       "  'internalQueryFrameworkControl': 'trySbeRestricted',\n",
       "  'internalQueryPlannerIgnoreIndexWithCollationForRegex': 1},\n",
       " 'ok': 1.0}"
      ]
     },
     "execution_count": 101,
     "metadata": {},
     "output_type": "execute_result"
    }
   ],
   "source": [
    "a = collection.find({'country': 'india'}).explain()\n",
    "\n",
    "a"
   ]
  },
  {
   "cell_type": "code",
   "execution_count": null,
   "metadata": {},
   "outputs": [],
   "source": [
    "\n",
    "3. Text Index\n",
    " Task 3:\n",
    " Create a text index on a \n",
    "description field in a \n",
    "products collection.\n",
    " Run a query to search for a product by a text string and validate the results.\n",
    " 4. Drop Indexes\n",
    " 31/89\n",
    "Task 4:\n",
    " Drop the index on the \n",
    "name field in the \n",
    "users collection.\n",
    " Verify that the index is removed by running the \n",
    "getIndexes() command."
   ]
  },
  {
   "cell_type": "code",
   "execution_count": 102,
   "metadata": {},
   "outputs": [
    {
     "name": "stdout",
     "output_type": "stream",
     "text": [
      "SON([('v', 2), ('key', SON([('_id', 1)])), ('name', '_id_')])\n",
      "SON([('v', 2), ('key', SON([('name', 1)])), ('name', 'name_1')])\n",
      "SON([('v', 2), ('key', SON([('role', 1), ('experience', -1)])), ('name', 'role_1_experience_-1')])\n",
      "SON([('v', 2), ('key', SON([('users', 1)])), ('name', 'users_1')])\n",
      "SON([('v', 2), ('key', SON([('_fts', 'text'), ('_ftsx', 1)])), ('name', 'description_text'), ('weights', SON([('description', 1)])), ('default_language', 'english'), ('language_override', 'language'), ('textIndexVersion', 3)])\n"
     ]
    }
   ],
   "source": [
    "# Create a text index on the 'description' field\n",
    "collection.create_index([('description', 'text')])\n",
    "\n",
    "# Verify the index creation\n",
    "indexes = collection.list_indexes()\n",
    "for index in indexes:\n",
    "    print(index)"
   ]
  },
  {
   "cell_type": "code",
   "execution_count": 107,
   "metadata": {},
   "outputs": [
    {
     "name": "stdout",
     "output_type": "stream",
     "text": [
      "{'_id': ObjectId('675578dd8ea3ab4410643f27'), 'name': 'Laptop', 'price': 1200, 'quantity': 10, 'category': 'Electronics', 'description': 'A high-performance laptop with a fast processor and large storage.'}\n",
      "{'_id': ObjectId('675578dd8ea3ab4410643f28'), 'name': 'Smartphone', 'price': 800, 'quantity': 20, 'category': 'Electronics', 'description': 'A sleek smartphone with a powerful camera and long battery life.'}\n",
      "{'_id': ObjectId('675578dd8ea3ab4410643f29'), 'name': 'Tablet', 'price': 400, 'quantity': 15, 'category': 'Electronics', 'description': 'A versatile tablet perfect for reading and multimedia.'}\n",
      "{'_id': ObjectId('675578dd8ea3ab4410643f2a'), 'name': 'Wireless Mouse', 'price': 25, 'quantity': 50, 'category': 'Accessories', 'description': 'A smooth and responsive wireless mouse.'}\n",
      "{'_id': ObjectId('675578dd8ea3ab4410643f2b'), 'name': 'Wireless Keyboard', 'price': 50, 'quantity': 30, 'category': 'Accessories', 'description': 'A compact and ergonomic wireless keyboard.'}\n"
     ]
    }
   ],
   "source": [
    "products_collection = db['products']  # Replace with your collection name\n",
    "\n",
    "# Sample data to insert\n",
    "products = [\n",
    "    {\"name\": \"Laptop\", \"price\": 1200, \"quantity\": 10, \"category\": \"Electronics\", \"description\": \"A high-performance laptop with a fast processor and large storage.\"},\n",
    "    {\"name\": \"Smartphone\", \"price\": 800, \"quantity\": 20, \"category\": \"Electronics\", \"description\": \"A sleek smartphone with a powerful camera and long battery life.\"},\n",
    "    {\"name\": \"Tablet\", \"price\": 400, \"quantity\": 15, \"category\": \"Electronics\", \"description\": \"A versatile tablet perfect for reading and multimedia.\"},\n",
    "    {\"name\": \"Wireless Mouse\", \"price\": 25, \"quantity\": 50, \"category\": \"Accessories\", \"description\": \"A smooth and responsive wireless mouse.\"},\n",
    "    {\"name\": \"Wireless Keyboard\", \"price\": 50, \"quantity\": 30, \"category\": \"Accessories\", \"description\": \"A compact and ergonomic wireless keyboard.\"}\n",
    "]\n",
    "\n",
    "# Insert data into the 'products' collection\n",
    "products_collection.insert_many(products)\n",
    "\n",
    "# Verify data insertion\n",
    "for product in products_collection.find():\n",
    "    print(product)"
   ]
  },
  {
   "cell_type": "code",
   "execution_count": 108,
   "metadata": {},
   "outputs": [
    {
     "name": "stdout",
     "output_type": "stream",
     "text": [
      "{'_id': ObjectId('675578e48ea3ab4410643f2c'), 'name': 'Alice', 'email': 'alice@example.com', 'role': 'Admin', 'experience': 5}\n",
      "{'_id': ObjectId('675578e48ea3ab4410643f2d'), 'name': 'Bob', 'email': 'bob@example.com', 'role': 'Tester', 'experience': 3}\n",
      "{'_id': ObjectId('675578e48ea3ab4410643f2e'), 'name': 'Charlie', 'email': 'charlie@example.com', 'role': 'Developer', 'experience': 4}\n",
      "{'_id': ObjectId('675578e48ea3ab4410643f2f'), 'name': 'David', 'email': 'david@example.com', 'role': 'Manager', 'experience': 6}\n",
      "{'_id': ObjectId('675578e48ea3ab4410643f30'), 'name': 'Eve', 'email': 'eve@example.com', 'role': 'Designer', 'experience': 2}\n"
     ]
    }
   ],
   "source": [
    "# Sample data to insert into 'users' collection\n",
    "users = [\n",
    "    {\"name\": \"Alice\", \"email\": \"alice@example.com\", \"role\": \"Admin\", \"experience\": 5},\n",
    "    {\"name\": \"Bob\", \"email\": \"bob@example.com\", \"role\": \"Tester\", \"experience\": 3},\n",
    "    {\"name\": \"Charlie\", \"email\": \"charlie@example.com\", \"role\": \"Developer\", \"experience\": 4},\n",
    "    {\"name\": \"David\", \"email\": \"david@example.com\", \"role\": \"Manager\", \"experience\": 6},\n",
    "    {\"name\": \"Eve\", \"email\": \"eve@example.com\", \"role\": \"Designer\", \"experience\": 2}\n",
    "]\n",
    "\n",
    "# Connect to the 'users' collection\n",
    "users_collection = db['users']  # Replace with your collection name\n",
    "\n",
    "# Insert data into the 'users' collection\n",
    "users_collection.insert_many(users)\n",
    "\n",
    "# Verify data insertion\n",
    "for user in users_collection.find():\n",
    "    print(user)\n"
   ]
  },
  {
   "cell_type": "code",
   "execution_count": null,
   "metadata": {},
   "outputs": [
    {
     "name": "stdout",
     "output_type": "stream",
     "text": [
      "\n",
      "Products matching the search:\n",
      "{'_id': ObjectId('675578dd8ea3ab4410643f27'), 'name': 'Laptop', 'price': 1200, 'quantity': 10, 'category': 'Electronics', 'description': 'A high-performance laptop with a fast processor and large storage.'}\n"
     ]
    }
   ],
   "source": [
    "# Create a text index on the 'description' field\n",
    "products_collection.create_index([('description', 'text')])"
   ]
  },
  {
   "cell_type": "code",
   "execution_count": 118,
   "metadata": {},
   "outputs": [
    {
     "name": "stdout",
     "output_type": "stream",
     "text": [
      "\n",
      "Products matching the search:\n"
     ]
    }
   ],
   "source": [
    "\n",
    "# Query to search for products with the word 'laptop' in the description\n",
    "query = products_collection.find({\"$text\": {\"$search\": \"with\"}})\n",
    "\n",
    "# Print search results\n",
    "print(\"\\nProducts matching the search:\")\n",
    "for product in query:\n",
    "    print(product)\n"
   ]
  },
  {
   "cell_type": "code",
   "execution_count": 119,
   "metadata": {},
   "outputs": [
    {
     "name": "stdout",
     "output_type": "stream",
     "text": [
      "{'_id': ObjectId('675578dd8ea3ab4410643f27'), 'name': 'Laptop', 'price': 1200, 'quantity': 10, 'category': 'Electronics', 'description': 'A high-performance laptop with a fast processor and large storage.'}\n"
     ]
    }
   ],
   "source": [
    "# Search for an exact phrase\n",
    "query = products_collection.find({\"$text\": {\"$search\": \"\\\"high-performance laptop\\\"\"}})\n",
    "\n",
    "# Print the results\n",
    "for product in query:\n",
    "    print(product)\n"
   ]
  },
  {
   "cell_type": "code",
   "execution_count": 120,
   "metadata": {},
   "outputs": [
    {
     "name": "stdout",
     "output_type": "stream",
     "text": [
      "\n",
      "Indexes in 'users' collection after dropping the index:\n",
      "SON([('v', 2), ('key', SON([('_id', 1)])), ('name', '_id_')])\n"
     ]
    }
   ],
   "source": [
    "# Create an index on the 'name' field (if not already present)\n",
    "users_collection.create_index([('name', 1)])\n",
    "\n",
    "# Drop the index on the 'name' field\n",
    "index_name = 'name_1'  # Default index name for a single-field ascending index on 'name'\n",
    "users_collection.drop_index(index_name)\n",
    "\n",
    "# Verify that the index has been removed\n",
    "indexes = users_collection.list_indexes()\n",
    "print(\"\\nIndexes in 'users' collection after dropping the index:\")\n",
    "for index in indexes:\n",
    "    print(index)\n"
   ]
  },
  {
   "cell_type": "code",
   "execution_count": null,
   "metadata": {},
   "outputs": [],
   "source": [
    "5. Testing Performance with Indexes\n",
    " Task 5:\n",
    " Test the performance of a query with and without an index.\n",
    " First, run a query without creating any indexes on a large dataset.\n",
    " Then, create an index and rerun the same query. Compare the response time."
   ]
  },
  {
   "cell_type": "code",
   "execution_count": 122,
   "metadata": {},
   "outputs": [
    {
     "name": "stdout",
     "output_type": "stream",
     "text": [
      "Time without index: 0.3437 seconds\n",
      "Time with index: 0.4129 seconds\n",
      "Performance improvement: 0.83x faster with the index\n"
     ]
    }
   ],
   "source": [
    "import time\n",
    "from pymongo import MongoClient\n",
    "\n",
    "# Connect to MongoDB\n",
    "client = MongoClient('mongodb://localhost:27017/')\n",
    "db = client['ecommerce']  # Use your database name\n",
    "products_collection = db['products']  # Use your collection name\n",
    "\n",
    "# Insert a large number of documents (for performance testing)\n",
    "# Example: Insert 100,000 products (you can adjust the number)\n",
    "for i in range(100000):\n",
    "    products_collection.insert_one({\n",
    "        \"name\": f\"Product {i}\",\n",
    "        \"category\": \"Electronics\",\n",
    "        \"price\": 100 + i,\n",
    "        \"description\": \"A great product.\",\n",
    "        \"quantity\": 10\n",
    "    })\n",
    "\n",
    "# Step 1: Run the query without an index\n",
    "start_time = time.time()\n",
    "\n",
    "# Example query: Search for products in a specific category\n",
    "query = products_collection.find({\"category\": \"Electronics\"})\n",
    "\n",
    "# Iterate through the results (just to force the query to run)\n",
    "for product in query:\n",
    "    pass  # Do nothing with the result, just force MongoDB to execute the query\n",
    "\n",
    "end_time = time.time()\n",
    "no_index_time = end_time - start_time\n",
    "\n",
    "print(f\"Time without index: {no_index_time:.4f} seconds\")\n",
    "\n",
    "# Step 2: Create an index on the 'category' field\n",
    "products_collection.create_index('category')\n",
    "\n",
    "# Step 3: Run the query again after creating the index\n",
    "start_time = time.time()\n",
    "\n",
    "# Example query: Search for products in a specific category\n",
    "query = products_collection.find({\"category\": \"Electronics\"})\n",
    "\n",
    "# Iterate through the results (just to force the query to run)\n",
    "for product in query:\n",
    "    pass  # Do nothing with the result, just force MongoDB to execute the query\n",
    "\n",
    "end_time = time.time()\n",
    "with_index_time = end_time - start_time\n",
    "\n",
    "print(f\"Time with index: {with_index_time:.4f} seconds\")\n",
    "\n",
    "# Compare the times\n",
    "print(f\"Performance improvement: {no_index_time / with_index_time:.2f}x faster with the index\")\n"
   ]
  },
  {
   "cell_type": "code",
   "execution_count": null,
   "metadata": {},
   "outputs": [],
   "source": [
    "Real-Life Testing Scenarios for Indexing\n",
    " 1. Scenario 1: Slow Query Issue\n",
    " Your application’s search feature is slow when users search for products by category.\n",
    " Test adding an index on the \n",
    "category field and measure the performance\n",
    " improvement.\n",
    " 2. Scenario 2: Compound Index for Sorting\n",
    " You’re testing a reporting system where data is sorted by multiple fields (e.g., \n",
    "date and\n",
    " status ). Add a compound index and validate that the reports load faster after the index\n",
    " is created.\n",
    " 3. Scenario 3: Dealing with Large Collections\n",
    " As part of performance testing, you need to validate that the system can handle large\n",
    " collections efficiently. Create indexes on fields that are frequently queried (e.g., \n",
    "email , \n",
    "name ,\n",
    " createdAt ), and run performance tests to ensure the system remains fast."
   ]
  },
  {
   "cell_type": "code",
   "execution_count": 125,
   "metadata": {},
   "outputs": [
    {
     "name": "stdout",
     "output_type": "stream",
     "text": [
      "Time without index: 0.5632 seconds\n",
      "Time with index: 0.6215 seconds\n",
      "Performance improvement: 0.91x faster with the index\n"
     ]
    }
   ],
   "source": [
    "import time\n",
    "from pymongo import MongoClient\n",
    "\n",
    "# Connect to MongoDB\n",
    "client = MongoClient('mongodb://localhost:27017/')\n",
    "db = client['ecommerce']  # Use your database name\n",
    "products_collection = db['products']  # Use your collection name\n",
    "\n",
    "# Step 1: Run the query without an index\n",
    "start_time = time.time()\n",
    "\n",
    "# Search for products in a specific category (e.g., 'Electronics')\n",
    "query = products_collection.find({\"category\": \"Electronics\"})\n",
    "for product in query:\n",
    "    pass  # Just executing the query\n",
    "\n",
    "end_time = time.time()\n",
    "no_index_time = end_time - start_time\n",
    "print(f\"Time without index: {no_index_time:.4f} seconds\")\n",
    "\n",
    "# Step 2: Create an index on the 'category' field\n",
    "products_collection.create_index('category')\n",
    "\n",
    "# Step 3: Run the query again after creating the index\n",
    "start_time = time.time()\n",
    "\n",
    "# Search for products in a specific category\n",
    "query = products_collection.find({\"category\": \"Electronics\"})\n",
    "for product in query:\n",
    "    pass  # Just executing the query\n",
    "\n",
    "end_time = time.time()\n",
    "with_index_time = end_time - start_time\n",
    "print(f\"Time with index: {with_index_time:.4f} seconds\")\n",
    "\n",
    "# Performance improvement\n",
    "print(f\"Performance improvement: {no_index_time / with_index_time:.2f}x faster with the index\")\n"
   ]
  },
  {
   "cell_type": "code",
   "execution_count": 126,
   "metadata": {},
   "outputs": [
    {
     "name": "stdout",
     "output_type": "stream",
     "text": [
      "Time without compound index: 0.5714 seconds\n",
      "Time with compound index: 0.5662 seconds\n",
      "Performance improvement: 1.01x faster with the compound index\n"
     ]
    }
   ],
   "source": [
    "# Step 1: Run the sorting query without an index\n",
    "start_time = time.time()\n",
    "\n",
    "# Sorting products by 'date' and 'status'\n",
    "query = products_collection.find().sort([(\"date\", 1), (\"status\", 1)])\n",
    "for product in query:\n",
    "    pass  # Just executing the query\n",
    "\n",
    "end_time = time.time()\n",
    "no_index_sort_time = end_time - start_time\n",
    "print(f\"Time without compound index: {no_index_sort_time:.4f} seconds\")\n",
    "\n",
    "# Step 2: Create a compound index on 'date' and 'status'\n",
    "products_collection.create_index([('date', 1), ('status', 1)])\n",
    "\n",
    "# Step 3: Run the sorting query again after creating the index\n",
    "start_time = time.time()\n",
    "\n",
    "# Sorting products by 'date' and 'status'\n",
    "query = products_collection.find().sort([(\"date\", 1), (\"status\", 1)])\n",
    "for product in query:\n",
    "    pass  # Just executing the query\n",
    "\n",
    "end_time = time.time()\n",
    "with_index_sort_time = end_time - start_time\n",
    "print(f\"Time with compound index: {with_index_sort_time:.4f} seconds\")\n",
    "\n",
    "# Performance improvement\n",
    "print(f\"Performance improvement: {no_index_sort_time / with_index_sort_time:.2f}x faster with the compound index\")\n"
   ]
  },
  {
   "cell_type": "code",
   "execution_count": 127,
   "metadata": {},
   "outputs": [
    {
     "name": "stdout",
     "output_type": "stream",
     "text": [
      "Time without index (email): 0.0015 seconds\n",
      "Time with index (email): 0.0090 seconds\n",
      "Performance improvement for email: 0.16x faster with the index\n"
     ]
    }
   ],
   "source": [
    "# Step 1: Run queries without indexes\n",
    "start_time = time.time()\n",
    "\n",
    "# Example query: Find user by email\n",
    "query = users_collection.find({\"email\": \"user@example.com\"})\n",
    "for user in query:\n",
    "    pass  # Just executing the query\n",
    "\n",
    "end_time = time.time()\n",
    "no_index_email_time = end_time - start_time\n",
    "print(f\"Time without index (email): {no_index_email_time:.4f} seconds\")\n",
    "\n",
    "# Step 2: Create indexes on 'email', 'name', and 'createdAt'\n",
    "users_collection.create_index('email')\n",
    "users_collection.create_index('name')\n",
    "users_collection.create_index('createdAt')\n",
    "\n",
    "# Step 3: Run the same queries again after creating the indexes\n",
    "start_time = time.time()\n",
    "\n",
    "# Query by email\n",
    "query = users_collection.find({\"email\": \"user@example.com\"})\n",
    "for user in query:\n",
    "    pass  # Just executing the query\n",
    "\n",
    "end_time = time.time()\n",
    "with_index_email_time = end_time - start_time\n",
    "print(f\"Time with index (email): {with_index_email_time:.4f} seconds\")\n",
    "\n",
    "# Performance improvement for email query\n",
    "print(f\"Performance improvement for email: {no_index_email_time / with_index_email_time:.2f}x faster with the index\")\n"
   ]
  },
  {
   "cell_type": "code",
   "execution_count": null,
   "metadata": {},
   "outputs": [],
   "source": [
    "Conclusion\n",
    "Scenario 1 (Slow Search by Category): Indexing the category field significantly speeds up search queries.\n",
    "Scenario 2 (Sorting by Multiple Fields): A compound index on date and status improves sorting performance.\n",
    "Scenario 3 (Large Collections): Creating indexes on frequently queried fields (email, name, createdAt) helps maintain performance even as the collection grows."
   ]
  },
  {
   "cell_type": "code",
   "execution_count": null,
   "metadata": {},
   "outputs": [],
   "source": []
  },
  {
   "cell_type": "code",
   "execution_count": null,
   "metadata": {},
   "outputs": [],
   "source": []
  },
  {
   "cell_type": "code",
   "execution_count": null,
   "metadata": {},
   "outputs": [],
   "source": []
  }
 ],
 "metadata": {
  "kernelspec": {
   "display_name": "Python 3",
   "language": "python",
   "name": "python3"
  },
  "language_info": {
   "codemirror_mode": {
    "name": "ipython",
    "version": 3
   },
   "file_extension": ".py",
   "mimetype": "text/x-python",
   "name": "python",
   "nbconvert_exporter": "python",
   "pygments_lexer": "ipython3",
   "version": "3.11.8"
  }
 },
 "nbformat": 4,
 "nbformat_minor": 2
}
