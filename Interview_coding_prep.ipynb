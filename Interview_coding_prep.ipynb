{
 "cells": [
  {
   "cell_type": "code",
   "execution_count": null,
   "id": "7494e88d",
   "metadata": {},
   "outputs": [],
   "source": []
  },
  {
   "cell_type": "code",
   "execution_count": null,
   "id": "3d16c882",
   "metadata": {},
   "outputs": [],
   "source": []
  },
  {
   "cell_type": "markdown",
   "id": "5f13d175",
   "metadata": {},
   "source": [
    "# reverse the string"
   ]
  },
  {
   "cell_type": "code",
   "execution_count": 29,
   "id": "ae26168d",
   "metadata": {},
   "outputs": [
    {
     "name": "stdout",
     "output_type": "stream",
     "text": [
      "olleh\n",
      "olleh\n"
     ]
    }
   ],
   "source": [
    "# reverse the string, this is not the inplace operation, a string cannot be reversed in the inplace\n",
    "# here we are creating an new list and saving the data in it using the range operator\n",
    "def reverse_string(s):\n",
    "    \"\"\"\n",
    "    Function to return the reversed version of the input string.\n",
    "    \n",
    "    Parameters:\n",
    "    s (str): The input string to be reversed.\n",
    "    \n",
    "    Returns:\n",
    "    str: The reversed string.\n",
    "    \"\"\"\n",
    "    # Your code here\n",
    "    s = list(s)\n",
    "    newlist = []\n",
    "\n",
    "    for i in range(len(s)-1,-1,-1):\n",
    "        newlist.append(s[i])\n",
    "\n",
    "    return newlist\n",
    "\n",
    "\n",
    "\n",
    "reverse_string(\"hello\")\n",
    "\n",
    "############################################################################\n",
    "\n",
    "# here we will use the two pointer approach to reverse the string\n",
    "def reverse_string(s):\n",
    "    \"\"\"\n",
    "    Function to return the reversed version of the input string.\n",
    "    \n",
    "    Parameters:\n",
    "    s (str): The input string to be reversed.\n",
    "    \n",
    "    Returns:\n",
    "    str: The reversed string.\n",
    "    \"\"\"\n",
    "    # Your code here\n",
    "    s = list(s)\n",
    "    start = 0 \n",
    "    end = len(s)-1\n",
    "\n",
    "    while start<end:\n",
    "\n",
    "        s[start],s[end] = s[end],s[start]\n",
    "        start+=1\n",
    "        end-=1\n",
    "    \n",
    "    return ''.join(s)\n",
    "\n",
    "\n",
    "\n",
    "reverse_string(\"hello\")\n",
    "\n",
    "\n",
    "############################################################################\n",
    "\n",
    "s = 'hello'\n",
    "print(s[::-1])\n",
    "\n",
    "############################################################################\n",
    "\n",
    "s = 'hello'\n",
    "''.join(list(reversed(s)))\n",
    "\n",
    "############################################################################\n",
    "\n",
    "s = \"hello\"\n",
    "s = bytearray(s, \"utf-8\")\n",
    "start = 0 \n",
    "end = len(s)-1\n",
    "\n",
    "while start<end:\n",
    "\n",
    "    s[start],s[end] = s[end],s[start]\n",
    "    start+=1\n",
    "    end-=1\n",
    "\n",
    "res = s.decode('utf-8')\n",
    "print(res)  # \"olleh\"\n",
    "\n"
   ]
  },
  {
   "cell_type": "code",
   "execution_count": null,
   "id": "88425a76",
   "metadata": {},
   "outputs": [],
   "source": []
  },
  {
   "cell_type": "code",
   "execution_count": null,
   "id": "7d7c257f",
   "metadata": {},
   "outputs": [],
   "source": []
  },
  {
   "cell_type": "markdown",
   "id": "5194df7f",
   "metadata": {},
   "source": [
    "# next"
   ]
  },
  {
   "cell_type": "markdown",
   "id": "8a2ac198",
   "metadata": {},
   "source": []
  }
 ],
 "metadata": {
  "kernelspec": {
   "display_name": "Python 3",
   "language": "python",
   "name": "python3"
  },
  "language_info": {
   "codemirror_mode": {
    "name": "ipython",
    "version": 3
   },
   "file_extension": ".py",
   "mimetype": "text/x-python",
   "name": "python",
   "nbconvert_exporter": "python",
   "pygments_lexer": "ipython3",
   "version": "3.11.8"
  }
 },
 "nbformat": 4,
 "nbformat_minor": 5
}
