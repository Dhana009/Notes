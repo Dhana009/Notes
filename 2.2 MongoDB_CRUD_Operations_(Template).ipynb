{
 "cells": [
  {
   "cell_type": "markdown",
   "id": "b690c973",
   "metadata": {},
   "source": [
    "# MongoDB CRUD Operations\n",
    "\n",
    "Go over how to use the CRUD operation of our MongoDB instance within our Python code using the pymongo module. "
   ]
  },
  {
   "cell_type": "markdown",
   "id": "63d82484",
   "metadata": {},
   "source": [
    "### Import MongoClient instance from pymongo module"
   ]
  },
  {
   "cell_type": "code",
   "execution_count": 1,
   "id": "9f859079",
   "metadata": {},
   "outputs": [],
   "source": [
    "from pymongo import MongoClient"
   ]
  },
  {
   "cell_type": "markdown",
   "id": "4091368b",
   "metadata": {},
   "source": [
    "### Initalize A Client To Connect To MongoDB"
   ]
  },
  {
   "cell_type": "code",
   "execution_count": 3,
   "id": "23925406",
   "metadata": {},
   "outputs": [
    {
     "data": {
      "text/plain": [
       "MongoClient(host=['localhost:27017'], document_class=dict, tz_aware=False, connect=True)"
      ]
     },
     "execution_count": 3,
     "metadata": {},
     "output_type": "execute_result"
    }
   ],
   "source": [
    "#client = MongoClient('localhost',27017) #connect to the server first way\n",
    "\n",
    "client = MongoClient('mongodb://localhost:27017/') #connect to the server second way\n",
    "\n",
    "client"
   ]
  },
  {
   "cell_type": "code",
   "execution_count": null,
   "id": "2ad98224",
   "metadata": {},
   "outputs": [],
   "source": []
  },
  {
   "cell_type": "markdown",
   "id": "012432e6",
   "metadata": {},
   "source": [
    "### Connect to specific Database"
   ]
  },
  {
   "cell_type": "code",
   "execution_count": 10,
   "id": "cd4dd97d",
   "metadata": {},
   "outputs": [
    {
     "data": {
      "text/plain": [
       "['admin', 'config', 'local', 'mystore', 'test', 'test_db']"
      ]
     },
     "execution_count": 10,
     "metadata": {},
     "output_type": "execute_result"
    }
   ],
   "source": [
    "client.list_database_names() #list all the databases"
   ]
  },
  {
   "cell_type": "code",
   "execution_count": 12,
   "id": "5e4867a1",
   "metadata": {},
   "outputs": [],
   "source": [
    "#create a new database\n",
    "db = client['test-database']"
   ]
  },
  {
   "cell_type": "code",
   "execution_count": 13,
   "id": "250299f3",
   "metadata": {},
   "outputs": [
    {
     "data": {
      "text/plain": [
       "['admin', 'config', 'local', 'mystore', 'test', 'test_db']"
      ]
     },
     "execution_count": 13,
     "metadata": {},
     "output_type": "execute_result"
    }
   ],
   "source": [
    "client.list_database_names()"
   ]
  },
  {
   "cell_type": "markdown",
   "id": "e6149743",
   "metadata": {},
   "source": [
    "### Access a specific collection within the database"
   ]
  },
  {
   "cell_type": "code",
   "execution_count": null,
   "id": "d155fed0",
   "metadata": {},
   "outputs": [],
   "source": []
  },
  {
   "cell_type": "code",
   "execution_count": 25,
   "id": "e235d5c9",
   "metadata": {},
   "outputs": [
    {
     "data": {
      "text/plain": [
       "['admin',\n",
       " 'config',\n",
       " 'local',\n",
       " 'mystore',\n",
       " 'test',\n",
       " 'test-database',\n",
       " 'test-database1',\n",
       " 'test_db']"
      ]
     },
     "execution_count": 25,
     "metadata": {},
     "output_type": "execute_result"
    }
   ],
   "source": [
    "# creare a new db and collection in the db\n",
    "\n",
    "db = client['test-database']\n",
    "collection = db['test-collection']\n",
    "\n",
    "client.list_database_names()"
   ]
  },
  {
   "cell_type": "code",
   "execution_count": 23,
   "id": "16350c6e",
   "metadata": {},
   "outputs": [
    {
     "data": {
      "text/plain": [
       "{'_id': ObjectId('664f8914c678099c2999c56d'), 'name': 'John', 'age': 25}"
      ]
     },
     "execution_count": 23,
     "metadata": {},
     "output_type": "execute_result"
    }
   ],
   "source": [
    "#insert a document into the collection\n",
    "collection.insert_one({'name':'John','age':25})\n",
    "\n",
    "#insert multiple documents into the collection\n",
    "collection.insert_many([{'name':'John','age':25},{'name':'Jane','age':26}])\n",
    "\n",
    "#find a document in the collection\n",
    "collection.find_one()"
   ]
  },
  {
   "cell_type": "markdown",
   "id": "8b1658e2",
   "metadata": {},
   "source": [
    "### C - Create\n",
    "Go over how to create new entries in your Mongo Database"
   ]
  },
  {
   "cell_type": "code",
   "execution_count": null,
   "id": "80369658",
   "metadata": {},
   "outputs": [],
   "source": []
  },
  {
   "cell_type": "code",
   "execution_count": null,
   "id": "b191a491",
   "metadata": {},
   "outputs": [],
   "source": []
  },
  {
   "cell_type": "code",
   "execution_count": null,
   "id": "ba95eb51",
   "metadata": {},
   "outputs": [],
   "source": []
  },
  {
   "cell_type": "markdown",
   "id": "7a6adcda",
   "metadata": {},
   "source": [
    "### R - Read\n",
    "Go over how to read in entries that are in your Mongo Database"
   ]
  },
  {
   "cell_type": "code",
   "execution_count": null,
   "id": "cc81de6b",
   "metadata": {},
   "outputs": [],
   "source": []
  },
  {
   "cell_type": "code",
   "execution_count": null,
   "id": "775c5f1f",
   "metadata": {},
   "outputs": [],
   "source": []
  },
  {
   "cell_type": "markdown",
   "id": "f09802a7",
   "metadata": {},
   "source": [
    "### U - Update\n",
    "Go over how to update existing entries that are in your Mongo Database"
   ]
  },
  {
   "cell_type": "code",
   "execution_count": null,
   "id": "c7689535",
   "metadata": {},
   "outputs": [],
   "source": []
  },
  {
   "cell_type": "markdown",
   "id": "91afa8f8",
   "metadata": {},
   "source": [
    "### D - Delete\n",
    "Go over how to delete entries that are in your Mongo Database"
   ]
  },
  {
   "cell_type": "code",
   "execution_count": null,
   "id": "b182eb7d",
   "metadata": {},
   "outputs": [],
   "source": []
  },
  {
   "cell_type": "code",
   "execution_count": null,
   "id": "b5c1c200",
   "metadata": {},
   "outputs": [],
   "source": []
  }
 ],
 "metadata": {
  "kernelspec": {
   "display_name": "Python 3 (ipykernel)",
   "language": "python",
   "name": "python3"
  },
  "language_info": {
   "codemirror_mode": {
    "name": "ipython",
    "version": 3
   },
   "file_extension": ".py",
   "mimetype": "text/x-python",
   "name": "python",
   "nbconvert_exporter": "python",
   "pygments_lexer": "ipython3",
   "version": "3.11.8"
  }
 },
 "nbformat": 4,
 "nbformat_minor": 5
}
