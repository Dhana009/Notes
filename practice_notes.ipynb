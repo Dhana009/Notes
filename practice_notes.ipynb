{
 "cells": [
  {
   "cell_type": "code",
   "execution_count": null,
   "metadata": {},
   "outputs": [],
   "source": []
  },
  {
   "cell_type": "code",
   "execution_count": 149,
   "metadata": {},
   "outputs": [],
   "source": [
    "from selenium import webdriver\n",
    "from selenium.webdriver.common.by import By\n",
    "from selenium.webdriver.support.ui import Select\n",
    "from selenium.webdriver.common.action_chains import ActionChains\n",
    "from selenium.webdriver.support.wait import WebDriverWait\n",
    "from selenium.webdriver.chrome.service import Service"
   ]
  },
  {
   "cell_type": "code",
   "execution_count": 150,
   "metadata": {},
   "outputs": [],
   "source": [
    "driver = webdriver.Chrome(service=Service())"
   ]
  },
  {
   "cell_type": "code",
   "execution_count": 151,
   "metadata": {},
   "outputs": [],
   "source": [
    "driver.get('https://rahulshettyacademy.com/AutomationPractice/')"
   ]
  },
  {
   "cell_type": "code",
   "execution_count": null,
   "metadata": {},
   "outputs": [
    {
     "data": {
      "text/plain": [
       "['Select', 'Option1', 'Option2', 'Option3']"
      ]
     },
     "execution_count": 16,
     "metadata": {},
     "output_type": "execute_result"
    }
   ],
   "source": [
    "#direct select element\n",
    "\n",
    "from selenium.webdriver.support.ui import Select\n",
    "\n",
    "obj = driver.find_element(By.ID,\"dropdown-class-example\")\n",
    "click = Select(obj)\n",
    "\n",
    "click.select_by_index(1)\n",
    "\n",
    "[i.text for i in click.options]\n",
    "\n",
    "click.select_by_value()\n",
    "click.select_by_visible_text(text='Option2')\n",
    "\n"
   ]
  },
  {
   "cell_type": "code",
   "execution_count": null,
   "metadata": {},
   "outputs": [],
   "source": [
    "click_1.clear()"
   ]
  },
  {
   "cell_type": "code",
   "execution_count": 29,
   "metadata": {},
   "outputs": [],
   "source": [
    "# java script based\n",
    "\n",
    "from selenium.webdriver.common.action_chains import ActionChains\n",
    "import time\n",
    "\n",
    "click_1 = driver.find_element(By.XPATH,\"(//input[@type='text' and contains(class, inputs)])[1]\")\n",
    "click_1.send_keys(\"ind\")  # Type \"ind\"\n",
    "time.sleep(2)  # Give time for dropdown to appear\n",
    "\n",
    "# Use JavaScript to get dropdown items\n",
    "suggestions = driver.execute_script(\"return document.querySelectorAll('.ui-autocomplete li');\")\n",
    "\n",
    "# Click \"India\" from the dropdown\n",
    "for suggestion in suggestions:\n",
    "    if \"India\" in suggestion.text:\n",
    "        ActionChains(driver).move_to_element(suggestion).click().perform()\n",
    "        break\n"
   ]
  },
  {
   "cell_type": "code",
   "execution_count": null,
   "metadata": {},
   "outputs": [],
   "source": [
    "# by using select\n",
    "\n",
    "driver.get('https://rahulshettyacademy.com/dropdownsPractise/')\n",
    "click_2 = Select(driver.find_element(By.ID, \"ctl00_mainContent_ddl_originStation1\"))\n",
    "click_2.select_by_visible_text('Adampur (AIP)')\n",
    "click_2.select_by_index(0)"
   ]
  },
  {
   "cell_type": "code",
   "execution_count": null,
   "metadata": {},
   "outputs": [],
   "source": [
    "# by using normal\n",
    "\n",
    "from selenium import webdriver\n",
    "from selenium.webdriver.common.by import By\n",
    "from selenium.webdriver.support.ui import WebDriverWait\n",
    "from selenium.webdriver.support import expected_conditions as EC\n",
    "import time\n",
    "\n",
    "click4 = driver.find_element(By.XPATH, \"//*[@class='paxinfo']\")\n",
    "click4.click()\n",
    "\n",
    "wait = WebDriverWait(driver, 10)\n",
    "\n",
    "# 1️⃣ Select the \"Adult\" box\n",
    "adult_box = wait.until(EC.element_to_be_clickable((By.ID, \"divAdult\")))\n",
    "\n",
    "# 2️⃣ Click on the \"+\" button to increase Adult count\n",
    "increase_adult = wait.until(EC.element_to_be_clickable((By.ID, \"hrefIncAdt\")))\n",
    "increase_adult.click()\n",
    "\n",
    "# 3️⃣ Select the \"Child\" box\n",
    "child_box = wait.until(EC.element_to_be_clickable((By.ID, \"divChild\")))\n",
    "\n",
    "# 4️⃣ Click on the \"+\" button to increase Child count\n",
    "increase_child = wait.until(EC.element_to_be_clickable((By.ID, \"hrefIncChd\")))\n",
    "increase_child.click()\n",
    "\n",
    "# 5️⃣ Click on the \"Done\" button\n",
    "done_button = wait.until(EC.element_to_be_clickable((By.ID, \"btnclosepaxoption\")))\n",
    "done_button.click()"
   ]
  },
  {
   "cell_type": "code",
   "execution_count": null,
   "metadata": {},
   "outputs": [],
   "source": []
  },
  {
   "cell_type": "code",
   "execution_count": 86,
   "metadata": {},
   "outputs": [],
   "source": [
    "calendar = driver.find_element(By.XPATH, '//input[contains(@class,\"custom_date_pic\")]')\n",
    "calendar.click()"
   ]
  },
  {
   "cell_type": "code",
   "execution_count": 88,
   "metadata": {},
   "outputs": [],
   "source": [
    "# Select month and year\n",
    "target_month = \"December\"\n",
    "target_year = \"2023\"\n",
    "\n",
    "while True:\n",
    "    current_month = driver.find_element(By.CLASS_NAME, \"ui-datepicker-month\").text\n",
    "    current_year = driver.find_element(By.CLASS_NAME, \"ui-datepicker-year\").text\n",
    "\n",
    "    if current_month == target_month and current_year == target_year:\n",
    "        break\n",
    "\n",
    "    next_button = driver.find_element(By.CLASS_NAME, \"ui-datepicker-next\")\n",
    "    \n",
    "    if next_button.is_enabled():\n",
    "        next_button.click()\n",
    "        time.sleep(1)\n",
    "    else:\n",
    "        print(\"Cannot navigate further\")\n",
    "        break\n",
    "\n",
    "# Select date\n",
    "target_date = \"15\"\n",
    "date_element = driver.find_element(By.XPATH, f\"//a[text()='{target_date}']\")\n",
    "date_element.click()\n",
    "#driver.execute_script(\"arguments[0].click();\", date_element)"
   ]
  },
  {
   "cell_type": "code",
   "execution_count": null,
   "metadata": {},
   "outputs": [],
   "source": [
    "# alerts\n",
    "\n",
    "driver.find_element(By.XPATH,'//input[@value=\"Alert\"]').click()\n",
    "alert = driver.switch_to.alert\n",
    "alert.text\n",
    "alert.accept()\n",
    "\n",
    "driver.find_element(By.XPATH,'//input[@value=\"Confirm\"]').click()\n",
    "alert = driver.switch_to.alert\n",
    "alert.text\n",
    "alert.dismiss()"
   ]
  },
  {
   "cell_type": "code",
   "execution_count": null,
   "metadata": {},
   "outputs": [],
   "source": []
  },
  {
   "cell_type": "code",
   "execution_count": 110,
   "metadata": {},
   "outputs": [],
   "source": [
    "# Locate the first row in the table (excluding headers)\n",
    "first_row = driver.find_element(By.XPATH, \"(//table[@id='product']/tbody)[2]\")\n",
    "\n",
    "# Extract data from each column\n",
    "a = first_row.find_elements(By.XPATH, \"(//table[@id='product']/tbody)[2]/tr\")"
   ]
  },
  {
   "cell_type": "code",
   "execution_count": 111,
   "metadata": {},
   "outputs": [
    {
     "name": "stdout",
     "output_type": "stream",
     "text": [
      "Alex Engineer Chennai 28\n",
      "Ben Mechanic Bengaluru 23\n",
      "Dwayne Manager Kolkata 48\n",
      "Ivory Receptionist Chennai 18\n",
      "Jack Engineer Pune 32\n",
      "Joe Postman Chennai 46\n",
      "Raymond Businessman Mumbai 37\n",
      "Ronaldo Sportsman Chennai 31\n",
      "Smith Cricketer Delhi 33\n"
     ]
    }
   ],
   "source": [
    "for i in a:\n",
    "    print(i.text)"
   ]
  },
  {
   "cell_type": "code",
   "execution_count": null,
   "metadata": {},
   "outputs": [],
   "source": []
  },
  {
   "cell_type": "code",
   "execution_count": null,
   "metadata": {},
   "outputs": [],
   "source": [
    "# switvh windows and tabs\n",
    "driver.find_element(By.XPATH, \"//button[contains(text(), 'Open Window')]\").click()\n",
    "wind_opened = driver.window_handles\n",
    "\n",
    "driver.switch_to.window(wind_opened[1])\n",
    "driver.close()\n",
    "\n",
    "driver.switch_to.window(wind_opened[0])"
   ]
  },
  {
   "cell_type": "code",
   "execution_count": null,
   "metadata": {},
   "outputs": [],
   "source": [
    "<a href=\"https://courses.rahulshettyacademy.com/courses\">Courses</a>"
   ]
  },
  {
   "cell_type": "code",
   "execution_count": 148,
   "metadata": {},
   "outputs": [
    {
     "ename": "WebDriverException",
     "evalue": "Message: tab crashed\n  (Session info: chrome=134.0.6998.178)\nStacktrace:\n\tGetHandleVerifier [0x00007FF6FA224C25+3179557]\n\t(No symbol) [0x00007FF6F9E888A0]\n\t(No symbol) [0x00007FF6F9D18FFC]\n\t(No symbol) [0x00007FF6F9D062DB]\n\t(No symbol) [0x00007FF6F9D03EC2]\n\t(No symbol) [0x00007FF6F9D0498F]\n\t(No symbol) [0x00007FF6F9D1350E]\n\t(No symbol) [0x00007FF6F9D2A170]\n\t(No symbol) [0x00007FF6F9DC04E2]\n\t(No symbol) [0x00007FF6F9D97A03]\n\t(No symbol) [0x00007FF6F9D606D0]\n\t(No symbol) [0x00007FF6F9D61983]\n\tGetHandleVerifier [0x00007FF6FA2867CD+3579853]\n\tGetHandleVerifier [0x00007FF6FA29D1D2+3672530]\n\tGetHandleVerifier [0x00007FF6FA292153+3627347]\n\tGetHandleVerifier [0x00007FF6F9FF092A+868650]\n\t(No symbol) [0x00007FF6F9E92FFF]\n\t(No symbol) [0x00007FF6F9E8F4A4]\n\t(No symbol) [0x00007FF6F9E8F646]\n\t(No symbol) [0x00007FF6F9E7EAA9]\n\tBaseThreadInitThunk [0x00007FFEA7F9E8D7+23]\n\tRtlUserThreadStart [0x00007FFEA98114FC+44]\n",
     "output_type": "error",
     "traceback": [
      "\u001b[1;31m---------------------------------------------------------------------------\u001b[0m",
      "\u001b[1;31mWebDriverException\u001b[0m                        Traceback (most recent call last)",
      "Cell \u001b[1;32mIn[148], line 1\u001b[0m\n\u001b[1;32m----> 1\u001b[0m frames \u001b[38;5;241m=\u001b[39m \u001b[43mdriver\u001b[49m\u001b[38;5;241;43m.\u001b[39;49m\u001b[43mfind_elements\u001b[49m\u001b[43m(\u001b[49m\u001b[43mBy\u001b[49m\u001b[38;5;241;43m.\u001b[39;49m\u001b[43mTAG_NAME\u001b[49m\u001b[43m,\u001b[49m\u001b[43m \u001b[49m\u001b[38;5;124;43m\"\u001b[39;49m\u001b[38;5;124;43miframe\u001b[39;49m\u001b[38;5;124;43m\"\u001b[39;49m\u001b[43m)\u001b[49m\n\u001b[0;32m      2\u001b[0m \u001b[38;5;28mprint\u001b[39m(\u001b[38;5;124mf\u001b[39m\u001b[38;5;124m\"\u001b[39m\u001b[38;5;124mTotal frames: \u001b[39m\u001b[38;5;132;01m{\u001b[39;00m\u001b[38;5;28mlen\u001b[39m(frames)\u001b[38;5;132;01m}\u001b[39;00m\u001b[38;5;124m\"\u001b[39m)\n",
      "File \u001b[1;32mc:\\Users\\dhana\\AppData\\Local\\Programs\\Python\\Python311\\Lib\\site-packages\\selenium\\webdriver\\remote\\webdriver.py:788\u001b[0m, in \u001b[0;36mWebDriver.find_elements\u001b[1;34m(self, by, value)\u001b[0m\n\u001b[0;32m    784\u001b[0m     \u001b[38;5;28;01mreturn\u001b[39;00m \u001b[38;5;28mself\u001b[39m\u001b[38;5;241m.\u001b[39mexecute_script(find_element_js, by\u001b[38;5;241m.\u001b[39mto_dict())\n\u001b[0;32m    786\u001b[0m \u001b[38;5;66;03m# Return empty list if driver returns null\u001b[39;00m\n\u001b[0;32m    787\u001b[0m \u001b[38;5;66;03m# See https://github.com/SeleniumHQ/selenium/issues/4555\u001b[39;00m\n\u001b[1;32m--> 788\u001b[0m \u001b[38;5;28;01mreturn\u001b[39;00m \u001b[38;5;28;43mself\u001b[39;49m\u001b[38;5;241;43m.\u001b[39;49m\u001b[43mexecute\u001b[49m\u001b[43m(\u001b[49m\u001b[43mCommand\u001b[49m\u001b[38;5;241;43m.\u001b[39;49m\u001b[43mFIND_ELEMENTS\u001b[49m\u001b[43m,\u001b[49m\u001b[43m \u001b[49m\u001b[43m{\u001b[49m\u001b[38;5;124;43m\"\u001b[39;49m\u001b[38;5;124;43musing\u001b[39;49m\u001b[38;5;124;43m\"\u001b[39;49m\u001b[43m:\u001b[49m\u001b[43m \u001b[49m\u001b[43mby\u001b[49m\u001b[43m,\u001b[49m\u001b[43m \u001b[49m\u001b[38;5;124;43m\"\u001b[39;49m\u001b[38;5;124;43mvalue\u001b[39;49m\u001b[38;5;124;43m\"\u001b[39;49m\u001b[43m:\u001b[49m\u001b[43m \u001b[49m\u001b[43mvalue\u001b[49m\u001b[43m}\u001b[49m\u001b[43m)\u001b[49m[\u001b[38;5;124m\"\u001b[39m\u001b[38;5;124mvalue\u001b[39m\u001b[38;5;124m\"\u001b[39m] \u001b[38;5;129;01mor\u001b[39;00m []\n",
      "File \u001b[1;32mc:\\Users\\dhana\\AppData\\Local\\Programs\\Python\\Python311\\Lib\\site-packages\\selenium\\webdriver\\remote\\webdriver.py:380\u001b[0m, in \u001b[0;36mWebDriver.execute\u001b[1;34m(self, driver_command, params)\u001b[0m\n\u001b[0;32m    378\u001b[0m response \u001b[38;5;241m=\u001b[39m \u001b[38;5;28mself\u001b[39m\u001b[38;5;241m.\u001b[39mcommand_executor\u001b[38;5;241m.\u001b[39mexecute(driver_command, params)\n\u001b[0;32m    379\u001b[0m \u001b[38;5;28;01mif\u001b[39;00m response:\n\u001b[1;32m--> 380\u001b[0m     \u001b[38;5;28;43mself\u001b[39;49m\u001b[38;5;241;43m.\u001b[39;49m\u001b[43merror_handler\u001b[49m\u001b[38;5;241;43m.\u001b[39;49m\u001b[43mcheck_response\u001b[49m\u001b[43m(\u001b[49m\u001b[43mresponse\u001b[49m\u001b[43m)\u001b[49m\n\u001b[0;32m    381\u001b[0m     response[\u001b[38;5;124m\"\u001b[39m\u001b[38;5;124mvalue\u001b[39m\u001b[38;5;124m\"\u001b[39m] \u001b[38;5;241m=\u001b[39m \u001b[38;5;28mself\u001b[39m\u001b[38;5;241m.\u001b[39m_unwrap_value(response\u001b[38;5;241m.\u001b[39mget(\u001b[38;5;124m\"\u001b[39m\u001b[38;5;124mvalue\u001b[39m\u001b[38;5;124m\"\u001b[39m, \u001b[38;5;28;01mNone\u001b[39;00m))\n\u001b[0;32m    382\u001b[0m     \u001b[38;5;28;01mreturn\u001b[39;00m response\n",
      "File \u001b[1;32mc:\\Users\\dhana\\AppData\\Local\\Programs\\Python\\Python311\\Lib\\site-packages\\selenium\\webdriver\\remote\\errorhandler.py:229\u001b[0m, in \u001b[0;36mErrorHandler.check_response\u001b[1;34m(self, response)\u001b[0m\n\u001b[0;32m    227\u001b[0m         alert_text \u001b[38;5;241m=\u001b[39m value[\u001b[38;5;124m\"\u001b[39m\u001b[38;5;124malert\u001b[39m\u001b[38;5;124m\"\u001b[39m]\u001b[38;5;241m.\u001b[39mget(\u001b[38;5;124m\"\u001b[39m\u001b[38;5;124mtext\u001b[39m\u001b[38;5;124m\"\u001b[39m)\n\u001b[0;32m    228\u001b[0m     \u001b[38;5;28;01mraise\u001b[39;00m exception_class(message, screen, stacktrace, alert_text)  \u001b[38;5;66;03m# type: ignore[call-arg]  # mypy is not smart enough here\u001b[39;00m\n\u001b[1;32m--> 229\u001b[0m \u001b[38;5;28;01mraise\u001b[39;00m exception_class(message, screen, stacktrace)\n",
      "\u001b[1;31mWebDriverException\u001b[0m: Message: tab crashed\n  (Session info: chrome=134.0.6998.178)\nStacktrace:\n\tGetHandleVerifier [0x00007FF6FA224C25+3179557]\n\t(No symbol) [0x00007FF6F9E888A0]\n\t(No symbol) [0x00007FF6F9D18FFC]\n\t(No symbol) [0x00007FF6F9D062DB]\n\t(No symbol) [0x00007FF6F9D03EC2]\n\t(No symbol) [0x00007FF6F9D0498F]\n\t(No symbol) [0x00007FF6F9D1350E]\n\t(No symbol) [0x00007FF6F9D2A170]\n\t(No symbol) [0x00007FF6F9DC04E2]\n\t(No symbol) [0x00007FF6F9D97A03]\n\t(No symbol) [0x00007FF6F9D606D0]\n\t(No symbol) [0x00007FF6F9D61983]\n\tGetHandleVerifier [0x00007FF6FA2867CD+3579853]\n\tGetHandleVerifier [0x00007FF6FA29D1D2+3672530]\n\tGetHandleVerifier [0x00007FF6FA292153+3627347]\n\tGetHandleVerifier [0x00007FF6F9FF092A+868650]\n\t(No symbol) [0x00007FF6F9E92FFF]\n\t(No symbol) [0x00007FF6F9E8F4A4]\n\t(No symbol) [0x00007FF6F9E8F646]\n\t(No symbol) [0x00007FF6F9E7EAA9]\n\tBaseThreadInitThunk [0x00007FFEA7F9E8D7+23]\n\tRtlUserThreadStart [0x00007FFEA98114FC+44]\n"
     ]
    }
   ],
   "source": [
    "frames = driver.find_elements(By.TAG_NAME, \"iframe\")\n",
    "print(f\"Total frames: {len(frames)}\")"
   ]
  },
  {
   "cell_type": "code",
   "execution_count": 152,
   "metadata": {},
   "outputs": [],
   "source": [
    "driver.switch_to.frame(\"courses-iframe\")"
   ]
  },
  {
   "cell_type": "code",
   "execution_count": 153,
   "metadata": {},
   "outputs": [],
   "source": [
    "driver.find_element(By.XPATH,'//a[contains(text(), \"Courses\")]').click()"
   ]
  },
  {
   "cell_type": "code",
   "execution_count": 155,
   "metadata": {},
   "outputs": [],
   "source": [
    "driver.switch_to.default_content()"
   ]
  },
  {
   "cell_type": "code",
   "execution_count": 157,
   "metadata": {},
   "outputs": [],
   "source": [
    "driver.refresh()\n"
   ]
  },
  {
   "cell_type": "code",
   "execution_count": null,
   "metadata": {},
   "outputs": [],
   "source": []
  },
  {
   "cell_type": "code",
   "execution_count": null,
   "metadata": {},
   "outputs": [],
   "source": []
  },
  {
   "cell_type": "code",
   "execution_count": 5,
   "metadata": {},
   "outputs": [
    {
     "name": "stdout",
     "output_type": "stream",
     "text": [
      "virgin\n"
     ]
    }
   ],
   "source": [
    "class testing: #class - blueprint\n",
    "\n",
    "    def __init__(self,name,age): #constructor\n",
    "        self.name = name # attributes\n",
    "        self.age = age\n",
    "\n",
    "    def check_age(self): #methods\n",
    "        if self.age>18: # instance variables\n",
    "            print('virgin')\n",
    "\n",
    "\n",
    "check_virign = testing('dj',122) #object\n",
    "check_virign.check_age()"
   ]
  },
  {
   "cell_type": "code",
   "execution_count": null,
   "metadata": {},
   "outputs": [
    {
     "name": "stdout",
     "output_type": "stream",
     "text": [
      "total is clear\n",
      "balance is nill\n"
     ]
    }
   ],
   "source": [
    "class testing: #class - blueprint\n",
    "\n",
    "    def __init__(self,name,age): #constructor\n",
    "        self.name = name # attributes\n",
    "        self.age = age\n",
    "\n",
    "    def check_age(self): #methods\n",
    "        if self.age>18: # instance variables\n",
    "            print('virgin')\n",
    "\n",
    "\n",
    "check_virign = testing('dj',122) #object\n",
    "check_virign.check_age()\n",
    "\n",
    "\n",
    "# inheritance\n",
    "\n",
    "class model_bank:\n",
    "\n",
    "    def check_balance(self,account):\n",
    "        self.account = account\n",
    "        if self.account == 101:\n",
    "            print('balance is nill')\n",
    "\n",
    "    \n",
    "class sbi_bank(model_bank):\n",
    "\n",
    "    def total(self,account):\n",
    "        print('total is clear')\n",
    "        self.check_balance(account)\n",
    "\n",
    "\n",
    "bank = sbi_bank()\n",
    "bank.total(101)\n"
   ]
  },
  {
   "cell_type": "code",
   "execution_count": null,
   "metadata": {},
   "outputs": [
    {
     "name": "stdout",
     "output_type": "stream",
     "text": [
      "total is clear\n",
      "balance is nill\n"
     ]
    }
   ],
   "source": [
    "\n",
    "class testing: #class - blueprint\n",
    "\n",
    "    def __init__(self,name,age): #constructor\n",
    "        self.name = name # attributes\n",
    "        self.age = age\n",
    "\n",
    "    def check_age(self): #methods\n",
    "        if self.age>18: # instance variables\n",
    "            print('virgin')\n",
    "\n",
    "\n",
    "check_virign = testing('dj',122) #object\n",
    "check_virign.check_age()\n",
    "\n",
    "\n",
    "# inheritance\n",
    "\n",
    "class model_bank:\n",
    "\n",
    "    def check_balance(self,account):\n",
    "        self.account = account\n",
    "        if self.account == 101:\n",
    "            print('balance is nill')\n",
    "\n",
    "    \n",
    "class sbi_bank(model_bank):\n",
    "\n",
    "    def total(self,account):\n",
    "        print('total is clear')\n",
    "        self.check_balance(account)\n",
    "\n",
    "\n",
    "bank = sbi_bank()\n",
    "bank.total(101)\n",
    "\n",
    "\n",
    "# inheritance\n",
    "\n",
    "class model_bank:\n",
    "\n",
    "    def __init__(self,account):\n",
    "        self.account = account\n",
    "\n",
    "    def check_balance(self):\n",
    "        if self.account == 101:\n",
    "            print('balance is nill')\n",
    "\n",
    "    \n",
    "class sbi_bank(model_bank):\n",
    "\n",
    "    def total(self):\n",
    "        print('total is clear')\n",
    "        self.check_balance()\n",
    "\n",
    "\n",
    "bank = sbi_bank(101)\n",
    "bank.total()\n"
   ]
  },
  {
   "cell_type": "code",
   "execution_count": null,
   "metadata": {},
   "outputs": [],
   "source": [
    "\n",
    "class testing: #class - blueprint\n",
    "\n",
    "    def __init__(self,name,age): #constructor\n",
    "        self.name = name # attributes\n",
    "        self.age = age\n",
    "\n",
    "    def check_age(self): #methods\n",
    "        if self.age>18: # instance variables\n",
    "            print('virgin')\n",
    "\n",
    "\n",
    "check_virign = testing('dj',122) #object\n",
    "check_virign.check_age()\n",
    "\n",
    "\n",
    "# inheritance\n",
    "\n",
    "class model_bank:\n",
    "\n",
    "    def check_balance(self,account):\n",
    "        self.account = account\n",
    "        if self.account == 101:\n",
    "            print('balance is nill')\n",
    "\n",
    "    \n",
    "class sbi_bank(model_bank):\n",
    "\n",
    "    def total(self,account):\n",
    "        print('total is clear')\n",
    "        self.check_balance(account)\n",
    "\n",
    "\n",
    "bank = sbi_bank()\n",
    "bank.total(101)\n",
    "\n",
    "\n",
    "# inheritance\n",
    "\n",
    "class model_bank:\n",
    "\n",
    "    def __init__(self,account):\n",
    "        self.account = account\n",
    "\n",
    "    def check_balance(self):\n",
    "        if self.account == 101:\n",
    "            print('balance is nill')\n",
    "\n",
    "    \n",
    "class sbi_bank(model_bank):\n",
    "\n",
    "    def total(self):\n",
    "        print('total is clear')\n",
    "        self.check_balance()\n",
    "\n",
    "\n",
    "bank = sbi_bank(101)\n",
    "bank.total()\n",
    "\n",
    "\n",
    "\n",
    "# multi level inheritance\n",
    "\n",
    "class FrameworkCore:\n",
    "    def core_setup(self):\n",
    "        print(\"Framework core initialized\")\n",
    "\n",
    "class BaseTest(FrameworkCore):\n",
    "    def setup(self):\n",
    "        print(\"Base test setup\")\n",
    "\n",
    "class LoginTest(BaseTest):\n",
    "    def test_login(self):\n",
    "        self.core_setup()\n",
    "        self.setup()\n",
    "        print(\"Running login test\")\n",
    "\n",
    "\n",
    "# use super().__init__() in every method to ensure the mro considers all\n",
    "\n",
    "\n",
    "class ConfigLoader:\n",
    "    def __init__(self):\n",
    "        super().__init__()  # Ensures the MRO continues\n",
    "        self.env = \"QA\"\n",
    "        self.base_url = \"https://test-app.qa.com\"\n",
    "        print(f\"[ConfigLoader] Environment set to: {self.env}\")\n",
    "\n",
    "\n",
    "class DriverManager:\n",
    "    def __init__(self):\n",
    "        super().__init__()  # Ensures the MRO continues\n",
    "        self.driver = \"ChromeDriver Initialized\"\n",
    "        self.driver_path = \"/usr/local/bin/chromedriver\"\n",
    "        print(f\"[DriverManager] Driver setup done: {self.driver}\")\n",
    "\n",
    "\n",
    "class LoginManager:\n",
    "    def __init__(self):\n",
    "        super().__init__()  # Ensures the MRO continues\n",
    "        self.username = \"qa_user\"\n",
    "        self.password = \"secure_password\"\n",
    "        print(\"[LoginManager] Login credentials ready\")\n",
    "\n",
    "\n",
    "# BaseTest uses all parent classes using super(), relies on MRO\n",
    "class BaseTest(ConfigLoader, DriverManager, LoginManager):\n",
    "    def __init__(self):\n",
    "        super().__init__()  # Will call ConfigLoader → DriverManager → LoginManager (based on MRO)\n",
    "        self.session = \"Test Session Started\"\n",
    "        print(\"[BaseTest] Base test environment ready\")\n",
    "\n",
    "\n",
    "# Dashboard test class\n",
    "class DashboardTest(BaseTest):\n",
    "    def __init__(self):\n",
    "        super().__init__()  # Will call BaseTest → ConfigLoader → ...\n",
    "        self.page = \"DashboardPage\"\n",
    "        self.ui_elements = [\"search_bar\", \"menu\", \"user_icon\"]\n",
    "        print(\"[DashboardTest] Dashboard test initialized\")\n",
    "\n",
    "    def test_dashboard(self):\n",
    "        print(\"\\n=== TEST EXECUTION START ===\")\n",
    "        print(f\"Env: {self.env}\")\n",
    "        print(f\"Base URL: {self.base_url}\")\n",
    "        print(f\"Driver: {self.driver}\")\n",
    "        print(f\"Login as: {self.username}\")\n",
    "        print(f\"Session: {self.session}\")\n",
    "        print(f\"Testing Page: {self.page}\")\n",
    "        print(f\"UI Elements to Verify: {self.ui_elements}\")\n",
    "        print(\"=== TEST EXECUTION COMPLETE ===\\n\")\n",
    "\n",
    "\n",
    "# Run the test\n",
    "test = DashboardTest()\n",
    "test.test_dashboard()\n",
    "\n",
    "\n",
    "# multi inhertiance with init values\n",
    "\n",
    "class model_car:\n",
    "\n",
    "    def __init__(self,apple):\n",
    "        self.apple = apple\n",
    "\n",
    "    def print_apples(self):\n",
    "        print(self.apple)\n",
    "\n",
    "class fruits(model_car):\n",
    "\n",
    "    def __init__(self,apple,banana):\n",
    "        super().__init__(apple)\n",
    "        self.banana = banana\n",
    "\n",
    "    def check_one(self):\n",
    "        print(self.banana)\n",
    "\n",
    "class pencil(fruits):\n",
    "\n",
    "    def __init__(self,cool,apple,banana):\n",
    "        super().__init__(apple,banana)\n",
    "        self.cool = cool\n",
    "\n",
    "    def cool_one(self):\n",
    "        print(self.cool)\n",
    "        self.check_one()\n",
    "        self.print_apples()\n",
    "\n",
    "\n",
    "\n",
    "love = pencil('cool','apple','banana')\n",
    "\n",
    "love.cool_one()\n",
    "\n"
   ]
  },
  {
   "cell_type": "code",
   "execution_count": null,
   "metadata": {},
   "outputs": [],
   "source": []
  },
  {
   "cell_type": "code",
   "execution_count": null,
   "metadata": {},
   "outputs": [
    {
     "name": "stdout",
     "output_type": "stream",
     "text": [
      "[LoginManager] Login credentials ready\n",
      "[DriverManager] Driver setup done: ChromeDriver Initialized\n",
      "[ConfigLoader] Environment set to: QA\n",
      "[BaseTest] Base test environment ready\n",
      "[DashboardTest] Dashboard test initialized\n",
      "\n",
      "=== TEST EXECUTION START ===\n",
      "Env: QA\n",
      "Base URL: https://test-app.qa.com\n",
      "Driver: ChromeDriver Initialized\n",
      "Login as: qa_user\n",
      "Session: Test Session Started\n",
      "Testing Page: DashboardPage\n",
      "UI Elements to Verify: ['search_bar', 'menu', 'user_icon']\n",
      "=== TEST EXECUTION COMPLETE ===\n",
      "\n"
     ]
    }
   ],
   "source": [
    "# use super().__init__() in every method to ensure the mro considers all\n",
    "\n",
    "\n",
    "class ConfigLoader:\n",
    "    def __init__(self):\n",
    "        super().__init__()  # Ensures the MRO continues\n",
    "        self.env = \"QA\"\n",
    "        self.base_url = \"https://test-app.qa.com\"\n",
    "        print(f\"[ConfigLoader] Environment set to: {self.env}\")\n",
    "\n",
    "\n",
    "class DriverManager:\n",
    "    def __init__(self):\n",
    "        super().__init__()  # Ensures the MRO continues\n",
    "        self.driver = \"ChromeDriver Initialized\"\n",
    "        self.driver_path = \"/usr/local/bin/chromedriver\"\n",
    "        print(f\"[DriverManager] Driver setup done: {self.driver}\")\n",
    "\n",
    "\n",
    "class LoginManager:\n",
    "    def __init__(self):\n",
    "        super().__init__()  # Ensures the MRO continues\n",
    "        self.username = \"qa_user\"\n",
    "        self.password = \"secure_password\"\n",
    "        print(\"[LoginManager] Login credentials ready\")\n",
    "\n",
    "\n",
    "# BaseTest uses all parent classes using super(), relies on MRO\n",
    "class BaseTest(ConfigLoader, DriverManager, LoginManager):\n",
    "    def __init__(self):\n",
    "        super().__init__()  # Will call ConfigLoader → DriverManager → LoginManager (based on MRO)\n",
    "        self.session = \"Test Session Started\"\n",
    "        print(\"[BaseTest] Base test environment ready\")\n",
    "\n",
    "\n",
    "# Dashboard test class\n",
    "class DashboardTest(BaseTest):\n",
    "    def __init__(self):\n",
    "        super().__init__()  # Will call BaseTest → ConfigLoader → ...\n",
    "        self.page = \"DashboardPage\"\n",
    "        self.ui_elements = [\"search_bar\", \"menu\", \"user_icon\"]\n",
    "        print(\"[DashboardTest] Dashboard test initialized\")\n",
    "\n",
    "    def test_dashboard(self):\n",
    "        print(\"\\n=== TEST EXECUTION START ===\")\n",
    "        print(f\"Env: {self.env}\")\n",
    "        print(f\"Base URL: {self.base_url}\")\n",
    "        print(f\"Driver: {self.driver}\")\n",
    "        print(f\"Login as: {self.username}\")\n",
    "        print(f\"Session: {self.session}\")\n",
    "        print(f\"Testing Page: {self.page}\")\n",
    "        print(f\"UI Elements to Verify: {self.ui_elements}\")\n",
    "        print(\"=== TEST EXECUTION COMPLETE ===\\n\")\n",
    "\n",
    "\n",
    "# Run the test\n",
    "test = DashboardTest()\n",
    "test.test_dashboard()\n",
    "\n",
    "\n",
    "# multi inhertiance with init values\n",
    "\n",
    "class model_car:\n",
    "\n",
    "    def __init__(self,apple):\n",
    "        self.apple = apple\n",
    "\n",
    "    def print_apples(self):\n",
    "        print(self.apple)\n",
    "\n",
    "class fruits(model_car):\n",
    "\n",
    "    def __init__(self,apple,banana):\n",
    "        super().__init__(apple)\n",
    "        self.banana = banana\n",
    "\n",
    "    def check_one(self):\n",
    "        print(self.banana)\n",
    "\n",
    "class pencil(fruits):\n",
    "\n",
    "    def __init__(self,cool,apple,banana):\n",
    "        super().__init__(apple,banana)\n",
    "        self.cool = cool\n",
    "\n",
    "    def cool_one(self):\n",
    "        print(self.cool)\n",
    "        self.check_one()\n",
    "        self.print_apples()\n",
    "\n",
    "\n",
    "\n",
    "love = pencil('cool','apple','banana')\n",
    "\n",
    "love.cool_one()\n",
    "\n"
   ]
  },
  {
   "cell_type": "code",
   "execution_count": 60,
   "metadata": {},
   "outputs": [
    {
     "name": "stdout",
     "output_type": "stream",
     "text": [
      "cool\n",
      "banana\n",
      "apple\n"
     ]
    }
   ],
   "source": [
    "# multi inhertiance with init values\n",
    "\n",
    "class model_car:\n",
    "\n",
    "    def __init__(self,apple):\n",
    "        self.apple = apple\n",
    "\n",
    "    def print_apples(self):\n",
    "        print(self.apple)\n",
    "\n",
    "class fruits(model_car):\n",
    "\n",
    "    def __init__(self,apple,banana):\n",
    "        super().__init__(apple)\n",
    "        self.banana = banana\n",
    "\n",
    "    def check_one(self):\n",
    "        print(self.banana)\n",
    "\n",
    "class pencil(fruits):\n",
    "\n",
    "    def __init__(self,cool,apple,banana):\n",
    "        super().__init__(apple,banana)\n",
    "        self.cool = cool\n",
    "\n",
    "    def cool_one(self):\n",
    "        print(self.cool)\n",
    "        self.check_one()\n",
    "        self.print_apples()\n",
    "\n",
    "\n",
    "\n",
    "love = pencil('cool','apple','banana')\n",
    "\n",
    "love.cool_one()\n"
   ]
  },
  {
   "cell_type": "code",
   "execution_count": null,
   "metadata": {},
   "outputs": [],
   "source": []
  },
  {
   "cell_type": "code",
   "execution_count": null,
   "metadata": {},
   "outputs": [
    {
     "name": "stdout",
     "output_type": "stream",
     "text": [
      "apple\n",
      "banana\n"
     ]
    }
   ],
   "source": [
    "#polymorphism\n",
    "\n",
    "#same methods behave differently based on the Classes\n",
    "\n",
    "#many forms\n",
    "\n",
    "class apple:\n",
    "\n",
    "    def one(self):\n",
    "        print('apple')\n",
    "\n",
    "\n",
    "class banana:\n",
    "\n",
    "    def one(self):\n",
    "        print('banana')\n",
    "\n",
    "\n",
    "class TestRunner:\n",
    "    def __init__(self, test_cases):\n",
    "        self.test_cases = test_cases\n",
    "\n",
    "    def execute_all(self):\n",
    "        for i in self.test_cases:\n",
    "            i.one()\n",
    "\n",
    "\n",
    "fruits_1 = apple()\n",
    "fruits_2 = banana()\n",
    "\n",
    "test_suite = [fruits_1,fruits_2]\n",
    "\n",
    "runner = TestRunner(test_suite)\n",
    "runner.execute_all()\n",
    "\n",
    "\n",
    "from abc import ABC, abstractmethod\n",
    "\n",
    "class testing(ABC):\n",
    "\n",
    "    @abstractmethod\n",
    "    def two(self):\n",
    "        pass\n",
    "\n",
    "\n",
    "class implement(testing):\n",
    "\n",
    "    def two(self):\n",
    "        print('apple')\n",
    "\n",
    "class implement_one(testing):\n",
    "\n",
    "    def two(self):\n",
    "        print('banana')\n",
    "\n",
    "\n",
    "class runn:\n",
    "\n",
    "    def __init__(self,test):\n",
    "        self.test = test\n",
    "\n",
    "    def check(self):\n",
    "        for i in self.test:\n",
    "            i.two()\n",
    "\n",
    "\n",
    "a = implement()\n",
    "b = implement_one()\n",
    "\n",
    "c = [a,b]\n",
    "\n",
    "d = runn(c)\n",
    "d.check()"
   ]
  },
  {
   "cell_type": "code",
   "execution_count": 69,
   "metadata": {},
   "outputs": [
    {
     "name": "stdout",
     "output_type": "stream",
     "text": [
      "apple\n",
      "banana\n"
     ]
    }
   ],
   "source": [
    "from abc import ABC, abstractmethod\n",
    "\n",
    "class testing(ABC):\n",
    "\n",
    "    @abstractmethod\n",
    "    def two(self):\n",
    "        pass\n",
    "\n",
    "\n",
    "class implement(testing):\n",
    "\n",
    "    def two(self):\n",
    "        print('apple')\n",
    "\n",
    "class implement_one(testing):\n",
    "\n",
    "    def two(self):\n",
    "        print('banana')\n",
    "\n",
    "\n",
    "class runn:\n",
    "\n",
    "    def __init__(self,test):\n",
    "        self.test = test\n",
    "\n",
    "    def check(self):\n",
    "        for i in self.test:\n",
    "            i.two()\n",
    "\n",
    "\n",
    "a = implement()\n",
    "b = implement_one()\n",
    "\n",
    "c = [a,b]\n",
    "\n",
    "d = runn(c)\n",
    "d.check()"
   ]
  },
  {
   "cell_type": "code",
   "execution_count": null,
   "metadata": {},
   "outputs": [],
   "source": []
  },
  {
   "cell_type": "code",
   "execution_count": null,
   "metadata": {},
   "outputs": [],
   "source": []
  },
  {
   "cell_type": "code",
   "execution_count": null,
   "metadata": {},
   "outputs": [
    {
     "name": "stdout",
     "output_type": "stream",
     "text": [
      "Inside Child:\n",
      "Public\n",
      "Protected\n",
      "Private\n"
     ]
    }
   ],
   "source": []
  },
  {
   "cell_type": "code",
   "execution_count": null,
   "metadata": {},
   "outputs": [],
   "source": []
  },
  {
   "cell_type": "code",
   "execution_count": null,
   "metadata": {},
   "outputs": [],
   "source": []
  },
  {
   "cell_type": "code",
   "execution_count": 84,
   "metadata": {},
   "outputs": [
    {
     "data": {
      "text/plain": [
       "('dha', 'dhanan009')"
      ]
     },
     "execution_count": 84,
     "metadata": {},
     "output_type": "execute_result"
    }
   ],
   "source": [
    "one = parent()\n",
    "one.check()"
   ]
  },
  {
   "cell_type": "code",
   "execution_count": 90,
   "metadata": {},
   "outputs": [
    {
     "data": {
      "text/plain": [
       "'dj009'"
      ]
     },
     "execution_count": 90,
     "metadata": {},
     "output_type": "execute_result"
    }
   ],
   "source": [
    "one._parent__password"
   ]
  },
  {
   "cell_type": "code",
   "execution_count": null,
   "metadata": {},
   "outputs": [],
   "source": []
  },
  {
   "cell_type": "code",
   "execution_count": null,
   "metadata": {},
   "outputs": [],
   "source": []
  },
  {
   "cell_type": "code",
   "execution_count": null,
   "metadata": {},
   "outputs": [],
   "source": []
  },
  {
   "cell_type": "code",
   "execution_count": 175,
   "metadata": {},
   "outputs": [],
   "source": [
    "class password:\n",
    "\n",
    "    def __init__(self):\n",
    "        self.__password = None\n",
    "\n",
    "    def password_was(self,words):\n",
    "        self.__password = self.__setting_password(words)\n",
    "        return self.__password\n",
    "\n",
    "    def __setting_password(self,words):\n",
    "        return ''.join([str(ord(i)) for i in words])\n",
    "\n",
    "    def gett_password(self):\n",
    "        return self.__password\n",
    "\n",
    "    def sett_password(self,passw):\n",
    "        self.__password = passw"
   ]
  },
  {
   "cell_type": "code",
   "execution_count": 172,
   "metadata": {},
   "outputs": [
    {
     "data": {
      "text/plain": [
       "'119111114100115'"
      ]
     },
     "execution_count": 172,
     "metadata": {},
     "output_type": "execute_result"
    }
   ],
   "source": [
    "one = password()\n",
    "\n",
    "one.password_was('words')"
   ]
  },
  {
   "cell_type": "code",
   "execution_count": 173,
   "metadata": {},
   "outputs": [],
   "source": [
    "one.sett_password('wordts')"
   ]
  },
  {
   "cell_type": "code",
   "execution_count": 174,
   "metadata": {},
   "outputs": [
    {
     "data": {
      "text/plain": [
       "'wordts'"
      ]
     },
     "execution_count": 174,
     "metadata": {},
     "output_type": "execute_result"
    }
   ],
   "source": [
    "one.get_password()"
   ]
  },
  {
   "cell_type": "code",
   "execution_count": null,
   "metadata": {},
   "outputs": [],
   "source": []
  },
  {
   "cell_type": "code",
   "execution_count": 186,
   "metadata": {},
   "outputs": [
    {
     "name": "stdout",
     "output_type": "stream",
     "text": [
      "TestCase: a - Status: b\n"
     ]
    }
   ],
   "source": [
    "#magic methods\n",
    "\n",
    "# these are the spcial predefined methods\n",
    "# customize the behaviour of the classes\n",
    "\n",
    "# __str__ - controls what need to be printed when used print for the object\n",
    "class TestCase:\n",
    "    def __init__(self, name, status):\n",
    "        self.name = name\n",
    "        self.status = status\n",
    "\n",
    "    def one(self):\n",
    "        pass\n",
    "\n",
    "    def __str__(self):\n",
    "        return f\"TestCase: {self.name} - Status: {self.status}\"\n",
    "\n",
    "    def __repr__(self):\n",
    "        return f\"TestCase: {self.name} - Status: {self.status}\"\n",
    "\n",
    "\n",
    "print(TestCase('a','b'))\n",
    "\n",
    "\n",
    "\n",
    "#"
   ]
  },
  {
   "cell_type": "code",
   "execution_count": 187,
   "metadata": {},
   "outputs": [
    {
     "data": {
      "text/plain": [
       "TestCase: a - Status: b"
      ]
     },
     "execution_count": 187,
     "metadata": {},
     "output_type": "execute_result"
    }
   ],
   "source": [
    "TestCase('a','b')"
   ]
  },
  {
   "cell_type": "code",
   "execution_count": null,
   "metadata": {},
   "outputs": [],
   "source": []
  },
  {
   "cell_type": "code",
   "execution_count": 188,
   "metadata": {},
   "outputs": [],
   "source": [
    "#custom expectation\n",
    "\n",
    "\n",
    "class checkingfailed(Exception):\n",
    "\n",
    "    def __init__(self, error):\n",
    "        self.message = f\"{error} has been found in the class\"\n",
    "        super().__init__(self.message)"
   ]
  },
  {
   "cell_type": "code",
   "execution_count": 190,
   "metadata": {},
   "outputs": [
    {
     "ename": "checkingfailed",
     "evalue": "1 has been found in the class",
     "output_type": "error",
     "traceback": [
      "\u001b[1;31m---------------------------------------------------------------------------\u001b[0m",
      "\u001b[1;31mcheckingfailed\u001b[0m                            Traceback (most recent call last)",
      "Cell \u001b[1;32mIn[190], line 8\u001b[0m\n\u001b[0;32m      5\u001b[0m     \u001b[38;5;28;01melse\u001b[39;00m:\n\u001b[0;32m      6\u001b[0m         \u001b[38;5;28;01mraise\u001b[39;00m checkingfailed(driver)\n\u001b[1;32m----> 8\u001b[0m \u001b[43mlogin\u001b[49m\u001b[43m(\u001b[49m\u001b[38;5;241;43m1\u001b[39;49m\u001b[43m)\u001b[49m\n",
      "Cell \u001b[1;32mIn[190], line 6\u001b[0m, in \u001b[0;36mlogin\u001b[1;34m(driver)\u001b[0m\n\u001b[0;32m      4\u001b[0m     \u001b[38;5;28mprint\u001b[39m(\u001b[38;5;241m10\u001b[39m)\n\u001b[0;32m      5\u001b[0m \u001b[38;5;28;01melse\u001b[39;00m:\n\u001b[1;32m----> 6\u001b[0m     \u001b[38;5;28;01mraise\u001b[39;00m checkingfailed(driver)\n",
      "\u001b[1;31mcheckingfailed\u001b[0m: 1 has been found in the class"
     ]
    }
   ],
   "source": [
    "def login(driver):\n",
    "\n",
    "    if driver==10:\n",
    "        print(10)\n",
    "    else:\n",
    "        raise checkingfailed(driver)\n",
    "\n",
    "login(1)"
   ]
  },
  {
   "cell_type": "code",
   "execution_count": null,
   "metadata": {},
   "outputs": [],
   "source": []
  },
  {
   "cell_type": "code",
   "execution_count": 2,
   "metadata": {},
   "outputs": [
    {
     "data": {
      "text/plain": [
       "['a', 1, 3, 2]"
      ]
     },
     "execution_count": 2,
     "metadata": {},
     "output_type": "execute_result"
    }
   ],
   "source": [
    "fruits = ['a',1,3]\n",
    "\n",
    "fruits.append(2)\n",
    "\n",
    "fruits"
   ]
  },
  {
   "cell_type": "code",
   "execution_count": 11,
   "metadata": {},
   "outputs": [
    {
     "data": {
      "text/plain": [
       "[1, 2, 1, 2]"
      ]
     },
     "execution_count": 11,
     "metadata": {},
     "output_type": "execute_result"
    }
   ],
   "source": [
    "a = [1, 2]\n",
    "b = {1:3, 2:4}\n",
    "\n",
    "a.extend(b)\n",
    "a"
   ]
  },
  {
   "cell_type": "code",
   "execution_count": 12,
   "metadata": {},
   "outputs": [
    {
     "data": {
      "text/plain": [
       "[1, 'a', 2, 1, 2]"
      ]
     },
     "execution_count": 12,
     "metadata": {},
     "output_type": "execute_result"
    }
   ],
   "source": [
    "a.insert(1,'a')\n",
    "a"
   ]
  },
  {
   "cell_type": "code",
   "execution_count": 40,
   "metadata": {},
   "outputs": [],
   "source": [
    "colors = [\"red\", \"blue\", \"green\", \"blue\"]\n",
    "colors.remove(\"blue\")"
   ]
  },
  {
   "cell_type": "code",
   "execution_count": 16,
   "metadata": {},
   "outputs": [
    {
     "ename": "ValueError",
     "evalue": "list.remove(x): x not in list",
     "output_type": "error",
     "traceback": [
      "\u001b[1;31m---------------------------------------------------------------------------\u001b[0m",
      "\u001b[1;31mValueError\u001b[0m                                Traceback (most recent call last)",
      "Cell \u001b[1;32mIn[16], line 1\u001b[0m\n\u001b[1;32m----> 1\u001b[0m \u001b[43mcolors\u001b[49m\u001b[38;5;241;43m.\u001b[39;49m\u001b[43mremove\u001b[49m\u001b[43m(\u001b[49m\u001b[38;5;124;43m\"\u001b[39;49m\u001b[38;5;124;43mblue\u001b[39;49m\u001b[38;5;124;43m\"\u001b[39;49m\u001b[43m)\u001b[49m\n",
      "\u001b[1;31mValueError\u001b[0m: list.remove(x): x not in list"
     ]
    }
   ],
   "source": [
    "colors.remove(\"blue\")"
   ]
  },
  {
   "cell_type": "code",
   "execution_count": 35,
   "metadata": {},
   "outputs": [],
   "source": [
    "colors.sort()"
   ]
  },
  {
   "cell_type": "code",
   "execution_count": 39,
   "metadata": {},
   "outputs": [],
   "source": [
    "colors.reverse()"
   ]
  },
  {
   "cell_type": "code",
   "execution_count": 42,
   "metadata": {},
   "outputs": [],
   "source": [
    "b = colors.copy()"
   ]
  },
  {
   "cell_type": "code",
   "execution_count": 43,
   "metadata": {},
   "outputs": [
    {
     "data": {
      "text/plain": [
       "['red', 'green', 'blue']"
      ]
     },
     "execution_count": 43,
     "metadata": {},
     "output_type": "execute_result"
    }
   ],
   "source": [
    "b"
   ]
  },
  {
   "cell_type": "code",
   "execution_count": 44,
   "metadata": {},
   "outputs": [
    {
     "data": {
      "text/plain": [
       "['red', 'green', 'blue']"
      ]
     },
     "execution_count": 44,
     "metadata": {},
     "output_type": "execute_result"
    }
   ],
   "source": [
    "colors"
   ]
  },
  {
   "cell_type": "code",
   "execution_count": 73,
   "metadata": {},
   "outputs": [],
   "source": [
    "import copy\n",
    "\n",
    "letters = ['a', 'b', ['c', 'd', 'e']]\n",
    "\n",
    "a = letters.copy()               # Shallow copy\n",
    "b = copy.deepcopy(letters)       # Deep copy\n",
    "\n",
    "b[2].append(2)"
   ]
  },
  {
   "cell_type": "code",
   "execution_count": 74,
   "metadata": {},
   "outputs": [
    {
     "data": {
      "text/plain": [
       "['a', 'b', ['c', 'd', 'e', 2]]"
      ]
     },
     "execution_count": 74,
     "metadata": {},
     "output_type": "execute_result"
    }
   ],
   "source": [
    "b"
   ]
  },
  {
   "cell_type": "code",
   "execution_count": 75,
   "metadata": {},
   "outputs": [
    {
     "data": {
      "text/plain": [
       "['a', 'b', ['c', 'd', 'e']]"
      ]
     },
     "execution_count": 75,
     "metadata": {},
     "output_type": "execute_result"
    }
   ],
   "source": [
    "letters"
   ]
  },
  {
   "cell_type": "code",
   "execution_count": 57,
   "metadata": {},
   "outputs": [
    {
     "data": {
      "text/plain": [
       "['a', 'b', 'c', 'd', 'e']"
      ]
     },
     "execution_count": 57,
     "metadata": {},
     "output_type": "execute_result"
    }
   ],
   "source": [
    "b"
   ]
  },
  {
   "cell_type": "code",
   "execution_count": 58,
   "metadata": {},
   "outputs": [
    {
     "data": {
      "text/plain": [
       "['a', '22', 'b', 'c', 'd', 'e']"
      ]
     },
     "execution_count": 58,
     "metadata": {},
     "output_type": "execute_result"
    }
   ],
   "source": [
    "a"
   ]
  },
  {
   "cell_type": "code",
   "execution_count": 59,
   "metadata": {},
   "outputs": [
    {
     "data": {
      "text/plain": [
       "['a', 'b', 'c', 'd', 'e']"
      ]
     },
     "execution_count": 59,
     "metadata": {},
     "output_type": "execute_result"
    }
   ],
   "source": [
    "letters"
   ]
  },
  {
   "cell_type": "code",
   "execution_count": 51,
   "metadata": {},
   "outputs": [
    {
     "data": {
      "text/plain": [
       "['a', '3', 'b', 'c', 'd', 'e']"
      ]
     },
     "execution_count": 51,
     "metadata": {},
     "output_type": "execute_result"
    }
   ],
   "source": [
    "b"
   ]
  },
  {
   "cell_type": "code",
   "execution_count": 52,
   "metadata": {},
   "outputs": [
    {
     "data": {
      "text/plain": [
       "['a', 'b', 'c', 'd', 'e']"
      ]
     },
     "execution_count": 52,
     "metadata": {},
     "output_type": "execute_result"
    }
   ],
   "source": [
    "a"
   ]
  },
  {
   "cell_type": "code",
   "execution_count": 53,
   "metadata": {},
   "outputs": [
    {
     "data": {
      "text/plain": [
       "['a', 'b', 'c', 'd', 'e']"
      ]
     },
     "execution_count": 53,
     "metadata": {},
     "output_type": "execute_result"
    }
   ],
   "source": [
    "letters"
   ]
  },
  {
   "cell_type": "code",
   "execution_count": 54,
   "metadata": {},
   "outputs": [
    {
     "name": "stdout",
     "output_type": "stream",
     "text": [
      "[['z', 'b'], ['c', 'd']]\n",
      "[['a', 'b'], ['c', 'd']]\n"
     ]
    }
   ],
   "source": [
    "import copy\n",
    "\n",
    "letters = [['a', 'b'], ['c', 'd']]\n",
    "\n",
    "shallow = letters.copy()\n",
    "deep = copy.deepcopy(letters)\n",
    "\n",
    "letters[0][0] = 'z'\n",
    "\n",
    "print(shallow)  # [['z', 'b'], ['c', 'd']]\n",
    "print(deep)     # [['a', 'b'], ['c', 'd']] ✅ Deep copy untouched!\n"
   ]
  },
  {
   "cell_type": "code",
   "execution_count": 78,
   "metadata": {},
   "outputs": [
    {
     "data": {
      "text/plain": [
       "[1, 2, 3, 4, 5]"
      ]
     },
     "execution_count": 78,
     "metadata": {},
     "output_type": "execute_result"
    }
   ],
   "source": [
    "nums = [1, 2, 3, 4, 5]\n",
    "squares = []\n",
    "\n",
    "\n",
    "for i in nums:\n",
    "    squares.append(i)\n",
    "    \n",
    "\n",
    "squares\n"
   ]
  },
  {
   "cell_type": "code",
   "execution_count": 91,
   "metadata": {},
   "outputs": [
    {
     "data": {
      "text/plain": [
       "[4, 3, 2, 1, 0, -1, -2, -3, -4, -5, -6, -7, -8, -9]"
      ]
     },
     "execution_count": 91,
     "metadata": {},
     "output_type": "execute_result"
    }
   ],
   "source": [
    "[i for i in range(4,-10,-1)]"
   ]
  },
  {
   "cell_type": "code",
   "execution_count": 102,
   "metadata": {},
   "outputs": [],
   "source": [
    "lines = [[\"a\", \"b\"], [\"c\", \"d\"]]\n",
    "flat = []"
   ]
  },
  {
   "cell_type": "code",
   "execution_count": 105,
   "metadata": {},
   "outputs": [
    {
     "name": "stdout",
     "output_type": "stream",
     "text": [
      "['a', 'b']\n",
      "['c', 'd']\n"
     ]
    }
   ],
   "source": [
    "for i in lines:\n",
    "    print(i)\n",
    "    flat.append(i)"
   ]
  },
  {
   "cell_type": "code",
   "execution_count": 104,
   "metadata": {},
   "outputs": [
    {
     "data": {
      "text/plain": [
       "[['a', 'b'], ['c', 'd']]"
      ]
     },
     "execution_count": 104,
     "metadata": {},
     "output_type": "execute_result"
    }
   ],
   "source": [
    "flat"
   ]
  },
  {
   "cell_type": "code",
   "execution_count": 116,
   "metadata": {},
   "outputs": [
    {
     "name": "stdout",
     "output_type": "stream",
     "text": [
      "name: Alice\n",
      "age: 25\n",
      "1: 2\n"
     ]
    }
   ],
   "source": [
    "keys = [\"name\", \"age\",1,3]\n",
    "values = {1:\"Alice\", 2:25,9:2}\n",
    "\n",
    "for k, v in zip(keys, values.values()):\n",
    "    print(f\"{k}: {v}\")"
   ]
  },
  {
   "cell_type": "code",
   "execution_count": 122,
   "metadata": {},
   "outputs": [],
   "source": [
    "keys = [\"name\", \"age\",1,3]\n",
    "\n",
    "a,b,c,d = keys"
   ]
  },
  {
   "cell_type": "code",
   "execution_count": 125,
   "metadata": {},
   "outputs": [
    {
     "name": "stdout",
     "output_type": "stream",
     "text": [
      "1 2\n",
      "35 33\n"
     ]
    }
   ],
   "source": [
    "for i,j in ((1,2),(35,33)):\n",
    "    print(i,j)\n",
    "\n",
    "\n"
   ]
  },
  {
   "cell_type": "code",
   "execution_count": 127,
   "metadata": {},
   "outputs": [
    {
     "name": "stdout",
     "output_type": "stream",
     "text": [
      "1 2 3 4 5 6 "
     ]
    }
   ],
   "source": [
    "matrix = ((1, 2), (3, 4), (5, 6))\n",
    "\n",
    "for row in matrix:\n",
    "    for num in row:\n",
    "        print(num, end=' ')"
   ]
  },
  {
   "cell_type": "code",
   "execution_count": 135,
   "metadata": {},
   "outputs": [],
   "source": [
    "a={frozenset({1,2}):1}"
   ]
  },
  {
   "cell_type": "code",
   "execution_count": 136,
   "metadata": {},
   "outputs": [
    {
     "data": {
      "text/plain": [
       "1"
      ]
     },
     "execution_count": 136,
     "metadata": {},
     "output_type": "execute_result"
    }
   ],
   "source": [
    "a[frozenset({1,2})]"
   ]
  },
  {
   "cell_type": "code",
   "execution_count": null,
   "metadata": {},
   "outputs": [],
   "source": []
  },
  {
   "cell_type": "code",
   "execution_count": 137,
   "metadata": {},
   "outputs": [],
   "source": [
    "def abc(func):\n",
    "\n",
    "    def wrapper():\n",
    "        print('a')\n",
    "        func()\n",
    "        print('b')\n",
    "\n",
    "    return wrapper"
   ]
  },
  {
   "cell_type": "code",
   "execution_count": 138,
   "metadata": {},
   "outputs": [],
   "source": [
    "@abc\n",
    "def greet():\n",
    "    print('heello')"
   ]
  },
  {
   "cell_type": "code",
   "execution_count": 139,
   "metadata": {},
   "outputs": [
    {
     "name": "stdout",
     "output_type": "stream",
     "text": [
      "a\n",
      "heello\n",
      "b\n"
     ]
    }
   ],
   "source": [
    "greet()"
   ]
  },
  {
   "cell_type": "code",
   "execution_count": 150,
   "metadata": {},
   "outputs": [],
   "source": [
    "def xyz(fun):\n",
    "    def abc(user):\n",
    "        if user == 'admin':\n",
    "            print('wlecome')\n",
    "            return fun(user)\n",
    "        else:\n",
    "            print('no acess')\n",
    "\n",
    "    return abc"
   ]
  },
  {
   "cell_type": "code",
   "execution_count": 151,
   "metadata": {},
   "outputs": [],
   "source": [
    "@xyz\n",
    "def view_reports(user):\n",
    "    print(f\"📊 Welcome, {user}. Here are the reports.\")"
   ]
  },
  {
   "cell_type": "code",
   "execution_count": null,
   "metadata": {},
   "outputs": [
    {
     "name": "stdout",
     "output_type": "stream",
     "text": [
      "no acess\n"
     ]
    },
    {
     "ename": "",
     "evalue": "",
     "output_type": "error",
     "traceback": [
      "\u001b[1;31mThe Kernel crashed while executing code in the current cell or a previous cell. \n",
      "\u001b[1;31mPlease review the code in the cell(s) to identify a possible cause of the failure. \n",
      "\u001b[1;31mClick <a href='https://aka.ms/vscodeJupyterKernelCrash'>here</a> for more info. \n",
      "\u001b[1;31mView Jupyter <a href='command:jupyter.viewOutput'>log</a> for further details."
     ]
    }
   ],
   "source": [
    "view_reports('a')"
   ]
  },
  {
   "cell_type": "code",
   "execution_count": 149,
   "metadata": {},
   "outputs": [
    {
     "name": "stdout",
     "output_type": "stream",
     "text": [
      "📊 Welcome, admin. Here are the reports.\n",
      "❌ Access Denied!\n"
     ]
    }
   ],
   "source": [
    "def authorized(func):\n",
    "    def wrapper(user):\n",
    "        if user == \"admin\":\n",
    "            return func(user)\n",
    "        else:\n",
    "            print(\"❌ Access Denied!\")\n",
    "    return wrapper\n",
    "\n",
    "@authorized\n",
    "def view_reports(user):\n",
    "    print(f\"📊 Welcome, {user}. Here are the reports.\")\n",
    "\n",
    "view_reports(\"admin\")\n",
    "view_reports(\"guest\")"
   ]
  },
  {
   "cell_type": "code",
   "execution_count": null,
   "metadata": {},
   "outputs": [],
   "source": []
  },
  {
   "cell_type": "code",
   "execution_count": 1,
   "metadata": {},
   "outputs": [],
   "source": [
    "data = [\n",
    "    [10, 20],\n",
    "    [30, 40],\n",
    "    [50, 60]\n",
    "]\n"
   ]
  },
  {
   "cell_type": "code",
   "execution_count": 2,
   "metadata": {},
   "outputs": [
    {
     "name": "stdout",
     "output_type": "stream",
     "text": [
      "[10, 20]\n",
      "[30, 40]\n",
      "[50, 60]\n"
     ]
    }
   ],
   "source": [
    "for i in data:\n",
    "    print(i)"
   ]
  },
  {
   "cell_type": "code",
   "execution_count": 6,
   "metadata": {},
   "outputs": [
    {
     "name": "stdout",
     "output_type": "stream",
     "text": [
      "10 20 30 40 50 60 "
     ]
    }
   ],
   "source": [
    "for i in data:\n",
    "    for j in i:\n",
    "        print(j, end=' ')"
   ]
  },
  {
   "cell_type": "code",
   "execution_count": 7,
   "metadata": {},
   "outputs": [],
   "source": [
    "matrix = [\n",
    "    [1, 2, 3],\n",
    "    [4, 5, 6]\n",
    "]"
   ]
  },
  {
   "cell_type": "code",
   "execution_count": null,
   "metadata": {},
   "outputs": [
    {
     "name": "stdout",
     "output_type": "stream",
     "text": [
      "1\n",
      "2\n",
      "3\n",
      "4\n",
      "5\n",
      "6\n"
     ]
    }
   ],
   "source": [
    "transpose = []\n",
    "\n",
    "for i in matrix:\n",
    "    for j in i:\n",
    "        print(j)"
   ]
  },
  {
   "cell_type": "code",
   "execution_count": 12,
   "metadata": {},
   "outputs": [
    {
     "name": "stdout",
     "output_type": "stream",
     "text": [
      "[1, 4]\n",
      "[2, 5]\n",
      "[3, 6]\n"
     ]
    }
   ],
   "source": [
    "for i in zip(matrix[0],matrix[1]):\n",
    "    print(list(i))"
   ]
  },
  {
   "cell_type": "code",
   "execution_count": 13,
   "metadata": {},
   "outputs": [
    {
     "data": {
      "text/plain": [
       "[[1, 4], [2, 5], [3, 6]]"
      ]
     },
     "execution_count": 13,
     "metadata": {},
     "output_type": "execute_result"
    }
   ],
   "source": [
    "matrix = [\n",
    "    [1, 2, 3],\n",
    "    [4, 5, 6]\n",
    "]\n",
    "\n",
    "\n",
    "transpose = []\n",
    "\n",
    "for i in range(len(matrix[0])):\n",
    "    new = []\n",
    "    for j in matrix:\n",
    "        new.append(j[i])\n",
    "\n",
    "    transpose.append(new)\n",
    "\n",
    "transpose"
   ]
  },
  {
   "cell_type": "code",
   "execution_count": 24,
   "metadata": {},
   "outputs": [],
   "source": [
    "nested = [[1, 2], [3, 4], [5, 6]]\n",
    "flat = []"
   ]
  },
  {
   "cell_type": "code",
   "execution_count": 25,
   "metadata": {},
   "outputs": [
    {
     "name": "stdout",
     "output_type": "stream",
     "text": [
      "[1, 2]\n",
      "1\n",
      "2\n",
      "[3, 4]\n",
      "3\n",
      "4\n",
      "[5, 6]\n",
      "5\n",
      "6\n"
     ]
    }
   ],
   "source": [
    "for i in nested:\n",
    "    print(i)\n",
    "    for j in i:\n",
    "        print(j)\n",
    "        flat.append(j)"
   ]
  },
  {
   "cell_type": "code",
   "execution_count": 26,
   "metadata": {},
   "outputs": [
    {
     "data": {
      "text/plain": [
       "[1, 2, 3, 4, 5, 6]"
      ]
     },
     "execution_count": 26,
     "metadata": {},
     "output_type": "execute_result"
    }
   ],
   "source": [
    "flat"
   ]
  },
  {
   "cell_type": "code",
   "execution_count": 34,
   "metadata": {},
   "outputs": [],
   "source": [
    "data = [[1, 3, 3], [4, 3, 6], [7, 3, 9]]\n",
    "target = 3\n",
    "count = 0\n",
    "\n"
   ]
  },
  {
   "cell_type": "code",
   "execution_count": 35,
   "metadata": {},
   "outputs": [],
   "source": [
    "data = [[1, 3, 3], [4, 3, 6], [7, 3, 9]]"
   ]
  },
  {
   "cell_type": "code",
   "execution_count": 46,
   "metadata": {},
   "outputs": [
    {
     "data": {
      "text/plain": [
       "4"
      ]
     },
     "execution_count": 46,
     "metadata": {},
     "output_type": "execute_result"
    }
   ],
   "source": [
    "[j for i in data for j in i if j==3].count(3)"
   ]
  },
  {
   "cell_type": "code",
   "execution_count": 52,
   "metadata": {},
   "outputs": [],
   "source": [
    "a = [[1, 2], [3, 4]]\n",
    "b = [[5, 6], [7, 8]]\n",
    "\n",
    "result = []"
   ]
  },
  {
   "cell_type": "code",
   "execution_count": 54,
   "metadata": {},
   "outputs": [],
   "source": [
    "for i in range(len(a)):\n",
    "    wor=[]\n",
    "    for j in range(len(a)):\n",
    "        wor.append(a[i][j]+b[i][j])\n",
    "\n",
    "    result.append(wor)"
   ]
  },
  {
   "cell_type": "code",
   "execution_count": 55,
   "metadata": {},
   "outputs": [
    {
     "data": {
      "text/plain": [
       "[[6, 8], [10, 12]]"
      ]
     },
     "execution_count": 55,
     "metadata": {},
     "output_type": "execute_result"
    }
   ],
   "source": [
    "result"
   ]
  },
  {
   "cell_type": "code",
   "execution_count": 56,
   "metadata": {},
   "outputs": [],
   "source": [
    "matrix = [\n",
    "    [1, 2, 3],\n",
    "    [4, 5, 6],\n",
    "    [7, 8, 9]\n",
    "]\n",
    "\n",
    "target = 5"
   ]
  },
  {
   "cell_type": "code",
   "execution_count": 59,
   "metadata": {},
   "outputs": [
    {
     "name": "stdout",
     "output_type": "stream",
     "text": [
      "5 [1]\n"
     ]
    }
   ],
   "source": [
    "for i in range(len(matrix[0])):\n",
    "    for j in range(len(matrix[0])):\n",
    "        if target == matrix[i][j]:\n",
    "            print(matrix[i][j],[j])\n",
    "          "
   ]
  },
  {
   "cell_type": "code",
   "execution_count": 60,
   "metadata": {},
   "outputs": [
    {
     "data": {
      "text/plain": [
       "[1, 2, 3, 4, 5, 6]"
      ]
     },
     "execution_count": 60,
     "metadata": {},
     "output_type": "execute_result"
    }
   ],
   "source": [
    "nested = [[1, 2], [3, 4, 5], [6]]\n",
    "\n",
    "[j for i in nested for j in i]"
   ]
  },
  {
   "cell_type": "code",
   "execution_count": 68,
   "metadata": {},
   "outputs": [
    {
     "data": {
      "text/plain": [
       "150"
      ]
     },
     "execution_count": 68,
     "metadata": {},
     "output_type": "execute_result"
    }
   ],
   "source": [
    "data = [[10, 20], [30], [40, 50]]\n",
    "sum=0\n",
    "for i in data:\n",
    "    for j in i:\n",
    "        sum+=j\n",
    "\n",
    "sum"
   ]
  },
  {
   "cell_type": "code",
   "execution_count": 81,
   "metadata": {},
   "outputs": [],
   "source": [
    "matrix = [[1, 2], [3, 4]]\n",
    "a=[]\n",
    "\n",
    "for i in range(len(matrix[0])):\n",
    "    for j in range(len(matrix[0])):\n",
    "        matrix[i][j] = matrix[i][j]*2"
   ]
  },
  {
   "cell_type": "code",
   "execution_count": 82,
   "metadata": {},
   "outputs": [
    {
     "data": {
      "text/plain": [
       "[[2, 4], [6, 8]]"
      ]
     },
     "execution_count": 82,
     "metadata": {},
     "output_type": "execute_result"
    }
   ],
   "source": [
    "matrix"
   ]
  },
  {
   "cell_type": "code",
   "execution_count": null,
   "metadata": {},
   "outputs": [
    {
     "data": {
      "text/plain": [
       "[4, 8, 12, 16]"
      ]
     },
     "execution_count": 89,
     "metadata": {},
     "output_type": "execute_result"
    }
   ],
   "source": [
    "[j*2 for j in matrix for i in j]"
   ]
  },
  {
   "cell_type": "code",
   "execution_count": 92,
   "metadata": {},
   "outputs": [
    {
     "data": {
      "text/plain": [
       "[[4, 8], [12, 16]]"
      ]
     },
     "execution_count": 92,
     "metadata": {},
     "output_type": "execute_result"
    }
   ],
   "source": [
    "[[j*2 for j in i] for i in matrix]"
   ]
  },
  {
   "cell_type": "code",
   "execution_count": 112,
   "metadata": {},
   "outputs": [
    {
     "name": "stdout",
     "output_type": "stream",
     "text": [
      "1 1\n"
     ]
    }
   ],
   "source": [
    "matrix = [[5, 3, 7], [1, 9, 0], [6, 8, 4]]\n",
    "t = 9\n",
    "for i,j in enumerate(matrix):\n",
    "    #print(i,j)\n",
    "    for k in j:\n",
    "        if k == t:\n",
    "            print(i,j.index(9))"
   ]
  },
  {
   "cell_type": "code",
   "execution_count": 114,
   "metadata": {},
   "outputs": [],
   "source": [
    "nums = [[11, 20], [33, 42], [55]]"
   ]
  },
  {
   "cell_type": "code",
   "execution_count": 117,
   "metadata": {},
   "outputs": [
    {
     "data": {
      "text/plain": [
       "[[0, 0, 0], [0, 0, 0], [0, 0, 0]]"
      ]
     },
     "execution_count": 117,
     "metadata": {},
     "output_type": "execute_result"
    }
   ],
   "source": [
    "[ [j*0 for j in range(3)] for i in range(3)]"
   ]
  },
  {
   "cell_type": "code",
   "execution_count": 120,
   "metadata": {},
   "outputs": [
    {
     "name": "stdout",
     "output_type": "stream",
     "text": [
      "Employee ID: emp1\n",
      "  name: Alice\n",
      "  age: 28\n",
      "Employee ID: emp2\n",
      "  name: Bob\n",
      "  age: 32\n"
     ]
    }
   ],
   "source": [
    "data = {\n",
    "    'emp1': {'name': 'Alice', 'age': 28},\n",
    "    'emp2': {'name': 'Bob', 'age': 32},\n",
    "}\n",
    "\n",
    "for emp_id, details in data.items():\n",
    "    print(f\"Employee ID: {emp_id}\")\n",
    "    for key, value in details.items():\n",
    "        print(f\"  {key}: {value}\")\n"
   ]
  },
  {
   "cell_type": "code",
   "execution_count": 121,
   "metadata": {},
   "outputs": [
    {
     "name": "stdout",
     "output_type": "stream",
     "text": [
      "Average Science Grade: 88.0\n"
     ]
    }
   ],
   "source": [
    "grades = {\n",
    "    'student1': {'math': 90, 'science': 85},\n",
    "    'student2': {'math': 78, 'science': 88},\n",
    "    'student3': {'math': 95, 'science': 91}\n",
    "}\n",
    "\n",
    "# Calculate average science score\n",
    "total = 0\n",
    "for student in grades.values():\n",
    "    total += student['science']\n",
    "\n",
    "average = total / len(grades)\n",
    "print(f\"Average Science Grade: {average}\")\n"
   ]
  },
  {
   "cell_type": "code",
   "execution_count": 122,
   "metadata": {},
   "outputs": [
    {
     "name": "stdout",
     "output_type": "stream",
     "text": [
      "Alice knows Python, Selenium\n",
      "Bob knows Java, JMeter\n"
     ]
    }
   ],
   "source": [
    "data = {\n",
    "    'emp1': {'name': 'Alice', 'skills': ['Python', 'Selenium']},\n",
    "    'emp2': {'name': 'Bob', 'skills': ['Java', 'JMeter']}\n",
    "}\n",
    "\n",
    "for emp, info in data.items():\n",
    "    print(f\"{info['name']} knows {', '.join(info['skills'])}\")\n"
   ]
  },
  {
   "cell_type": "code",
   "execution_count": 148,
   "metadata": {},
   "outputs": [],
   "source": [
    "projects = {\n",
    "    'E001': {'name': 'Alice', 'role': 'Dev', 'projects': ['A1', 'A2']},\n",
    "    'E002': {'name': 'Bob', 'role': 'QA', 'projects': ['B1']},\n",
    "    'E003': {'name': 'Charlie', 'role': 'QA', 'projects': ['C1', 'C2']}\n",
    "}\n"
   ]
  },
  {
   "cell_type": "code",
   "execution_count": 143,
   "metadata": {},
   "outputs": [
    {
     "name": "stdout",
     "output_type": "stream",
     "text": [
      "Bob → B1\n",
      "Charlie → C1, C2\n"
     ]
    }
   ],
   "source": [
    "projects = {\n",
    "    'E001': {'name': 'Alice', 'role': 'Dev', 'projects': ['A1', 'A2']},\n",
    "    'E002': {'name': 'Bob', 'role': 'QA', 'projects': ['B1']},\n",
    "    'E003': {'name': 'Charlie', 'role': 'QA', 'projects': ['C1', 'C2']}\n",
    "}\n",
    "\n",
    "for emp_id, details in projects.items():\n",
    "    if details['role'] == 'QA':\n",
    "        project_list = \", \".join(details['projects'])\n",
    "        print(f\"{details['name']} → {project_list}\")\n"
   ]
  },
  {
   "cell_type": "code",
   "execution_count": 146,
   "metadata": {},
   "outputs": [
    {
     "name": "stdout",
     "output_type": "stream",
     "text": [
      "Dhanunjaya\n",
      "['QA Tester', 'Automation Engineer']\n",
      "2025-04-09T10:15:00Z\n"
     ]
    }
   ],
   "source": [
    "api_response = {\n",
    "    \"status\": \"success\",\n",
    "    \"data\": {\n",
    "        \"user\": {\n",
    "            \"id\": 123,\n",
    "            \"profile\": {\n",
    "                \"name\": \"Dhanunjaya\",\n",
    "                \"email\": \"dhanunjaya@example.com\"\n",
    "            },\n",
    "            \"roles\": [\"QA Tester\", \"Automation Engineer\"]\n",
    "        },\n",
    "        \"meta\": {\n",
    "            \"timestamp\": \"2025-04-09T10:15:00Z\"\n",
    "        }\n",
    "    }\n",
    "}\n",
    "\n",
    "# ✅ Get user's name\n",
    "print(api_response[\"data\"][\"user\"][\"profile\"][\"name\"])  # Output: Dhanunjaya\n",
    "\n",
    "# ✅ Get user's roles\n",
    "print(api_response[\"data\"][\"user\"][\"roles\"])  # Output: ['QA Tester', 'Automation Engineer']\n",
    "\n",
    "# ✅ Get timestamp\n",
    "print(api_response[\"data\"][\"meta\"][\"timestamp\"])  # Output: 2025-04-09T10:15:00Z\n"
   ]
  },
  {
   "cell_type": "code",
   "execution_count": 149,
   "metadata": {},
   "outputs": [
    {
     "name": "stdout",
     "output_type": "stream",
     "text": [
      "emp1: \n",
      "  name: Alice\n",
      "  skills: ['Python', 'Selenium']\n",
      "emp2: \n",
      "  name: Bob\n",
      "  skills: ['Java', 'JMeter']\n"
     ]
    }
   ],
   "source": [
    "def print_nested(d, indent=0):\n",
    "    for key, value in d.items():\n",
    "        print(\"  \" * indent + str(key), end=\": \")\n",
    "        if isinstance(value, dict):\n",
    "            print()\n",
    "            print_nested(value, indent + 1)\n",
    "        else:\n",
    "            print(value)\n",
    "\n",
    "print_nested(data)\n"
   ]
  },
  {
   "cell_type": "code",
   "execution_count": 152,
   "metadata": {},
   "outputs": [],
   "source": [
    "response = {\n",
    "    \"status\": \"success\",\n",
    "    \"data\": {\n",
    "        \"user\": {\n",
    "            \"id\": 101,\n",
    "            \"name\": \"Dhanunjaya\",\n",
    "            \"email\": \"dhanunjaya@example.com\",\n",
    "            \"roles\": [\"QA Tester\", \"Automation Engineer\"],\n",
    "            \"address\": {\n",
    "                \"city\": \"Hyderabad\",\n",
    "                \"zip\": \"500001\"\n",
    "            }\n",
    "        },\n",
    "        \"meta\": {\n",
    "            \"timestamp\": \"2025-04-09T10:00:00Z\",\n",
    "            \"version\": \"v1.3\"\n",
    "        }\n",
    "    }\n",
    "}\n"
   ]
  },
  {
   "cell_type": "code",
   "execution_count": 154,
   "metadata": {},
   "outputs": [
    {
     "name": "stdout",
     "output_type": "stream",
     "text": [
      "Dhanunjaya\n",
      "Hyderabad\n",
      "v1.3\n"
     ]
    }
   ],
   "source": [
    "# User's name\n",
    "print(response[\"data\"][\"user\"][\"name\"])  # ➤ \"Dhanunjaya\"\n",
    "\n",
    "# User's city\n",
    "print(response[\"data\"][\"user\"][\"address\"][\"city\"])  # ➤ \"Hyderabad\"\n",
    "\n",
    "# API version\n",
    "print(response[\"data\"][\"meta\"][\"version\"])  # ➤ \"v1.3\"\n"
   ]
  },
  {
   "cell_type": "code",
   "execution_count": 155,
   "metadata": {},
   "outputs": [
    {
     "name": "stdout",
     "output_type": "stream",
     "text": [
      "Hyderabad\n",
      "No Phone Found\n"
     ]
    }
   ],
   "source": [
    "# Safe access to non-existing key (won't throw error)\n",
    "city = response.get(\"data\", {}).get(\"user\", {}).get(\"address\", {}).get(\"city\", \"Not Available\")\n",
    "print(city)  # ➤ \"Hyderabad\"\n",
    "\n",
    "# Safe access to a key that doesn't exist\n",
    "phone = response.get(\"data\", {}).get(\"user\", {}).get(\"phone\", \"No Phone Found\")\n",
    "print(phone)  # ➤ \"No Phone Found\"\n"
   ]
  },
  {
   "cell_type": "code",
   "execution_count": 156,
   "metadata": {},
   "outputs": [
    {
     "name": "stdout",
     "output_type": "stream",
     "text": [
      "status: success\n",
      "data:\n",
      "  user:\n",
      "    id: 101\n",
      "    name: Dhanunjaya\n",
      "    email: dhanunjaya@example.com\n",
      "    roles: ['QA Tester', 'Automation Engineer']\n",
      "    address:\n",
      "      city: Hyderabad\n",
      "      zip: 500001\n",
      "  meta:\n",
      "    timestamp: 2025-04-09T10:00:00Z\n",
      "    version: v1.3\n"
     ]
    }
   ],
   "source": [
    "def print_nested_dict(d, indent=0):\n",
    "    for key, value in d.items():\n",
    "        if isinstance(value, dict):\n",
    "            print(\"  \" * indent + f\"{key}:\")\n",
    "            print_nested_dict(value, indent + 1)\n",
    "        else:\n",
    "            print(\"  \" * indent + f\"{key}: {value}\")\n",
    "\n",
    "print_nested_dict(response)\n"
   ]
  },
  {
   "cell_type": "code",
   "execution_count": 165,
   "metadata": {},
   "outputs": [],
   "source": [
    "def tell(d,indent=0):\n",
    "    for i,j in d.items():\n",
    "        if isinstance(j, dict):\n",
    "            print(\" \"*indent + f\"{i}:\")\n",
    "            tell(j,indent+1)\n",
    "        else:\n",
    "            print(\"  \" * indent+f\"{i}:{j}\")"
   ]
  },
  {
   "cell_type": "code",
   "execution_count": 163,
   "metadata": {},
   "outputs": [
    {
     "name": "stdout",
     "output_type": "stream",
     "text": [
      "status:success\n",
      "    id:101\n",
      "    name:Dhanunjaya\n",
      "    email:dhanunjaya@example.com\n",
      "    roles:['QA Tester', 'Automation Engineer']\n",
      "      city:Hyderabad\n",
      "      zip:500001\n",
      "    timestamp:2025-04-09T10:00:00Z\n",
      "    version:v1.3\n"
     ]
    }
   ],
   "source": [
    "tell(response)"
   ]
  },
  {
   "cell_type": "code",
   "execution_count": null,
   "metadata": {},
   "outputs": [],
   "source": []
  },
  {
   "cell_type": "code",
   "execution_count": null,
   "metadata": {},
   "outputs": [],
   "source": []
  },
  {
   "cell_type": "code",
   "execution_count": null,
   "metadata": {},
   "outputs": [],
   "source": []
  }
 ],
 "metadata": {
  "kernelspec": {
   "display_name": "Python 3",
   "language": "python",
   "name": "python3"
  },
  "language_info": {
   "codemirror_mode": {
    "name": "ipython",
    "version": 3
   },
   "file_extension": ".py",
   "mimetype": "text/x-python",
   "name": "python",
   "nbconvert_exporter": "python",
   "pygments_lexer": "ipython3",
   "version": "3.11.8"
  }
 },
 "nbformat": 4,
 "nbformat_minor": 2
}
