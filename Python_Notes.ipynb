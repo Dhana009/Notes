{
 "cells": [
  {
   "cell_type": "markdown",
   "metadata": {},
   "source": [
    "# PYTHON NOTES"
   ]
  },
  {
   "cell_type": "markdown",
   "metadata": {},
   "source": [
    "Python Basics\n",
    "✅ Variables\n",
    "✅ Data Types\n",
    "✅ Operators\n",
    "✅ Conditional Statements (if, elif, else)\n",
    "✅ Ternary Operator (One-line if-else)\n",
    "✅ Loops (for, while, nested loops, else in loops)\n",
    "\n",
    "Python Data Structures\n",
    "✅ Lists\n",
    "✅ List Comprehension (with multiple loops and conditions)\n",
    "\n",
    "Python Functions\n",
    "✅ Functions (Definition, Arguments, Return Values, Scope, Recursion)\n",
    "✅ Lambda Functions (Anonymous Functions)\n",
    "✅ Higher-Order Functions (map, filter, reduce, zip)\n",
    "\n",
    "Advanced Iteration & Performance Optimization\n",
    "✅ itertools Module (Efficient Iteration Techniques)\n",
    "\n",
    "Infinite Iterators: count(), cycle(), repeat()\n",
    "\n",
    "Large Data Handling: islice(), compress(), groupby()\n",
    "\n",
    "Combinatorial Iteration: permutations(), combinations()\n",
    "\n",
    "Merging Iterables: chain(), zip_longest()\n",
    "\n",
    "Data Filtering: filterfalse(), dropwhile(), takewhile()"
   ]
  },
  {
   "cell_type": "code",
   "execution_count": null,
   "metadata": {},
   "outputs": [],
   "source": [
    "1️⃣ Variables & Data Types\n",
    "\n",
    "Swap two numbers without using a third variable.\n",
    "\n",
    "Convert a string to uppercase without using .upper().\n",
    "\n",
    "Find the ASCII value of a character."
   ]
  },
  {
   "cell_type": "code",
   "execution_count": null,
   "metadata": {},
   "outputs": [],
   "source": [
    "🔥 Easy Level (Warm-Up)\n",
    "1️⃣ Variables & Data Types\n",
    "\n",
    "Swap two numbers without using a third variable.\n",
    "\n",
    "Convert a string to uppercase without using .upper().\n",
    "\n",
    "Find the ASCII value of a character.\n",
    "\n",
    "2️⃣ Operators & Conditionals\n",
    "\n",
    "Check if a number is even or odd using the ternary operator.\n",
    "\n",
    "Find the largest of three numbers.\n",
    "\n",
    "Write a program to check if a number is positive, negative, or zero.\n",
    "\n",
    "3️⃣ Loops & List Comprehension\n",
    "\n",
    "Print the Fibonacci series up to n terms.\n",
    "\n",
    "Count the number of vowels in a given string.\n",
    "\n",
    "Print all prime numbers in a given range.\n",
    "\n",
    "4️⃣ Functions & Lambda\n",
    "\n",
    "Write a function to check if a number is palindrome or not.\n",
    "\n",
    "Create a lambda function to square a number.\n",
    "\n",
    "Implement a function to find the greatest common divisor (GCD) of two numbers.\n",
    "\n",
    "⚡ Medium Level (Coding Logic & Optimization)\n",
    "5️⃣ List Comprehension & Functional Programming\n",
    "\n",
    "Find the squares of all even numbers in a list using list comprehension.\n",
    "\n",
    "Use map() to convert a list of temperatures from Celsius to Fahrenheit.\n",
    "\n",
    "Use filter() to extract all palindromic words from a given list.\n",
    "\n",
    "6️⃣ Advanced Functions\n",
    "\n",
    "Write a function to find the nth Fibonacci number using recursion.\n",
    "\n",
    "Implement a function that reverses words in a given string (e.g., \"Hello World\" → \"World Hello\").\n",
    "\n",
    "Use reduce() to find the product of all elements in a list.\n",
    "\n",
    "7️⃣ Itertools & Advanced Iteration\n",
    "\n",
    "Generate all possible permutations of a given string.\n",
    "\n",
    "Merge two sorted lists using itertools.chain().\n",
    "\n",
    "Use groupby() to group a list of numbers by even and odd values.\n",
    "\n",
    "🔥 Hard Level (Interview-Level Problems)\n",
    "8️⃣ Recursion & Optimization\n",
    "\n",
    "Implement a recursive function for binary search.\n",
    "\n",
    "Solve the Tower of Hanoi problem.\n",
    "\n",
    "Find the shortest path in a maze using recursion.\n",
    "\n",
    "9️⃣ Combinations & Dynamic Programming\n",
    "\n",
    "Find all unique subsets of a given set using recursion.\n",
    "\n",
    "Solve the coin change problem using dynamic programming.\n",
    "\n",
    "Generate all possible valid parentheses for n pairs.\n",
    "\n",
    "🔟 Data Processing & Efficiency\n",
    "\n",
    "Use itertools.combinations() to generate all possible teams from a list of players.\n",
    "\n",
    "Optimize a function that finds the most common word in a paragraph.\n",
    "\n",
    "Given a large file, find the top 10 occurring words efficiently."
   ]
  },
  {
   "cell_type": "code",
   "execution_count": 2,
   "metadata": {},
   "outputs": [
    {
     "name": "stdout",
     "output_type": "stream",
     "text": [
      "10 5\n"
     ]
    }
   ],
   "source": [
    "#1️⃣ Variables & Data Types\n",
    "\n",
    "# Swap two numbers without using a third variable.\n",
    "a,b = 5,10\n",
    "b,a = a,b\n",
    "print(a,b)"
   ]
  },
  {
   "cell_type": "code",
   "execution_count": 95,
   "metadata": {},
   "outputs": [
    {
     "name": "stdout",
     "output_type": "stream",
     "text": [
      "H\n",
      "E\n",
      "L\n",
      "L\n",
      "O\n",
      "\u0000\n",
      "W\n",
      "O\n",
      "R\n",
      "L\n",
      "D\n",
      "HELLO\u0000WORLD\n"
     ]
    },
    {
     "data": {
      "text/plain": [
       "'HELLO WORLD!'"
      ]
     },
     "execution_count": 95,
     "metadata": {},
     "output_type": "execute_result"
    }
   ],
   "source": [
    "#Convert a string to uppercase without using .upper().\n",
    "\n",
    "string = \"hello world\"\n",
    "ord('a') #ASCII value of a is 97\n",
    "ord('A') #ASCII value of A is 65\n",
    "\n",
    "#method 1\n",
    "a = ''\n",
    "for i in string:\n",
    "    #print(i)\n",
    "    #print('ord',ord(i)-32, 'chr',chr(ord(i)-32))\n",
    "    print(chr(ord(i)-32))\n",
    "    a = a+chr(ord(i)-32)\n",
    "\n",
    "print(a)\n",
    "\n",
    "\n",
    "#method 2\n",
    "''.join([(chr(ord(i)-32)) for i in string])\n",
    "\n",
    "\n",
    "#method 3 \n",
    "h = {chr(i): chr(i-32) for i in range(97,123)}\n",
    "\n",
    "string = 'hello world!'\n",
    "\n",
    "\"\".join([h[i] if i in h else i for i in string])"
   ]
  },
  {
   "cell_type": "code",
   "execution_count": 113,
   "metadata": {},
   "outputs": [
    {
     "data": {
      "text/plain": [
       "'HELLO WORLD!'"
      ]
     },
     "execution_count": 113,
     "metadata": {},
     "output_type": "execute_result"
    }
   ],
   "source": [
    "#Try converting a mixed-case string to uppercase without upper() Example:\n",
    "\n",
    "string = \"HeLLo WoRLd!\"\n",
    "\n",
    "''.join([i if ord(i)<97 else chr(ord(i)-32) for i in string])\n"
   ]
  },
  {
   "cell_type": "code",
   "execution_count": 159,
   "metadata": {},
   "outputs": [
    {
     "data": {
      "text/plain": [
       "'hEllO wOrlD!'"
      ]
     },
     "execution_count": 159,
     "metadata": {},
     "output_type": "execute_result"
    }
   ],
   "source": [
    "#Modify this approach to handle both lowercase and uppercase characters, so that: Lowercase letters become uppercase and Uppercase letters become lowercase.\n",
    "string = \"HeLLo WoRLd!\"\n",
    "\n",
    "''.join([chr(ord(i)+32) if ord(i)>=65 and ord(i)<97\n",
    "else chr(ord(i)-32) if ord(i)>97 and ord(i)<122\n",
    "else i\n",
    "        for i in string])\n",
    "\n",
    "\n",
    "#optimized\n",
    "''.join([chr(ord(i)+32) if 65<=ord(i)<97\n",
    "else chr(ord(i)-32) if 97<ord(i)<122\n",
    "else i\n",
    "        for i in string])"
   ]
  },
  {
   "cell_type": "code",
   "execution_count": null,
   "metadata": {},
   "outputs": [],
   "source": [
    "2️⃣ Operators & Conditionals\n",
    "\n",
    "Check if a number is even or odd using the ternary operator.\n",
    "\n",
    "Find the largest of three numbers.\n",
    "\n",
    "Write a program to check if a number is positive, negative, or zero."
   ]
  },
  {
   "cell_type": "code",
   "execution_count": null,
   "metadata": {},
   "outputs": [
    {
     "name": "stdout",
     "output_type": "stream",
     "text": [
      "1 is an odd number\n",
      "2 is a even number\n",
      "3 is an odd number\n",
      "4 is a even number\n"
     ]
    },
    {
     "data": {
      "text/plain": [
       "['1 is an odd number',\n",
       " '2 is a even number',\n",
       " '3 is an odd number',\n",
       " '4 is a even number']"
      ]
     },
     "execution_count": 179,
     "metadata": {},
     "output_type": "execute_result"
    }
   ],
   "source": [
    "#Check if a number is even or odd using the ternary operator.\n",
    "\n",
    "#first approach - modulus operator\n",
    "a = [i for i in range(1,5)]\n",
    "\n",
    "for i in a:\n",
    "    if i%2==0:\n",
    "        print(f'{i} is a even number')\n",
    "\n",
    "    else:\n",
    "        print(f'{i} is an odd number')\n",
    "\n",
    "#optimized\n",
    "[f'{i} is a even number' if i%2==0 else f'{i} is an odd number' for i in range(1,5)]\n",
    "\n"
   ]
  },
  {
   "cell_type": "code",
   "execution_count": null,
   "metadata": {},
   "outputs": [
    {
     "data": {
      "text/plain": [
       "['1 odd no',\n",
       " '2 even no',\n",
       " '3 odd no',\n",
       " '4 even no',\n",
       " '5 odd no',\n",
       " '6 even no',\n",
       " '7 odd no',\n",
       " '8 even no',\n",
       " '9 odd no']"
      ]
     },
     "execution_count": 191,
     "metadata": {},
     "output_type": "execute_result"
    }
   ],
   "source": [
    "#second approach - checking by dividing the number equal to the floor division of the number\n",
    "[f'{i} even no' if i/2==i//2 else f'{i} odd no' for i in range(1,10)]\n"
   ]
  },
  {
   "cell_type": "code",
   "execution_count": null,
   "metadata": {},
   "outputs": [
    {
     "data": {
      "text/plain": [
       "['1 odd no', 2, '3 odd no', 4, '5 odd no', 6, '7 odd no', 8, '9 odd no']"
      ]
     },
     "execution_count": 220,
     "metadata": {},
     "output_type": "execute_result"
    }
   ],
   "source": [
    "# third approach - using in built method to check\n",
    "[i if (i/2).is_integer() else f'{i} odd no' for i in range(1,10)]"
   ]
  },
  {
   "cell_type": "code",
   "execution_count": null,
   "metadata": {},
   "outputs": [
    {
     "data": {
      "text/plain": [
       "['odd', 2, 'odd', 4, 'odd', 6, 'odd', 8, 'odd']"
      ]
     },
     "execution_count": 240,
     "metadata": {},
     "output_type": "execute_result"
    }
   ],
   "source": [
    "#fourth approach - dividing the number with floor division and multiplying by 2\n",
    "[i if i==(i//2)*2 else 'odd' for i in range(1,10)]"
   ]
  },
  {
   "cell_type": "code",
   "execution_count": null,
   "metadata": {},
   "outputs": [
    {
     "name": "stdout",
     "output_type": "stream",
     "text": [
      "Even\n"
     ]
    }
   ],
   "source": [
    "#fiveth approach - where we are subracting the number using the range till it reach zero or one\n",
    "n = 4\n",
    "while n > 1:\n",
    "    n -= 2\n",
    "print(\"Even\" if n == 0 else \"Odd\")\n",
    "\n",
    "['even' if i==0 else 'odd' if i==1 else None for i in range(n,-1,-2) if i in (0,1)]\n"
   ]
  },
  {
   "cell_type": "code",
   "execution_count": null,
   "metadata": {},
   "outputs": [
    {
     "name": "stdout",
     "output_type": "stream",
     "text": [
      "102 b\n",
      "102 is the largest\n"
     ]
    },
    {
     "data": {
      "text/plain": [
       "102"
      ]
     },
     "execution_count": 310,
     "metadata": {},
     "output_type": "execute_result"
    }
   ],
   "source": [
    "# Find the largest of three numbers.\n",
    "a,b,c = 102,102,90\n",
    "\n",
    "#first approach - using normal conditions a>b and a>c and b>c\n",
    "print(f'{a} a' if a>b and a>c else f'{b} b' if b>c else f'{c} c')\n",
    "\n",
    "#second approach - using for loop comparing an value with other three\n",
    "a, b, c = 102, 102, 9\n",
    "largest = [x for x in [a, b, c] if (x >= a and x >= b and x >= c)][0]\n",
    "print(f'{largest} is the largest')\n",
    "\n",
    "#third approach - inbulit \n",
    "max(a,b,c)\n",
    "\n",
    "#fourth approach - comparing two values at a time and then matching that with the remaining one\n",
    "a, b, c = 10, 102, 9\n",
    "largest = [x for x in [(a if a > b else b), c] if x >= c][0]\n",
    "print(f'{largest} is the largest')"
   ]
  },
  {
   "cell_type": "code",
   "execution_count": 364,
   "metadata": {},
   "outputs": [
    {
     "name": "stdout",
     "output_type": "stream",
     "text": [
      "negative\n",
      "negative\n",
      "negative\n",
      "positive\n"
     ]
    }
   ],
   "source": [
    "# Write a program to check if a number is positive, negative, or zero.\n",
    "\n",
    "#first approach\n",
    "a=-9\n",
    "print('positive' if a>0 else 'negative' if a<0 else 'zero' if a==0 else None)\n",
    "\n",
    "#second approach\n",
    "a=-798\n",
    "print('zero' if a==0 else 'positive' if a/abs(a)==1 else 'negative')\n",
    "\n",
    "#third approach\n",
    "a=-10\n",
    "print('zero' if a==0 else 'positive' if ((a**2)**0.5)==a else 'negative')\n",
    "\n",
    "#fourth approach\n",
    "a = 10\n",
    "result = (\"zero\" * (a * a == 0)) + (\"positive\" * (a * -1 != abs(a))) + (\"negative\" * (a * -1 == abs(a)))\n",
    "print(result)\n"
   ]
  },
  {
   "cell_type": "code",
   "execution_count": null,
   "metadata": {},
   "outputs": [],
   "source": [
    "3️⃣ Loops & List Comprehension\n",
    "\n",
    "Print the Fibonacci series up to n terms.\n",
    "\n",
    "Count the number of vowels in a given string.\n",
    "\n",
    "Print all prime numbers in a given range."
   ]
  },
  {
   "cell_type": "code",
   "execution_count": 393,
   "metadata": {},
   "outputs": [
    {
     "name": "stdout",
     "output_type": "stream",
     "text": [
      "0\n",
      "1\n",
      "1\n",
      "2\n",
      "3\n",
      "5\n",
      "8\n",
      "13\n",
      "21\n",
      "34\n",
      "55\n",
      "89\n",
      "144\n",
      "233\n",
      "377\n"
     ]
    }
   ],
   "source": [
    "#Print the Fibonacci series up to n terms.\n",
    "n=15\n",
    "a,b = 0,1\n",
    "for i in range(n):\n",
    "    print(a)\n",
    "    c = a + b  # Calculate next Fibonacci number\n",
    "    a = b  # Move `a` to next position\n",
    "    b = c  # Move `b` to next position"
   ]
  },
  {
   "cell_type": "code",
   "execution_count": null,
   "metadata": {},
   "outputs": [
    {
     "data": {
      "text/plain": [
       "'d c*(ba'"
      ]
     },
     "execution_count": 120,
     "metadata": {},
     "output_type": "execute_result"
    }
   ],
   "source": [
    "#Reverse a String (Preserve Space) \n",
    "\n",
    "letters = 'a b c d'\n",
    "letters[::-1]\n",
    "\n",
    "letters = \"a  @ b c d\"\n",
    "letters[::-1]\n",
    "\n",
    "#method 2 - has a edge case will not work\n",
    "letters = 'abcd'\n",
    "''.join([letters[i] for i in range(-1,-len(letters)-1,-1)])\n",
    "\n",
    "#method 3 - has a edge case will not work\n",
    "letters = 'abcd'\n",
    "new = [i for i in letters]\n",
    "''.join([new.pop() for i in range(len(new))])\n",
    "\n",
    "#method 4 - preserves space\n",
    "letters = 'a b c &d'\n",
    "new_one = [i for i in letters if 65<=ord(i)<=122]\n",
    "reversed_letters = [new_one.pop() for i in range(len(new_one))]\n",
    "''.join([reversed_letters.pop(0) if 65<=ord(i)<=122 else i for i in letters])\n",
    "#same\n",
    "letters = 'a b c &d'\n",
    "new_one = [i for i in letters if 65<=ord(i)<=122]\n",
    "reversed_letters = [new_one.pop() if ord(i)==65<=ord(i)<=122 else i for i in letters]\n",
    "\n",
    "#method 5 - preserves space\n",
    "letters = 'a b*(cd'\n",
    "new_one = [i for i in letters if 65<=ord(i)<=122]\n",
    "reversed_letters = iter([new_one.pop() for i in range(len(new_one))])\n",
    "''.join([next(reversed_letters) if 65<=ord(i)<=122 else i for i in letters])\n",
    "\n",
    "# method 6 - two pointer approach\n",
    "s = \"a b @@ cd\"\n",
    "char_list = list(s)  # Convert string to list\n",
    "left, right = 0, len(char_list) - 1  # Two pointers\n",
    "\n",
    "while left < right:\n",
    "    if not 65<=ord(char_list[left])<=122:\n",
    "        left += 1\n",
    "        continue\n",
    "\n",
    "    if not 65<=ord(char_list[right])<=122:\n",
    "        right -= 1\n",
    "        continue\n",
    "\n",
    "    # Swap letters\n",
    "    char_list[left], char_list[right] = char_list[right], char_list[left]\n",
    "\n",
    "    left += 1\n",
    "    right -= 1\n",
    "\n",
    "char_list\n",
    "# Store result in a variable\n",
    "result = \"\".join(char_list)\n",
    "print(result)  # Output: \"d c ba\"\n"
   ]
  },
  {
   "cell_type": "code",
   "execution_count": null,
   "metadata": {},
   "outputs": [
    {
     "name": "stdout",
     "output_type": "stream",
     "text": [
      "(2, 7) 1,2\n"
     ]
    }
   ],
   "source": [
    "#Two Sum problem\n",
    "\n",
    "#1. Hash Map Approach (Efficient O(n) Solution)\n",
    "# Given list of numbers\n",
    "numbers = [7, 5, 3, 9, 23, 4, 1]\n",
    "target = 10\n",
    "\n",
    "# Dictionary to store {number: index}\n",
    "hash_map = {}\n",
    "\n",
    "# Loop through numbers with index\n",
    "for index, num in enumerate(numbers):\n",
    "    difference = target - num  # Find required complement\n",
    "    \n",
    "    if difference in hash_map:  # Check if complement exists\n",
    "        print(f'Index 1: {hash_map[difference]}, Value: {difference}')\n",
    "        print(f'Index 2: {index}, Value: {num}')\n",
    "        break  # Stop after finding the first pair\n",
    "    \n",
    "    # Store the current number with its index\n",
    "    hash_map[num] = index  \n",
    "\n",
    "\n",
    "#2. Brute Force Approach (O(n²) Solution)\n",
    "# Given list of numbers\n",
    "nums = [1, 2, 7, 11, 15]\n",
    "target = 9\n",
    "\n",
    "# Loop through all pairs\n",
    "for i in range(len(nums)):\n",
    "    for j in range(i+1, len(nums)):  # Start from i+1 to avoid duplicate pairs\n",
    "        if nums[i] + nums[j] == target:\n",
    "            print(f'Pair: ({nums[i]}, {nums[j]}) found at indices {i} and {j}')\n",
    "            break  # Stop after finding the first valid pair\n",
    "\n",
    "\n",
    "#3. Two Pointers Approach (O(n log n) or O(n) Solution)\n",
    "# Given sorted list (or sort it first)\n",
    "nums = [1, 2, 7, 11, 15]\n",
    "target = 9\n",
    "\n",
    "left, right = 0, len(nums) - 1  # Two pointers\n",
    "iterations = 0  # Track iterations\n",
    "\n",
    "while left < right:\n",
    "    iterations += 1\n",
    "    current_sum = nums[left] + nums[right]\n",
    "\n",
    "    if current_sum == target:\n",
    "        print(f\"Pair found: {nums[left]}, {nums[right]}\")\n",
    "        break  # Stop after finding the first pair\n",
    "\n",
    "    elif current_sum > target:\n",
    "        right -= 1  # Move right pointer left (reduce sum)\n",
    "\n",
    "    else:\n",
    "        left += 1  # Move left pointer right (increase sum)\n",
    "\n",
    "print(f\"Total iterations: {iterations}\")\n"
   ]
  },
  {
   "cell_type": "code",
   "execution_count": null,
   "metadata": {},
   "outputs": [],
   "source": [
    "# Generates Fibonacci numbers iteratively using two variables (a and b).\n",
    "# Efficient in terms of space complexity (O(1)).\n",
    "# Prints the first 5 Fibonacci numbers.\n",
    "\n",
    "#Method 1: Iterative Approach (Using Variables)\n",
    "a, b = 0, 1  # Initial values\n",
    "\n",
    "for i in range(5):  \n",
    "    print(a, end=\" \")  # Print the current Fibonacci number\n",
    "    c = a + b  # Compute the next Fibonacci number\n",
    "    a, b = c, a  # Update values\n",
    "\n",
    "# Output: 0 1 1 2 3\n",
    "\n",
    "\n",
    "#Method 2: List Comprehension\n",
    "# Generates the Fibonacci sequence using list comprehension.\n",
    "# Uses a list `series` to store the Fibonacci numbers dynamically.\n",
    "\n",
    "series = [0, 1]  # Initializing with base cases\n",
    "\n",
    "# Appends the next number in the series by adding the last two numbers\n",
    "[series.append(series[-1] + series[-2]) for i in range(10)]\n",
    "\n",
    "print(series)  # Output: [0, 1, 1, 2, 3, 5, 8, 13, 21, 34, 55]\n",
    "\n",
    "\n",
    "#Method 3: Recursive Approach (Basic Recursion)\n",
    "# Uses recursion to compute Fibonacci numbers.\n",
    "# Follows the mathematical recurrence relation.\n",
    "\n",
    "def fib(n):\n",
    "    if n == 0:\n",
    "        return 0\n",
    "    if n == 1:\n",
    "        return 1\n",
    "    return fib(n-1) + fib(n-2)  # Recursively compute the Fibonacci number\n",
    "\n",
    "# Generate first 5 Fibonacci numbers\n",
    "print([fib(i) for i in range(5)])  # Output: [0, 1, 1, 2, 3]\n",
    "\n",
    "\n",
    "#Method 4: Dynamic Programming (Bottom-Up Approach)\n",
    "# Uses dynamic programming to store computed values in a list (tabulation).\n",
    "# Avoids redundant calculations by building up results from base cases.\n",
    "\n",
    "def fib(n):\n",
    "    dp = [0, 1]  # Base cases\n",
    "    for i in range(2, n):  # Start computing from index 2\n",
    "        dp.append(dp[-1] + dp[-2])  # Store computed values in a list\n",
    "    return dp  # Return the entire Fibonacci series\n",
    "\n",
    "print(fib(10))  # Output: [0, 1, 1, 2, 3, 5, 8, 13, 21, 34]\n",
    "\n",
    "\n",
    "#Method 5: Memoization with lru_cache (Optimized Recursion)\n",
    "from functools import lru_cache\n",
    "\n",
    "# Uses Python’s built-in LRU (Least Recently Used) cache to store previous results.\n",
    "# Avoids redundant recursive calls, significantly improving performance.\n",
    "\n",
    "@lru_cache(maxsize=None)  # Decorator to enable memoization\n",
    "def fib(n):\n",
    "    if n < 2:\n",
    "        return n\n",
    "    return fib(n - 1) + fib(n - 2)  # Uses stored values to reduce redundant calls\n",
    "\n",
    "# Generate first 10 Fibonacci numbers\n",
    "print([fib(i) for i in range(10)])  # Output: [0, 1, 1, 2, 3, 5, 8, 13, 21, 34]\n",
    "\n",
    "\n",
    "\n",
    "#Method 6: Generator Approach (Lazy Evaluation)\n",
    "# Uses a generator to yield Fibonacci numbers on demand.\n",
    "# Saves memory by generating values one at a time.\n",
    "\n",
    "def fib_gen():\n",
    "    a, b = 0, 1\n",
    "    while True:  # Infinite loop to keep generating numbers\n",
    "        yield a\n",
    "        a, b = b, a + b  # Update Fibonacci values\n",
    "\n",
    "# Create generator instance\n",
    "gen = fib_gen()\n",
    "\n",
    "# Generate first 5 Fibonacci numbers\n",
    "print([next(gen) for _ in range(5)])  # Output: [0, 1, 1, 2, 3]\n",
    "\n",
    "\n",
    "#Method 7: Iterative Approach with List Storage\n",
    "# Uses an iterative approach but stores the entire Fibonacci sequence in a list.\n",
    "\n",
    "def fib(n):\n",
    "    a, b = 0, 1\n",
    "    result = [a, b]  # Initial values\n",
    "    for _ in range(n - 2):  # Already have 2 numbers, so loop n-2 times\n",
    "        a, b = b, a + b  # Compute next number\n",
    "        result.append(b)  # Append to list\n",
    "    return result\n",
    "\n",
    "print(fib(10))  # Output: [0, 1, 1, 2, 3, 5, 8, 13, 21, 34]\n",
    "\n",
    "If you only need Fibonacci numbers sequentially, use Method 6 (Generator).\n",
    "\n",
    "If you need all Fibonacci numbers up to n, use Method 4 (Dynamic Programming) or Method 7 (Iterative List Storage).\n",
    "\n",
    "If you need a recursive solution, Method 5 (Memoization) is much faster than naïve recursion.\n",
    "\n",
    "Method\tTime Complexity\tSpace Complexity\tPros\tCons\n",
    "Iterative (Variables)\tO(n)\tO(1)\tSimple, space-efficient\tCannot store series\n",
    "List Comprehension\tO(n)\tO(n)\tOne-liner\tNot recommended for readability\n",
    "Recursion (Naïve)\tO(2ⁿ)\tO(n)\tFollows math formula\tVery slow\n",
    "DP (Bottom-Up)\tO(n)\tO(n)\tEfficient\tUses extra space\n",
    "Memoization (lru_cache)\tO(n)\tO(n)\tOptimized recursion\tExtra memory usage\n",
    "Generator (Lazy Evaluation)\tO(n)\tO(1)\tSaves memory\tCannot access arbitrary elements\n",
    "Iterative (List Storage)\tO(n)\tO(n)\tSimple and efficient\tUses extra space"
   ]
  },
  {
   "cell_type": "code",
   "execution_count": null,
   "metadata": {},
   "outputs": [],
   "source": []
  },
  {
   "cell_type": "code",
   "execution_count": null,
   "metadata": {},
   "outputs": [],
   "source": []
  },
  {
   "cell_type": "code",
   "execution_count": null,
   "metadata": {},
   "outputs": [],
   "source": []
  }
 ],
 "metadata": {
  "kernelspec": {
   "display_name": "Python 3",
   "language": "python",
   "name": "python3"
  },
  "language_info": {
   "codemirror_mode": {
    "name": "ipython",
    "version": 3
   },
   "file_extension": ".py",
   "mimetype": "text/x-python",
   "name": "python",
   "nbconvert_exporter": "python",
   "pygments_lexer": "ipython3",
   "version": "3.11.8"
  }
 },
 "nbformat": 4,
 "nbformat_minor": 2
}
