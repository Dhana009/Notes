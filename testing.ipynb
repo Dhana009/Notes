{
 "cells": [
  {
   "cell_type": "code",
   "execution_count": null,
   "metadata": {},
   "outputs": [],
   "source": [
    "# testing "
   ]
  },
  {
   "cell_type": "code",
   "execution_count": null,
   "metadata": {},
   "outputs": [],
   "source": [
    "# give the parameters of the requests.post() method\n",
    "\n",
    "# url, data, json, headers, cookies, files, auth, timeout, allow_redirects, proxies, hooks, stream, verify, cert, json, timeout, allow_redirects, proxies, hooks, stream, verify, cert\n",
    "\n",
    "# url - the URL to which the request is sent\n",
    "# data - the data to be sent to the URL\n",
    "# json - a JSON object to be sent to the URL\n",
    "# headers - a dictionary of headers to be sent to the URL\n",
    "# cookies - a dictionary of cookies to be sent to the URL\n",
    "# files - a dictionary of files to be sent to the URL\n",
    "# auth - a tuple of username and password to be sent to the URL\n",
    "\n",
    "# requests.post(url, data={key: value}, json={key: value}, args)\n",
    "\n",
    "# requests.post(self.links.get_normal_location, params=payload) #why are we using params here? #params is used to pass the query string parameters to the URL\n",
    "\n"
   ]
  },
  {
   "cell_type": "code",
   "execution_count": null,
   "metadata": {},
   "outputs": [],
   "source": [
    "# response.json() - returns the JSON object of the result\n",
    "# response.text - returns the content of the result\n",
    "# response.content - returns the content of the result in bytes\n",
    "# response.status_code - returns the status code of the result\n",
    "# response.headers - returns the headers of the result\n",
    "# response.url - returns the URL of the result\n",
    "# response.request - returns the request of the result\n",
    "# response.raise_for_status() - raises an exception if the status code is not 200"
   ]
  },
  {
   "cell_type": "code",
   "execution_count": null,
   "metadata": {},
   "outputs": [],
   "source": []
  },
  {
   "cell_type": "code",
   "execution_count": null,
   "metadata": {},
   "outputs": [],
   "source": [
    "import requests\n",
    "import json\n",
    "\n",
    "# Step 1: Read the JSON payload from a local file\n",
    "with open('data.json', 'r') as file:\n",
    "    json_payload = json.load(file)\n",
    "\n",
    "# Step 2: Set up the URL and headers\n",
    "url = 'https://example.com/api/endpoint'\n",
    "headers = {\n",
    "    'Content-Type': 'application/json',\n",
    "    'Authorization': 'Bearer YOUR_AUTH_KEY',\n",
    "    'Custom-Header': 'CustomHeaderValue'\n",
    "}\n",
    "\n",
    "# Step 3: Prepare file upload\n",
    "files = {'file': open('report.xls', 'rb')}\n",
    "\n",
    "# Step 4: Additional form data\n",
    "form_data = {\n",
    "    'param1': 'value1',\n",
    "    'param2': 'value2'\n",
    "}\n",
    "\n",
    "# Step 5: Combine JSON payload and form data\n",
    "# Note: Usually, JSON payload and form data are not combined like this,\n",
    "#       this is just for demonstration purposes.\n",
    "data = {\n",
    "    'json_payload': json_payload,\n",
    "    'form_data': form_data\n",
    "}\n",
    "\n",
    "# Step 6: Make the POST request with timeout and verify SSL\n",
    "try:\n",
    "    response = requests.post(url, headers=headers, files=files, data=data, timeout=10, verify=True)\n",
    "\n",
    "    # Step 7: Verify the response\n",
    "    if response.status_code in [200, 201]:\n",
    "        print('Success:', response.json())  # Print the JSON content of the response\n",
    "    else:\n",
    "        print('Failed:', response.status_code, response.text)  # Print the status code and response text\n",
    "\n",
    "except requests.Timeout:\n",
    "    print('The request timed out')\n",
    "except requests.RequestException as e:\n",
    "    print(f'An error occurred: {e}')\n",
    "finally:\n",
    "    files['file'].close()  # Ensure the file is closed after the request\n"
   ]
  },
  {
   "cell_type": "code",
   "execution_count": null,
   "metadata": {},
   "outputs": [],
   "source": []
  },
  {
   "cell_type": "code",
   "execution_count": null,
   "metadata": {},
   "outputs": [],
   "source": []
  },
  {
   "cell_type": "code",
   "execution_count": null,
   "metadata": {},
   "outputs": [],
   "source": []
  },
  {
   "cell_type": "code",
   "execution_count": null,
   "metadata": {},
   "outputs": [],
   "source": []
  }
 ],
 "metadata": {
  "language_info": {
   "name": "python"
  }
 },
 "nbformat": 4,
 "nbformat_minor": 2
}
