{
 "cells": [
  {
   "cell_type": "code",
   "execution_count": null,
   "metadata": {},
   "outputs": [],
   "source": [
    "#docker ps : list the running containers\n",
    "#docker ps -a, -f, -l :  -f= filter, -l=last, -a=all : list all the containers\n",
    "#docker ps -a -q : list all the containers with only container id\n",
    "#docker ps -a -q | xargs docker rm : remove all the containers with only container id\n",
    "#docker ps -a -q | xargs docker rm -f : remove all the containers with only container id forcefully\n",
    "\n",
    "#docker images : list all the images\n",
    "#docker images -q : list all the images with only image id\n",
    "#docker images -f dangling=true : list all the images with dangling=true\n",
    "#docker images -f dangling=true -q : list all the images with dangling=true with only image id\n",
    "#docker images -f dangling=true -q | xargs docker rmi : remove all the images with dangling=true with only image id\n",
    "#docker images -f dangling=true -q | xargs docker rmi -f : remove all the images with dangling=true with only image id forcefully\n",
    "\n",
    "\n",
    "#docker start <container_id> : start the container with container id\n",
    "#docker stop <container_id> : stop the container with container id\n",
    "#docker restart <container_id> : restart the container with container id\n",
    "#docker pause <container_id> : pause the container with container id\n",
    "\n",
    "#docker logs <container_id> : fetch the logs of the container with container id\n",
    "#docker logs -f <container_id> : fetch and follow the logs of the container with container id\n",
    "#docker logs -f <container_id> --tail 10 : fetch and follow the last 10 logs of the container with container id\n",
    "#docker logs -f <container_id> --since 1m : fetch and follow the logs of the container with container id since 1 minute\n",
    "#docker logs -f <container_id> --until 1m : fetch and follow the logs of the container with container id until 1 minute\n",
    "\n",
    "#docker build . : build the image from the Dockerfile in the current directory\n",
    "#docker build -t <image_name> . : build the image with the name <image_name> from the Dockerfile in the current directory\n",
    "#docker build -t <image_name> . --no-cache : build the image with the name <image_name> from the Dockerfile in the current directory without cache\n",
    "# -t : tag the image with the name <image_name>\n",
    "\n",
    "#docker run <image_name> : run the container from the image with the name <image_name>\n",
    "#docker run -d <image_name> : run the container from the image with the name <image_name> in the background\n",
    "#docker run -d -p <host_port>:<container_port> <image_name> : run the container from the image with the name <image_name> in the background and publish the container port to the host port\n",
    "#docker run --rm <image_name> : run the container from the image with the name <image_name> and remove the container after it exits\n",
    "\n",
    "#docker run -it <image_name> : run the container from the image with the name <image_name> in the interactive mode\n",
    "#docker run -it <image_name> sh : run the container from the image with the name <image_name> in the interactive mode with shell\n",
    "\n",
    "\n",
    "#docker start -a -i <container_id> : start the container with the container id in the interactive mode and attach the terminal\n",
    "\n",
    "#docker rm <container_name> <container_name> : remove the container with the container_name\n",
    "#docker rm -f <container_id> : remove the container with the container id forcefully\n",
    "\n",
    "#docker rmi <image_name> : remove the image with the image name\n",
    "#docker rmi -f <image_id> : remove the image with the image id forcefully\n",
    "#docker image prune : remove all the unused images\n",
    "\n",
    "#remove all the containers\n",
    "#docker rm -f $(docker ps -a -q) #working powershell\n",
    "\n",
    "#remove all the images\n",
    "#docker rmi -f $(docker images -q) #working powershell # -q flag to print only the image id\n",
    "\n",
    "\n",
    "#docker cp dummy/. <container_id>:/test  - copy the files from the dummy directory to the container in the /test directory #local to container\n",
    "#docker cp <container_id>:/test/. dummy - copy the files from the container in the /test directory to the dummy directory #container to local\n",
    "\n",
    "#docker build -t <image_name>:<tag> . : build the image with the name <image_name> and tag <tag> from the Dockerfile in the current directory\n",
    "#docker run <image_name>:<tag> : run the container from the image with the name <image_name> and tag <tag>\n",
    "\n",
    "#example \n",
    "#docker build -t myimage:1.0 .\n",
    "#docker run myimage:1.0\n",
    "\n"
   ]
  },
  {
   "cell_type": "code",
   "execution_count": null,
   "metadata": {},
   "outputs": [],
   "source": []
  },
  {
   "cell_type": "code",
   "execution_count": null,
   "metadata": {},
   "outputs": [],
   "source": []
  },
  {
   "cell_type": "code",
   "execution_count": null,
   "metadata": {},
   "outputs": [],
   "source": []
  }
 ],
 "metadata": {
  "kernelspec": {
   "display_name": "base",
   "language": "python",
   "name": "python3"
  },
  "language_info": {
   "codemirror_mode": {
    "name": "ipython",
    "version": 3
   },
   "file_extension": ".py",
   "mimetype": "text/x-python",
   "name": "python",
   "nbconvert_exporter": "python",
   "pygments_lexer": "ipython3",
   "version": "3.11.7"
  }
 },
 "nbformat": 4,
 "nbformat_minor": 2
}
